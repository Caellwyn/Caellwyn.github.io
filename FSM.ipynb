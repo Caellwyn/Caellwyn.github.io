{
 "cells": [
  {
   "cell_type": "code",
   "execution_count": 137,
   "metadata": {},
   "outputs": [],
   "source": [
    "import pandas as pd\n",
    "import numpy as np\n",
    "from sklearn.linear_model import LogisticRegression\n",
    "from sklearn.model_selection import GridSearchCV\n",
    "from sklearn.naive_bayes import GaussianNB\n",
    "from sklearn.tree import DecisionTreeClassifier\n",
    "from sklearn.ensemble import RandomForestClassifier\n",
    "from sklearn.pipeline import Pipeline\n",
    "from sklearn.preprocessing import OneHotEncoder\n",
    "from sklearn.preprocessing import StandardScaler\n",
    "from sklearn.compose import ColumnTransformer\n",
    "from sklearn.model_selection import train_test_split\n",
    "from sklearn.model_selection import cross_val_score\n",
    "from sklearn.model_selection import KFold\n",
    "from sklearn.metrics import confusion_matrix, accuracy_score, classification_report, recall_score, \\\n",
    "make_scorer\n",
    "from sklearn.preprocessing import LabelBinarizer, LabelEncoder\n",
    "import seaborn as sns\n",
    "import matplotlib.pyplot as plt\n",
    "%matplotlib inline\n",
    "sns.set_style('whitegrid')"
   ]
  },
  {
   "cell_type": "code",
   "execution_count": 138,
   "metadata": {},
   "outputs": [],
   "source": [
    "def fail_recall(y_true,y_pred):\n",
    "    \"\"\"\n",
    "    uses sklearn.metrics.recall_score() to return the recall score of\n",
    "    non functioning wells.\n",
    "    Takes single column array or dataframe of true labels\n",
    "    and one of predictions \n",
    "    returns recall score of class 0.\n",
    "    \"\"\"\n",
    "    \n",
    "    return recall_score(y_true,y_pred,average=None)[0]\n",
    "\n",
    "recaller = make_scorer(fail_recall)"
   ]
  },
  {
   "cell_type": "markdown",
   "metadata": {},
   "source": [
    "## Drop the irrelevant columns, "
   ]
  },
  {
   "cell_type": "code",
   "execution_count": 80,
   "metadata": {},
   "outputs": [
    {
     "data": {
      "text/html": [
       "<div>\n",
       "<style scoped>\n",
       "    .dataframe tbody tr th:only-of-type {\n",
       "        vertical-align: middle;\n",
       "    }\n",
       "\n",
       "    .dataframe tbody tr th {\n",
       "        vertical-align: top;\n",
       "    }\n",
       "\n",
       "    .dataframe thead th {\n",
       "        text-align: right;\n",
       "    }\n",
       "</style>\n",
       "<table border=\"1\" class=\"dataframe\">\n",
       "  <thead>\n",
       "    <tr style=\"text-align: right;\">\n",
       "      <th></th>\n",
       "      <th>gender</th>\n",
       "      <th>highest_education</th>\n",
       "      <th>age_band</th>\n",
       "      <th>num_of_prev_attempts</th>\n",
       "      <th>disability</th>\n",
       "      <th>final_result</th>\n",
       "      <th>date_registration</th>\n",
       "      <th>avg_daily_activities</th>\n",
       "      <th>mean_clicks_per_day</th>\n",
       "      <th>pct_days_studied</th>\n",
       "    </tr>\n",
       "  </thead>\n",
       "  <tbody>\n",
       "    <tr>\n",
       "      <th>0</th>\n",
       "      <td>M</td>\n",
       "      <td>HE Qualification</td>\n",
       "      <td>55&lt;=</td>\n",
       "      <td>0</td>\n",
       "      <td>N</td>\n",
       "      <td>Pass</td>\n",
       "      <td>-159.0</td>\n",
       "      <td>4.695652</td>\n",
       "      <td>25.521739</td>\n",
       "      <td>0.255556</td>\n",
       "    </tr>\n",
       "    <tr>\n",
       "      <th>1</th>\n",
       "      <td>F</td>\n",
       "      <td>HE Qualification</td>\n",
       "      <td>35-55</td>\n",
       "      <td>0</td>\n",
       "      <td>N</td>\n",
       "      <td>Pass</td>\n",
       "      <td>-53.0</td>\n",
       "      <td>6.388889</td>\n",
       "      <td>22.805556</td>\n",
       "      <td>0.400000</td>\n",
       "    </tr>\n",
       "    <tr>\n",
       "      <th>2</th>\n",
       "      <td>F</td>\n",
       "      <td>A Level or Equivalent</td>\n",
       "      <td>35-55</td>\n",
       "      <td>0</td>\n",
       "      <td>N</td>\n",
       "      <td>Pass</td>\n",
       "      <td>-52.0</td>\n",
       "      <td>5.803922</td>\n",
       "      <td>19.450980</td>\n",
       "      <td>0.566667</td>\n",
       "    </tr>\n",
       "    <tr>\n",
       "      <th>3</th>\n",
       "      <td>F</td>\n",
       "      <td>Lower Than A Level</td>\n",
       "      <td>0-35</td>\n",
       "      <td>0</td>\n",
       "      <td>N</td>\n",
       "      <td>Pass</td>\n",
       "      <td>-176.0</td>\n",
       "      <td>5.400000</td>\n",
       "      <td>19.542857</td>\n",
       "      <td>0.388889</td>\n",
       "    </tr>\n",
       "    <tr>\n",
       "      <th>4</th>\n",
       "      <td>M</td>\n",
       "      <td>A Level or Equivalent</td>\n",
       "      <td>35-55</td>\n",
       "      <td>0</td>\n",
       "      <td>N</td>\n",
       "      <td>Pass</td>\n",
       "      <td>-110.0</td>\n",
       "      <td>5.206897</td>\n",
       "      <td>18.275862</td>\n",
       "      <td>0.644444</td>\n",
       "    </tr>\n",
       "  </tbody>\n",
       "</table>\n",
       "</div>"
      ],
      "text/plain": [
       "  gender      highest_education age_band  num_of_prev_attempts disability  \\\n",
       "0      M       HE Qualification     55<=                     0          N   \n",
       "1      F       HE Qualification    35-55                     0          N   \n",
       "2      F  A Level or Equivalent    35-55                     0          N   \n",
       "3      F     Lower Than A Level     0-35                     0          N   \n",
       "4      M  A Level or Equivalent    35-55                     0          N   \n",
       "\n",
       "  final_result  date_registration  avg_daily_activities  mean_clicks_per_day  \\\n",
       "0         Pass             -159.0              4.695652            25.521739   \n",
       "1         Pass              -53.0              6.388889            22.805556   \n",
       "2         Pass              -52.0              5.803922            19.450980   \n",
       "3         Pass             -176.0              5.400000            19.542857   \n",
       "4         Pass             -110.0              5.206897            18.275862   \n",
       "\n",
       "   pct_days_studied  \n",
       "0          0.255556  \n",
       "1          0.400000  \n",
       "2          0.566667  \n",
       "3          0.388889  \n",
       "4          0.644444  "
      ]
     },
     "execution_count": 80,
     "metadata": {},
     "output_type": "execute_result"
    }
   ],
   "source": [
    "df = pd.read_csv('content/regs_with_activity_stats.csv')\n",
    "df.drop(columns = ['id_student','code_module','code_presentation','module_presentation_length',\n",
    "                  'total_days_studied'], inplace = True)\n",
    "df.loc[df['final_result'] == 'Withdrawn', 'final_result'] = 'Fail'\n",
    "df.loc[df['final_result'] == 'Distinction', 'final_result'] = 'Pass'\n",
    "df.head()"
   ]
  },
  {
   "cell_type": "markdown",
   "metadata": {},
   "source": [
    "## Preprocessing"
   ]
  },
  {
   "cell_type": "code",
   "execution_count": 143,
   "metadata": {},
   "outputs": [],
   "source": [
    "X = df.drop(columns = ['final_result'])\n",
    "y = df['final_result']\n",
    "binarizer = LabelEncoder()\n",
    "y = binarizer.fit_transform(y)\n",
    "\n",
    "X_train, X_test, y_train, y_test = train_test_split(X,y, random_state=111, test_size=0.2)"
   ]
  },
  {
   "cell_type": "code",
   "execution_count": 144,
   "metadata": {},
   "outputs": [
    {
     "data": {
      "text/plain": [
       "array([1, 1, 1, 1])"
      ]
     },
     "execution_count": 144,
     "metadata": {},
     "output_type": "execute_result"
    }
   ],
   "source": [
    "y[:4]"
   ]
  },
  {
   "cell_type": "code",
   "execution_count": 145,
   "metadata": {},
   "outputs": [
    {
     "data": {
      "text/plain": [
       "array(['Fail', 'Pass'], dtype=object)"
      ]
     },
     "execution_count": 145,
     "metadata": {},
     "output_type": "execute_result"
    }
   ],
   "source": [
    "binarizer.classes_"
   ]
  },
  {
   "cell_type": "code",
   "execution_count": 146,
   "metadata": {},
   "outputs": [],
   "source": [
    "categoricals = X.select_dtypes(include = 'object').columns\n",
    "numericals = X.select_dtypes(include = 'number').columns\n",
    "transformers = [('ohe', OneHotEncoder(sparse = False, drop= 'first'), categoricals),\n",
    "                 ('scaler', StandardScaler(), numericals)]\n",
    "col_transformer = ColumnTransformer(transformers = transformers)\n",
    "\n",
    "cv = KFold(n_splits = 5, shuffle = True, random_state = 111)"
   ]
  },
  {
   "cell_type": "markdown",
   "metadata": {},
   "source": [
    "# FSM"
   ]
  },
  {
   "cell_type": "code",
   "execution_count": 147,
   "metadata": {},
   "outputs": [
    {
     "data": {
      "text/plain": [
       "array([0.66139161, 0.6729465 , 0.66063803, 0.66415473, 0.66239638])"
      ]
     },
     "execution_count": 147,
     "metadata": {},
     "output_type": "execute_result"
    }
   ],
   "source": [
    "LRpipeline = Pipeline(steps = [('processor', col_transformer),\n",
    "                             ('model', LogisticRegression(class_weight='balanced'))])\n",
    "\n",
    "LRscores = cross_val_score(LRpipeline, X_train, y_train,\n",
    "                        scoring = recaller,\n",
    "                        cv = cv,\n",
    "                        n_jobs = -1)\n",
    "scores"
   ]
  },
  {
   "cell_type": "code",
   "execution_count": 148,
   "metadata": {},
   "outputs": [
    {
     "data": {
      "text/plain": [
       "array([0.69214876, 0.64353831])"
      ]
     },
     "execution_count": 148,
     "metadata": {},
     "output_type": "execute_result"
    }
   ],
   "source": [
    "recall_score(y_test,y_pred, average=None)"
   ]
  },
  {
   "cell_type": "code",
   "execution_count": 149,
   "metadata": {},
   "outputs": [
    {
     "data": {
      "text/plain": [
       "array([[0.69214876, 0.30785124],\n",
       "       [0.35646169, 0.64353831]])"
      ]
     },
     "execution_count": 149,
     "metadata": {},
     "output_type": "execute_result"
    }
   ],
   "source": [
    "confusion_matrix(y_test,y_pred, normalize = 'true')"
   ]
  },
  {
   "cell_type": "markdown",
   "metadata": {},
   "source": [
    "# Other Models"
   ]
  },
  {
   "cell_type": "markdown",
   "metadata": {},
   "source": [
    "### Logistic Regression"
   ]
  },
  {
   "cell_type": "code",
   "execution_count": 153,
   "metadata": {},
   "outputs": [
    {
     "name": "stderr",
     "output_type": "stream",
     "text": [
      "C:\\Users\\caell\\new_Anaconda3\\lib\\site-packages\\scipy\\optimize\\linesearch.py:327: LineSearchWarning: The line search algorithm did not converge\n",
      "  warn('The line search algorithm did not converge', LineSearchWarning)\n",
      "C:\\Users\\caell\\new_Anaconda3\\lib\\site-packages\\sklearn\\utils\\optimize.py:204: UserWarning: Line Search failed\n",
      "  warnings.warn('Line Search failed')\n",
      "C:\\Users\\caell\\new_Anaconda3\\lib\\site-packages\\scipy\\optimize\\linesearch.py:327: LineSearchWarning: The line search algorithm did not converge\n",
      "  warn('The line search algorithm did not converge', LineSearchWarning)\n",
      "C:\\Users\\caell\\new_Anaconda3\\lib\\site-packages\\sklearn\\utils\\optimize.py:204: UserWarning: Line Search failed\n",
      "  warnings.warn('Line Search failed')\n"
     ]
    },
    {
     "name": "stdout",
     "output_type": "stream",
     "text": [
      "best params {'model__class_weight': 'balanced', 'model__max_iter': 500, 'model__solver': 'liblinear', 'model__tol': 0.0001}\n",
      "mean_test_scores [0.7065627  0.7065627  0.7065627  0.7065627  0.50136452 0.50136452\n",
      " 0.50136452 0.50136452 0.70630279 0.70630279 0.70630279 0.70630279\n",
      " 0.70630279 0.70630279 0.7065627  0.7065627  0.7065627  0.7065627\n",
      " 0.7065627  0.7065627  0.70630279 0.70630279 0.70630279 0.70630279\n",
      " 0.70630279 0.70630279 0.7065627  0.7065627  0.7065627  0.7065627\n",
      " 0.7065627  0.7065627  0.50149448 0.50149448 0.50149448 0.50149448\n",
      " 0.50149448 0.50149448 0.50149448 0.50149448 0.50149448 0.50149448\n",
      " 0.50149448 0.50149448 0.50149448 0.50149448 0.50149448 0.50149448\n",
      " 0.50149448 0.50149448 0.50149448 0.50149448 0.50149448 0.50149448\n",
      " 0.50149448 0.50149448]\n"
     ]
    }
   ],
   "source": [
    "params = [{'model__solver':['liblinear'], 'model__tol':[1e-4,1e-5],\n",
    "           'model__class_weight':['balanced',None],'model__max_iter':[500,1000]},\n",
    "          {'model__solver':['sag','saga','newton-cg'], 'model__tol':[1e-4,1e-5],\n",
    "           'model__class_weight':['balanced',None],'model__max_iter':[500,1000],\n",
    "          'model__penalty':['none', 'l2']}]\n",
    "\n",
    "LRpipeline = Pipeline(steps = [('processor', col_transformer),\n",
    "                             ('model', LogisticRegression(class_weight='balanced'))])\n",
    "\n",
    "LRclf = GridSearchCV(LRpipeline, params, scoring = recaller)\n",
    "\n",
    "LRclf.fit(X_train,y_train.reshape(-1,))\n",
    "\n",
    "print('best params', LRclf.best_params_)\n",
    "print('mean_test_scores', LRclf.cv_results_['mean_test_score'])"
   ]
  },
  {
   "cell_type": "code",
   "execution_count": 156,
   "metadata": {},
   "outputs": [
    {
     "name": "stdout",
     "output_type": "stream",
     "text": [
      "              precision    recall  f1-score   support\n",
      "\n",
      "           0       0.55      0.69      0.61      1936\n",
      "           1       0.77      0.64      0.70      3041\n",
      "\n",
      "    accuracy                           0.66      4977\n",
      "   macro avg       0.66      0.67      0.66      4977\n",
      "weighted avg       0.68      0.66      0.67      4977\n",
      "\n"
     ]
    },
    {
     "data": {
      "text/plain": [
       "<matplotlib.axes._subplots.AxesSubplot at 0x158781a5610>"
      ]
     },
     "execution_count": 156,
     "metadata": {},
     "output_type": "execute_result"
    },
    {
     "data": {
      "image/png": "[encoded data removed]",
      "text/plain": [
       "<Figure size 432x288 with 2 Axes>"
      ]
     },
     "metadata": {},
     "output_type": "display_data"
    }
   ],
   "source": [
    "y_pred = LRclf.predict(X_test)\n",
    "print(classification_report(y_test,y_pred))\n",
    "sns.heatmap(confusion_matrix(y_test,y_pred, normalize = 'true'),\n",
    "           xticklabels = binarizer.classes_,\n",
    "           yticklabels = binarizer.classes_,\n",
    "           annot = True)"
   ]
  },
  {
   "cell_type": "markdown",
   "metadata": {},
   "source": [
    "### Gaussian Naive Bayes"
   ]
  },
  {
   "cell_type": "code",
   "execution_count": 157,
   "metadata": {},
   "outputs": [
    {
     "data": {
      "text/plain": [
       "array([0.60025221, 0.64190094, 0.57151899, 0.60496311, 0.64572539])"
      ]
     },
     "execution_count": 157,
     "metadata": {},
     "output_type": "execute_result"
    }
   ],
   "source": [
    "GNBpipeline = Pipeline(steps = [('processor', col_transformer),\n",
    "                               ('model', GaussianNB())])\n",
    "GNBscores = cross_val_score(GNBpipeline, X_train, y_train,\n",
    "                        scoring = recaller,\n",
    "                        cv = cv,\n",
    "                        n_jobs = -1)\n",
    "GNBscores"
   ]
  },
  {
   "cell_type": "markdown",
   "metadata": {},
   "source": [
    "### Decision Tree"
   ]
  },
  {
   "cell_type": "code",
   "execution_count": 92,
   "metadata": {},
   "outputs": [
    {
     "data": {
      "text/plain": [
       "array([0.60838985, 0.61190656, 0.60437076, 0.60638031, 0.59708616])"
      ]
     },
     "execution_count": 92,
     "metadata": {},
     "output_type": "execute_result"
    }
   ],
   "source": [
    "DTpipeline = Pipeline(steps = [('processor', col_transformer),\n",
    "                               ('model', DecisionTreeClassifier())])\n",
    "DTscores = cross_val_score(DTpipeline, X_train, y_train,\n",
    "                        scoring = 'accuracy',\n",
    "                        cv = cv,\n",
    "                        n_jobs = -1)\n",
    "DTscores"
   ]
  },
  {
   "cell_type": "code",
   "execution_count": null,
   "metadata": {},
   "outputs": [],
   "source": [
    "params = {'model__criterion':['gini','entropy'],'model__splitter':['best','random'],\n",
    "         'model__max_depth':[5,10,20]}\n",
    "\n",
    "DTclf"
   ]
  },
  {
   "cell_type": "markdown",
   "metadata": {},
   "source": [
    "### Random Forest"
   ]
  },
  {
   "cell_type": "code",
   "execution_count": 93,
   "metadata": {},
   "outputs": [
    {
     "data": {
      "text/plain": [
       "array([0.67545843, 0.68952524, 0.67621201, 0.68952524, 0.67018337])"
      ]
     },
     "execution_count": 93,
     "metadata": {},
     "output_type": "execute_result"
    }
   ],
   "source": [
    "RFpipeline = Pipeline(steps = [('processor', col_transformer),\n",
    "                               ('model', RandomForestClassifier())])\n",
    "RFscores = cross_val_score(RFpipeline, X_train, y_train,\n",
    "                        scoring = 'accuracy',\n",
    "                        cv = cv,\n",
    "                        n_jobs = -1)\n",
    "RFscores"
   ]
  },
  {
   "cell_type": "code",
   "execution_count": 100,
   "metadata": {},
   "outputs": [
    {
     "name": "stdout",
     "output_type": "stream",
     "text": [
      "accuracy 0.6734980912196102\n"
     ]
    },
    {
     "data": {
      "text/plain": [
       "<matplotlib.axes._subplots.AxesSubplot at 0x15873927550>"
      ]
     },
     "execution_count": 100,
     "metadata": {},
     "output_type": "execute_result"
    },
    {
     "data": {
      "image/png": "[encoded data removed]",
      "text/plain": [
       "<Figure size 432x288 with 2 Axes>"
      ]
     },
     "metadata": {},
     "output_type": "display_data"
    }
   ],
   "source": [
    "RFpipeline.fit(X_train,y_train)\n",
    "y_pred = RFpipeline.predict(X_test)\n",
    "print('accuracy', accuracy_score(y_test,y_pred))\n",
    "confusion = confusion_matrix(y_test,y_pred, normalize = 'true')\n",
    "sns.heatmap(confusion, annot = True,\n",
    "           xticklabels = RFpipeline.classes_)"
   ]
  },
  {
   "cell_type": "code",
   "execution_count": 101,
   "metadata": {},
   "outputs": [
    {
     "name": "stdout",
     "output_type": "stream",
     "text": [
      "accuracy 0.6065903154510749\n"
     ]
    },
    {
     "data": {
      "text/plain": [
       "<matplotlib.axes._subplots.AxesSubplot at 0x15873d0deb0>"
      ]
     },
     "execution_count": 101,
     "metadata": {},
     "output_type": "execute_result"
    },
    {
     "data": {
      "image/png": "[encoded data removed]",
      "text/plain": [
       "<Figure size 432x288 with 2 Axes>"
      ]
     },
     "metadata": {},
     "output_type": "display_data"
    }
   ],
   "source": [
    "DTpipeline.fit(X_train,y_train)\n",
    "y_pred = DTpipeline.predict(X_test)\n",
    "print('accuracy', accuracy_score(y_test,y_pred))\n",
    "confusion = confusion_matrix(y_test,y_pred, normalize = 'true')\n",
    "sns.heatmap(confusion, annot = True,\n",
    "           xticklabels = DTpipeline.classes_)"
   ]
  },
  {
   "cell_type": "code",
   "execution_count": 102,
   "metadata": {},
   "outputs": [
    {
     "name": "stdout",
     "output_type": "stream",
     "text": [
      "accuracy 0.6576250753465943\n"
     ]
    },
    {
     "data": {
      "text/plain": [
       "<matplotlib.axes._subplots.AxesSubplot at 0x15873d920a0>"
      ]
     },
     "execution_count": 102,
     "metadata": {},
     "output_type": "execute_result"
    },
    {
     "data": {
      "image/png": "[encoded data removed]",
      "text/plain": [
       "<Figure size 432x288 with 2 Axes>"
      ]
     },
     "metadata": {},
     "output_type": "display_data"
    }
   ],
   "source": [
    "GNBpipeline.fit(X_train,y_train)\n",
    "y_pred = GNBpipeline.predict(X_test)\n",
    "print('accuracy', accuracy_score(y_test,y_pred))\n",
    "confusion = confusion_matrix(y_test,y_pred, normalize = 'true')\n",
    "sns.heatmap(confusion, annot = True,\n",
    "           xticklabels = GNBpipeline.classes_)"
   ]
  },
  {
   "cell_type": "code",
   "execution_count": 103,
   "metadata": {},
   "outputs": [
    {
     "name": "stdout",
     "output_type": "stream",
     "text": [
      "accuracy 0.6624472573839663\n"
     ]
    },
    {
     "data": {
      "text/plain": [
       "<matplotlib.axes._subplots.AxesSubplot at 0x15873e0d8b0>"
      ]
     },
     "execution_count": 103,
     "metadata": {},
     "output_type": "execute_result"
    },
    {
     "data": {
      "image/png": "[encoded data removed]",
      "text/plain": [
       "<Figure size 432x288 with 2 Axes>"
      ]
     },
     "metadata": {},
     "output_type": "display_data"
    }
   ],
   "source": [
    "LRpipeline.fit(X_train,y_train)\n",
    "y_pred = LRpipeline.predict(X_test)\n",
    "print('accuracy', accuracy_score(y_test,y_pred))\n",
    "confusion = confusion_matrix(y_test,y_pred, normalize = 'true')\n",
    "sns.heatmap(confusion, annot = True,\n",
    "           xticklabels = LRpipeline.classes_)"
   ]
  },
  {
   "cell_type": "markdown",
   "metadata": {},
   "source": [
    "# GridSearch"
   ]
  },
  {
   "cell_type": "code",
   "execution_count": null,
   "metadata": {},
   "outputs": [],
   "source": []
  },
  {
   "cell_type": "code",
   "execution_count": null,
   "metadata": {},
   "outputs": [],
   "source": []
  },
  {
   "cell_type": "code",
   "execution_count": 62,
   "metadata": {},
   "outputs": [
    {
     "ename": "AttributeError",
     "evalue": "'Pipeline' object has no attribute 'coef_'",
     "output_type": "error",
     "traceback": [
      "\u001b[1;31m---------------------------------------------------------------------------\u001b[0m",
      "\u001b[1;31mAttributeError\u001b[0m                            Traceback (most recent call last)",
      "\u001b[1;32m<ipython-input-62-13775c45615f>\u001b[0m in \u001b[0;36m<module>\u001b[1;34m\u001b[0m\n\u001b[1;32m----> 1\u001b[1;33m \u001b[0mpipeline\u001b[0m\u001b[1;33m.\u001b[0m\u001b[0mcoef_\u001b[0m\u001b[1;33m\u001b[0m\u001b[1;33m\u001b[0m\u001b[0m\n\u001b[0m",
      "\u001b[1;31mAttributeError\u001b[0m: 'Pipeline' object has no attribute 'coef_'"
     ]
    }
   ],
   "source": [
    "pipeline.coef_"
   ]
  },
  {
   "cell_type": "code",
   "execution_count": 67,
   "metadata": {},
   "outputs": [],
   "source": [
    "LR = pipeline.named_steps['model']\n",
    "CT = pipeline.named_steps['processing']"
   ]
  },
  {
   "cell_type": "code",
   "execution_count": 69,
   "metadata": {},
   "outputs": [
    {
     "data": {
      "text/html": [
       "<div>\n",
       "<style scoped>\n",
       "    .dataframe tbody tr th:only-of-type {\n",
       "        vertical-align: middle;\n",
       "    }\n",
       "\n",
       "    .dataframe tbody tr th {\n",
       "        vertical-align: top;\n",
       "    }\n",
       "\n",
       "    .dataframe thead th {\n",
       "        text-align: right;\n",
       "    }\n",
       "</style>\n",
       "<table border=\"1\" class=\"dataframe\">\n",
       "  <thead>\n",
       "    <tr style=\"text-align: right;\">\n",
       "      <th></th>\n",
       "      <th>0</th>\n",
       "      <th>1</th>\n",
       "      <th>2</th>\n",
       "      <th>3</th>\n",
       "      <th>4</th>\n",
       "      <th>5</th>\n",
       "      <th>6</th>\n",
       "      <th>7</th>\n",
       "      <th>8</th>\n",
       "      <th>9</th>\n",
       "      <th>10</th>\n",
       "      <th>11</th>\n",
       "      <th>12</th>\n",
       "      <th>13</th>\n",
       "      <th>14</th>\n",
       "      <th>15</th>\n",
       "      <th>16</th>\n",
       "      <th>17</th>\n",
       "    </tr>\n",
       "  </thead>\n",
       "  <tbody>\n",
       "    <tr>\n",
       "      <th>0</th>\n",
       "      <td>0.250445</td>\n",
       "      <td>-0.223371</td>\n",
       "      <td>0.16229</td>\n",
       "      <td>0.208445</td>\n",
       "      <td>-0.364026</td>\n",
       "      <td>-0.549366</td>\n",
       "      <td>0.569731</td>\n",
       "      <td>-0.06644</td>\n",
       "      <td>0.052298</td>\n",
       "      <td>0.041217</td>\n",
       "      <td>0.19017</td>\n",
       "      <td>-0.163096</td>\n",
       "      <td>0.02076</td>\n",
       "      <td>-0.204827</td>\n",
       "      <td>0.020716</td>\n",
       "      <td>-0.149852</td>\n",
       "      <td>0.102676</td>\n",
       "      <td>0.867659</td>\n",
       "    </tr>\n",
       "  </tbody>\n",
       "</table>\n",
       "</div>"
      ],
      "text/plain": [
       "         0         1        2         3         4         5         6   \\\n",
       "0  0.250445 -0.223371  0.16229  0.208445 -0.364026 -0.549366  0.569731   \n",
       "\n",
       "        7         8         9        10        11       12        13  \\\n",
       "0 -0.06644  0.052298  0.041217  0.19017 -0.163096  0.02076 -0.204827   \n",
       "\n",
       "         14        15        16        17  \n",
       "0  0.020716 -0.149852  0.102676  0.867659  "
      ]
     },
     "execution_count": 69,
     "metadata": {},
     "output_type": "execute_result"
    }
   ],
   "source": [
    "\n",
    "pd.DataFrame(LR.coef_)"
   ]
  },
  {
   "cell_type": "code",
   "execution_count": 70,
   "metadata": {},
   "outputs": [
    {
     "data": {
      "text/html": [
       "<div>\n",
       "<style scoped>\n",
       "    .dataframe tbody tr th:only-of-type {\n",
       "        vertical-align: middle;\n",
       "    }\n",
       "\n",
       "    .dataframe tbody tr th {\n",
       "        vertical-align: top;\n",
       "    }\n",
       "\n",
       "    .dataframe thead th {\n",
       "        text-align: right;\n",
       "    }\n",
       "</style>\n",
       "<table border=\"1\" class=\"dataframe\">\n",
       "  <thead>\n",
       "    <tr style=\"text-align: right;\">\n",
       "      <th></th>\n",
       "      <th>id_student</th>\n",
       "      <th>gender</th>\n",
       "      <th>highest_education</th>\n",
       "      <th>age_band</th>\n",
       "      <th>num_of_prev_attempts</th>\n",
       "      <th>disability</th>\n",
       "      <th>date_registration</th>\n",
       "      <th>avg_daily_activities</th>\n",
       "      <th>mean_clicks_per_day</th>\n",
       "      <th>pct_days_studied</th>\n",
       "    </tr>\n",
       "  </thead>\n",
       "  <tbody>\n",
       "    <tr>\n",
       "      <th>3875</th>\n",
       "      <td>389249</td>\n",
       "      <td>F</td>\n",
       "      <td>A Level or Equivalent</td>\n",
       "      <td>0-35</td>\n",
       "      <td>0</td>\n",
       "      <td>N</td>\n",
       "      <td>-36.0</td>\n",
       "      <td>3.280000</td>\n",
       "      <td>9.000000</td>\n",
       "      <td>0.277778</td>\n",
       "    </tr>\n",
       "    <tr>\n",
       "      <th>19845</th>\n",
       "      <td>277577</td>\n",
       "      <td>F</td>\n",
       "      <td>A Level or Equivalent</td>\n",
       "      <td>35-55</td>\n",
       "      <td>2</td>\n",
       "      <td>N</td>\n",
       "      <td>-17.0</td>\n",
       "      <td>7.459770</td>\n",
       "      <td>28.919540</td>\n",
       "      <td>0.966667</td>\n",
       "    </tr>\n",
       "    <tr>\n",
       "      <th>9174</th>\n",
       "      <td>686558</td>\n",
       "      <td>M</td>\n",
       "      <td>A Level or Equivalent</td>\n",
       "      <td>0-35</td>\n",
       "      <td>0</td>\n",
       "      <td>N</td>\n",
       "      <td>-53.0</td>\n",
       "      <td>5.000000</td>\n",
       "      <td>27.900000</td>\n",
       "      <td>0.222222</td>\n",
       "    </tr>\n",
       "    <tr>\n",
       "      <th>15586</th>\n",
       "      <td>634433</td>\n",
       "      <td>M</td>\n",
       "      <td>A Level or Equivalent</td>\n",
       "      <td>0-35</td>\n",
       "      <td>0</td>\n",
       "      <td>N</td>\n",
       "      <td>-17.0</td>\n",
       "      <td>4.312500</td>\n",
       "      <td>12.625000</td>\n",
       "      <td>0.355556</td>\n",
       "    </tr>\n",
       "    <tr>\n",
       "      <th>5834</th>\n",
       "      <td>654585</td>\n",
       "      <td>F</td>\n",
       "      <td>HE Qualification</td>\n",
       "      <td>0-35</td>\n",
       "      <td>0</td>\n",
       "      <td>N</td>\n",
       "      <td>-122.0</td>\n",
       "      <td>4.379310</td>\n",
       "      <td>11.862069</td>\n",
       "      <td>0.322222</td>\n",
       "    </tr>\n",
       "    <tr>\n",
       "      <th>...</th>\n",
       "      <td>...</td>\n",
       "      <td>...</td>\n",
       "      <td>...</td>\n",
       "      <td>...</td>\n",
       "      <td>...</td>\n",
       "      <td>...</td>\n",
       "      <td>...</td>\n",
       "      <td>...</td>\n",
       "      <td>...</td>\n",
       "      <td>...</td>\n",
       "    </tr>\n",
       "    <tr>\n",
       "      <th>7443</th>\n",
       "      <td>627386</td>\n",
       "      <td>M</td>\n",
       "      <td>A Level or Equivalent</td>\n",
       "      <td>0-35</td>\n",
       "      <td>0</td>\n",
       "      <td>N</td>\n",
       "      <td>-25.0</td>\n",
       "      <td>3.000000</td>\n",
       "      <td>12.187500</td>\n",
       "      <td>0.177778</td>\n",
       "    </tr>\n",
       "    <tr>\n",
       "      <th>4182</th>\n",
       "      <td>594061</td>\n",
       "      <td>F</td>\n",
       "      <td>A Level or Equivalent</td>\n",
       "      <td>0-35</td>\n",
       "      <td>0</td>\n",
       "      <td>N</td>\n",
       "      <td>-59.0</td>\n",
       "      <td>7.906250</td>\n",
       "      <td>32.515625</td>\n",
       "      <td>0.711111</td>\n",
       "    </tr>\n",
       "    <tr>\n",
       "      <th>4820</th>\n",
       "      <td>2334930</td>\n",
       "      <td>F</td>\n",
       "      <td>A Level or Equivalent</td>\n",
       "      <td>0-35</td>\n",
       "      <td>0</td>\n",
       "      <td>N</td>\n",
       "      <td>-130.0</td>\n",
       "      <td>3.000000</td>\n",
       "      <td>5.636364</td>\n",
       "      <td>0.244444</td>\n",
       "    </tr>\n",
       "    <tr>\n",
       "      <th>10196</th>\n",
       "      <td>552921</td>\n",
       "      <td>F</td>\n",
       "      <td>A Level or Equivalent</td>\n",
       "      <td>0-35</td>\n",
       "      <td>0</td>\n",
       "      <td>N</td>\n",
       "      <td>-22.0</td>\n",
       "      <td>5.415094</td>\n",
       "      <td>10.226415</td>\n",
       "      <td>0.588889</td>\n",
       "    </tr>\n",
       "    <tr>\n",
       "      <th>12116</th>\n",
       "      <td>424880</td>\n",
       "      <td>F</td>\n",
       "      <td>A Level or Equivalent</td>\n",
       "      <td>35-55</td>\n",
       "      <td>1</td>\n",
       "      <td>N</td>\n",
       "      <td>-200.0</td>\n",
       "      <td>4.206897</td>\n",
       "      <td>9.172414</td>\n",
       "      <td>0.644444</td>\n",
       "    </tr>\n",
       "  </tbody>\n",
       "</table>\n",
       "<p>19905 rows × 10 columns</p>\n",
       "</div>"
      ],
      "text/plain": [
       "       id_student gender      highest_education age_band  \\\n",
       "3875       389249      F  A Level or Equivalent     0-35   \n",
       "19845      277577      F  A Level or Equivalent    35-55   \n",
       "9174       686558      M  A Level or Equivalent     0-35   \n",
       "15586      634433      M  A Level or Equivalent     0-35   \n",
       "5834       654585      F       HE Qualification     0-35   \n",
       "...           ...    ...                    ...      ...   \n",
       "7443       627386      M  A Level or Equivalent     0-35   \n",
       "4182       594061      F  A Level or Equivalent     0-35   \n",
       "4820      2334930      F  A Level or Equivalent     0-35   \n",
       "10196      552921      F  A Level or Equivalent     0-35   \n",
       "12116      424880      F  A Level or Equivalent    35-55   \n",
       "\n",
       "       num_of_prev_attempts disability  date_registration  \\\n",
       "3875                      0          N              -36.0   \n",
       "19845                     2          N              -17.0   \n",
       "9174                      0          N              -53.0   \n",
       "15586                     0          N              -17.0   \n",
       "5834                      0          N             -122.0   \n",
       "...                     ...        ...                ...   \n",
       "7443                      0          N              -25.0   \n",
       "4182                      0          N              -59.0   \n",
       "4820                      0          N             -130.0   \n",
       "10196                     0          N              -22.0   \n",
       "12116                     1          N             -200.0   \n",
       "\n",
       "       avg_daily_activities  mean_clicks_per_day  pct_days_studied  \n",
       "3875               3.280000             9.000000          0.277778  \n",
       "19845              7.459770            28.919540          0.966667  \n",
       "9174               5.000000            27.900000          0.222222  \n",
       "15586              4.312500            12.625000          0.355556  \n",
       "5834               4.379310            11.862069          0.322222  \n",
       "...                     ...                  ...               ...  \n",
       "7443               3.000000            12.187500          0.177778  \n",
       "4182               7.906250            32.515625          0.711111  \n",
       "4820               3.000000             5.636364          0.244444  \n",
       "10196              5.415094            10.226415          0.588889  \n",
       "12116              4.206897             9.172414          0.644444  \n",
       "\n",
       "[19905 rows x 10 columns]"
      ]
     },
     "execution_count": 70,
     "metadata": {},
     "output_type": "execute_result"
    }
   ],
   "source": [
    "X_train_3"
   ]
  },
  {
   "cell_type": "markdown",
   "metadata": {},
   "source": [
    "Let's try a GridSearch"
   ]
  }
 ],
 "metadata": {
  "kernelspec": {
   "display_name": "Python 3",
   "language": "python",
   "name": "python3"
  },
  "language_info": {
   "codemirror_mode": {
    "name": "ipython",
    "version": 3
   },
   "file_extension": ".py",
   "mimetype": "text/x-python",
   "name": "python",
   "nbconvert_exporter": "python",
   "pygments_lexer": "ipython3",
   "version": "3.8.3"
  }
 },
 "nbformat": 4,
 "nbformat_minor": 4
}
