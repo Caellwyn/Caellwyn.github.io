{
  "nbformat": 4,
  "nbformat_minor": 0,
  "metadata": {
    "colab": {
      "name": "OU_Deep_predictors.ipynb",
      "private_outputs": true,
      "provenance": []
    },
    "kernelspec": {
      "name": "python3",
      "display_name": "Python 3"
    },
    "accelerator": "GPU"
  },
  "cells": [
    {
      "cell_type": "code",
      "metadata": {
        "id": "Y2tDpkggCTN6"
      },
      "source": [
        "%load_ext autoreload\n",
        "%autoreload 2\n",
        "\n",
        "import pandas as pd\n",
        "import numpy as np\n",
        "\n",
        "from sklearn.model_selection import train_test_split, KFold\n",
        "from sklearn.metrics import confusion_matrix, accuracy_score, classification_report, f1_score\n",
        "\n",
        "from imblearn.over_sampling import SMOTE\n",
        "\n",
        "import seaborn as sns\n",
        "import matplotlib.pyplot as plt\n",
        "%matplotlib inline\n",
        "\n",
        "import os\n",
        "import sys\n",
        "module_path = os.path.abspath(os.path.join(os.pardir))\n",
        "if module_path not in sys.path:\n",
        "    sys.path.append(module_path)\n",
        "from src.functions import load_OU_data, CourseScaler, plot_confusion, score_grid, \\\n",
        "smotecourses, process_courses, course_cross_validate, Course_GridSearchCV, \\\n",
        "model_evaluate_presentation, cross_val_presentation, GridSearchPresentationCV\n",
        "\n",
        "%load_ext autoreload\n",
        "%autoreload 2\n",
        "\n",
        "import pandas as pd\n",
        "import numpy as np\n",
        "\n",
        "import keras\n",
        "import tensorflow as tf\n",
        "from tensorflow.keras.wrappers.scikit_learn import KerasClassifier\n",
        "from keras.layers import Input, Dense, Dropout, Activation, LeakyReLU\n",
        "from keras.models import Sequential\n",
        "from keras import initializers, regularizers, constraints, optimizers, layers\n",
        "from keras.callbacks import ModelCheckpoint\n",
        "from keras.callbacks import LearningRateScheduler\n",
        "\n",
        "from sklearn.preprocessing import LabelEncoder\n",
        "\n",
        "!pip install -q -U keras-tuner\n",
        "import kerastuner as kt\n",
        "\n",
        "import pickle\n",
        "\n",
        "import warnings\n",
        "\n",
        "from IPython.display import display\n",
        "\n",
        "warnings.filterwarnings(\"ignore\")\n",
        "sns.set_style('white')\n",
        "pd.set_option('display.max_columns',None)\n",
        "tf.keras.backend.set_floatx('float32')"
      ],
      "execution_count": null,
      "outputs": []
    },
    {
      "cell_type": "code",
      "metadata": {
        "id": "iwwbcvYjPA22"
      },
      "source": [
        "def graph_model_history(history):\n",
        "    \"\"\"\n",
        "    Takes as argument a model history: either the return of a KerasClassifier or the model.history of a Keras model.\n",
        "    Plots model accuracy, validation accuracy, model loss, and validation loss training histories, if they are present in the history.history dictionary object:\n",
        "    \"\"\"\n",
        "        \n",
        "    import seaborn as sns\n",
        "    import matplotlib.pyplot as plt\n",
        "\n",
        "    fig, axes = plt.subplots(1,2, figsize = (10,5))\n",
        "    if 'acc' in history.history.keys():\n",
        "        axes[0].plot(history.history['acc'], label = 'Train Accuracy')\n",
        "    if 'val_acc' in history.history.keys():\n",
        "        axes[0].plot(history.history['val_acc'], label = 'Validation Accuracy')\n",
        "    axes[0].legend()\n",
        "    if 'loss' in history.history.keys():\n",
        "        axes[1].plot(history.history['loss'], label = 'Train Loss')\n",
        "    if 'val_loss' in history.history.keys():\n",
        "        axes[1].plot(history.history['val_loss'], label = 'Validation Loss')\n",
        "    axes[1].legend()\n",
        "    plt.show()"
      ],
      "execution_count": null,
      "outputs": []
    },
    {
      "cell_type": "code",
      "metadata": {
        "id": "xUQGR2qwFUnR"
      },
      "source": [
        "df_full = load_OU_data(prediction_window=.75)\n"
      ],
      "execution_count": null,
      "outputs": []
    },
    {
      "cell_type": "code",
      "metadata": {
        "id": "MwYzAIeUFhoL"
      },
      "source": [
        "df = df_full.copy()\n",
        "df = df.drop(columns = ['id_student','region','highest_education', \\\n",
        "                   'imd_band','gender','age_band','disability','studied_credits',\n",
        "                   'module_presentation_length','date_registration'])\n",
        "df['final_result'] = np.array([0 if w in ['Pass','Distinction'] \\\n",
        "              else 1 for w in df['final_result']])\n",
        "test_df = df[df['code_presentation'] == '2014J']\n",
        "\n",
        "test_df = test_df[test_df['code_module'] != 'BBB']\n",
        "train_df = df[df['code_presentation'] != '2014J']\n",
        "\n",
        "X_train = train_df.drop(columns = ['final_result','code_presentation'])\n",
        "y_train = train_df['final_result']\n",
        "X_test = test_df.drop(columns = ['final_result','code_presentation'])\n",
        "y_test = test_df['final_result']\n",
        "\n",
        "\n",
        "X_train_transformed, y_train_transformed, X_test_transformed \\\n",
        "                                = process_courses(X_train, y_train, X_test)"
      ],
      "execution_count": null,
      "outputs": []
    },
    {
      "cell_type": "code",
      "metadata": {
        "id": "qFom5OA0IA2a"
      },
      "source": [
        "y_test.value_counts()"
      ],
      "execution_count": null,
      "outputs": []
    },
    {
      "cell_type": "code",
      "metadata": {
        "id": "UzddRuk-KW01"
      },
      "source": [
        "def make_model1():\n",
        "    model = Sequential()\n",
        "    model.add(Dense(5, activation='relu'))\n",
        "\n",
        "    model.add(Dense(2, activation='sigmoid'))\n",
        "\n",
        "    model.compile(optimizer = 'adam', loss = 'sparse_categorical_crossentropy', metrics = ['acc'])\n",
        "\n",
        "    return model"
      ],
      "execution_count": null,
      "outputs": []
    },
    {
      "cell_type": "code",
      "metadata": {
        "id": "8voEn8JeLkAk"
      },
      "source": [
        "model = make_model1()\n",
        "history = model.fit(X_train_transformed, y_train_transformed,\n",
        "          epochs = 25,\n",
        "          validation_data = (X_test_transformed, y_test))\n",
        "y_pred = np.argmax(model.predict(X_test_transformed), axis=1)\n",
        "print(accuracy_score(y_test, y_pred))\n",
        "graph_model_history(history)\n",
        "# model.save('densemodel1.h5')"
      ],
      "execution_count": null,
      "outputs": []
    },
    {
      "cell_type": "code",
      "metadata": {
        "id": "3R00u1U0SKYG"
      },
      "source": [
        "model.save('/content/densefsm.h5')"
      ],
      "execution_count": null,
      "outputs": []
    },
    {
      "cell_type": "code",
      "metadata": {
        "id": "8_-exU5BLhz-"
      },
      "source": [
        "def make_model2():\n",
        "    model = Sequential()\n",
        "    model.add(Dense(5, activation='relu'))\n",
        "    model.add(Dense(5, activation='relu'))\n",
        "    model.add(Dense(5, activation='relu'))\n",
        "\n",
        "    model.add(Dense(2, activation='sigmoid'))\n",
        "\n",
        "    model.compile(optimizer = 'adam', loss = 'sparse_categorical_crossentropy', metrics = ['acc'])\n",
        "\n",
        "    return model\n",
        "\n",
        "model = make_model2()\n",
        "history = model.fit(X_train_transformed, y_train_transformed,\n",
        "          epochs = 5,\n",
        "          validation_data = (X_test_transformed,y_test))\n",
        "y_pred = np.argmax(model.predict(X_test_transformed), axis=1)\n",
        "print(accuracy_score(y_test, y_pred))\n",
        "graph_model_history(history)\n",
        "model.save('/content/densemodel2.h5')"
      ],
      "execution_count": null,
      "outputs": []
    },
    {
      "cell_type": "code",
      "metadata": {
        "id": "ktQPbJ-1TyL-"
      },
      "source": [
        "def make_model3():\n",
        "    model = Sequential()\n",
        "    model.add(Dense(5, activation='relu'))\n",
        "    model.add(Dropout(rate = .2))\n",
        "    model.add(Dense(5, activation='relu'))\n",
        "    model.add(Dropout(rate = .2))    \n",
        "    model.add(Dense(5, activation='relu'))\n",
        "    model.add(Dropout(rate = .2))\n",
        "\n",
        "    model.add(Dense(2, activation='sigmoid'))\n",
        "\n",
        "\n",
        "    model.compile(optimizer = 'adam', loss = 'sparse_categorical_crossentropy', metrics = ['acc'])\n",
        "\n",
        "    return model\n",
        "\n",
        "model = make_model3()\n",
        "history = model.fit(X_train_transformed, y_train_transformed,\n",
        "          epochs = 5,\n",
        "          validation_data = (X_test_transformed,y_test))\n",
        "y_pred = np.argmax(model.predict(X_test_transformed), axis=1)\n",
        "print(accuracy_score(y_test, y_pred))\n",
        "graph_model_history(history)\n",
        "model.save('/content/densemodel3.h5')"
      ],
      "execution_count": null,
      "outputs": []
    },
    {
      "cell_type": "code",
      "metadata": {
        "id": "_Wso3V82U3-O"
      },
      "source": [
        ""
      ],
      "execution_count": null,
      "outputs": []
    },
    {
      "cell_type": "code",
      "metadata": {
        "id": "yrERIPxXU5Iw"
      },
      "source": [
        "def make_model4():\n",
        "    model = Sequential()\n",
        "    model.add(Dense(25, activation='relu'))\n",
        "    model.add(Dropout(rate=.2))\n",
        "    model.add(Dense(25, activation='relu'))\n",
        "    model.add(Dropout(rate=.2))\n",
        "    model.add(Dense(25, activation='relu'))\n",
        "    model.add(Dropout(rate=.2))\n",
        "\n",
        "    model.add(Dense(2, activation='sigmoid'))\n",
        "\n",
        "    lr_schedule = keras.optimizers.schedules.ExponentialDecay(\n",
        "        initial_learning_rate=1e-2,\n",
        "        decay_steps=1000,\n",
        "        decay_rate=0.9)\n",
        "    optimizer = keras.optimizers.SGD(learning_rate=lr_schedule)    \n",
        "    model.compile(optimizer = optimizer, loss = 'sparse_categorical_crossentropy', metrics = ['acc'])\n",
        "\n",
        "    return model\n",
        "\n",
        "model = make_model4()\n",
        "history = model.fit(X_train_transformed, y_train_transformed,\n",
        "          epochs = 25,\n",
        "          validation_data = (X_test_transformed,y_test))\n",
        "y_pred = np.argmax(model.predict(X_test_transformed), axis=1)\n",
        "print(accuracy_score(y_test, y_pred))\n",
        "graph_model_history(history)\n",
        "model.save('/content/densemodel4.h5')"
      ],
      "execution_count": null,
      "outputs": []
    },
    {
      "cell_type": "code",
      "metadata": {
        "id": "KEjBaEc-cj6J"
      },
      "source": [
        "def make_model5():\n",
        "    model = Sequential()\n",
        "    model.add(Dense(25, activation='relu'))\n",
        "    model.add(Dropout(rate=.2))\n",
        "    model.add(Dense(25, activation='relu'))\n",
        "    model.add(Dropout(rate=.2))\n",
        "    model.add(Dense(25, activation='relu'))\n",
        "    model.add(Dropout(rate=.2))\n",
        "    model.add(Dense(25, activation='relu'))\n",
        "    model.add(Dropout(rate=.2))\n",
        "    model.add(Dense(2, activation='sigmoid'))\n",
        "\n",
        "    lr_schedule = keras.optimizers.schedules.ExponentialDecay(\n",
        "        initial_learning_rate=1e-2,\n",
        "        decay_steps=1000,\n",
        "        decay_rate=.9)\n",
        "    optimizer = keras.optimizers.Adam(learning_rate=lr_schedule)    \n",
        "    model.compile(optimizer = optimizer, loss = 'sparse_categorical_crossentropy', metrics = ['acc'])\n",
        "\n",
        "    return model\n",
        "\n",
        "model = make_model5()\n",
        "history = model.fit(X_train_transformed, y_train_transformed,\n",
        "          epochs = 10,\n",
        "          validation_data = (X_test_transformed,y_test))\n",
        "y_pred = np.argmax(model.predict(X_test_transformed), axis=1)\n",
        "print(accuracy_score(y_test, y_pred))\n",
        "graph_model_history(history)\n",
        "model.save('/content/densemodel5.h5')"
      ],
      "execution_count": null,
      "outputs": []
    },
    {
      "cell_type": "code",
      "metadata": {
        "id": "4OgjlnJnfWv5"
      },
      "source": [
        "def make_model6():\n",
        "    model = Sequential()\n",
        "    model.add(Dense(50, activation='relu'))\n",
        "    model.add(Dropout(rate=.2))\n",
        "    model.add(Dense(50, activation='relu'))\n",
        "    model.add(Dropout(rate=.2))\n",
        "    model.add(Dense(25, activation='relu'))\n",
        "    model.add(Dropout(rate=.2))\n",
        "    model.add(Dense(10, activation='relu'))\n",
        "    model.add(Dropout(rate=.2))\n",
        "    model.add(Dense(50, activation='relu'))\n",
        "    model.add(Dropout(rate=.2))\n",
        "    model.add(Dense(50, activation='relu'))\n",
        "    model.add(Dropout(rate=.2))\n",
        "    model.add(Dense(25, activation='relu'))\n",
        "    model.add(Dropout(rate=.2))\n",
        "    model.add(Dense(10, activation='relu'))\n",
        "    model.add(Dropout(rate=.2))\n",
        "    model.add(Dense(2, activation='sigmoid'))\n",
        "\n",
        "    lr_schedule = keras.optimizers.schedules.ExponentialDecay(\n",
        "        initial_learning_rate=1e-2,\n",
        "        decay_steps=10000,\n",
        "        decay_rate=.9)\n",
        "    optimizer = keras.optimizers.SGD(learning_rate=lr_schedule)    \n",
        "    model.compile(optimizer = optimizer, loss = 'sparse_categorical_crossentropy', metrics = ['acc'])\n",
        "\n",
        "    return model\n",
        "\n",
        "model = make_model6()\n",
        "history = model.fit(X_train_transformed, y_train_transformed,\n",
        "          epochs = 500,\n",
        "          validation_data = (X_test_transformed,y_test),\n",
        "          batch_size = 200)\n",
        "y_pred = np.argmax(model.predict(X_test_transformed), axis=1)\n",
        "print(accuracy_score(y_test, y_pred))\n",
        "graph_model_history(history)\n",
        "# model.save('/content/densemodel6.h5')"
      ],
      "execution_count": null,
      "outputs": []
    },
    {
      "cell_type": "code",
      "metadata": {
        "id": "c-8R0MuPid9V"
      },
      "source": [
        "def make_model7():\n",
        "    model = Sequential()\n",
        "    model.add(Dense(500, activation='relu'))\n",
        "    model.add(Dropout(rate=.5))\n",
        "    model.add(Dense(500, activation='relu'))\n",
        "    model.add(Dropout(rate=.5))\n",
        "    model.add(Dense(250, activation='relu'))\n",
        "    model.add(Dropout(rate=.5))\n",
        "    model.add(Dense(100, activation='relu'))\n",
        "    model.add(Dropout(rate=.2))\n",
        "    model.add(Dense(50, activation='relu'))\n",
        "    model.add(Dropout(rate=.2))\n",
        "    model.add(Dense(50, activation='relu'))\n",
        "    model.add(Dropout(rate=.2))\n",
        "    model.add(Dense(25, activation='relu'))\n",
        "    model.add(Dropout(rate=.2))\n",
        "    model.add(Dense(10, activation='relu'))\n",
        "    model.add(Dropout(rate=.2))\n",
        "    model.add(Dense(2, activation='sigmoid'))\n",
        "\n",
        "    lr_schedule = keras.optimizers.schedules.ExponentialDecay(\n",
        "        initial_learning_rate=1e-2,\n",
        "        decay_steps=1000,\n",
        "        decay_rate=.5)\n",
        "    optimizer = keras.optimizers.Adam(\n",
        "        # learning_rate=lr_schedule\n",
        "        )    \n",
        "    model.compile(optimizer = optimizer, loss = 'sparse_categorical_crossentropy', metrics = ['acc'])\n",
        "\n",
        "    return model\n",
        "\n",
        "model = make_model7()\n",
        "history = model.fit(X_train_transformed, y_train_transformed,\n",
        "          epochs = 10,\n",
        "          validation_data = (X_test_transformed,y_test),\n",
        "          batch_size = 50)\n",
        "y_pred = np.argmax(model.predict(X_test_transformed), axis=1)\n",
        "print(accuracy_score(y_test, y_pred))\n",
        "graph_model_history(history)\n",
        "model.save('/content/densemodel7.h5')"
      ],
      "execution_count": null,
      "outputs": []
    },
    {
      "cell_type": "code",
      "metadata": {
        "id": "S0H0ux2ct4KF"
      },
      "source": [
        "def make_model7():\n",
        "    model = Sequential()\n",
        "    model.add(Dense(10, activation='tanh'))\n",
        "    model.add(Dropout(rate=.1))\n",
        "    model.add(Dense(2, activation='sigmoid'))\n",
        "\n",
        "    lr_schedule = keras.optimizers.schedules.ExponentialDecay(\n",
        "        initial_learning_rate=1e-2,\n",
        "        decay_steps=1000,\n",
        "        decay_rate=.9)\n",
        "    optimizer = keras.optimizers.RMSprop(\n",
        "        learning_rate= lr_schedule\n",
        "        # beta_1 = .9,\n",
        "        # beta_2 = .1\n",
        "        )    \n",
        "    model.compile(optimizer = optimizer, loss = 'sparse_categorical_crossentropy', metrics = ['acc'])\n",
        "\n",
        "    return model\n",
        "\n",
        "model = make_model7()\n",
        "history = model.fit(X_train_transformed, y_train_transformed,\n",
        "          epochs = 5,\n",
        "          validation_data = (X_test_transformed,y_test),\n",
        "          batch_size = 100)\n",
        "y_pred = np.argmax(model.predict(X_test_transformed), axis=1)\n",
        "print(accuracy_score(y_test, y_pred))\n",
        "graph_model_history(history)\n",
        "model.save('/content/densemodel7.h5')"
      ],
      "execution_count": null,
      "outputs": []
    },
    {
      "cell_type": "code",
      "metadata": {
        "id": "-jbgEQmxNgeX"
      },
      "source": [
        "eval_df = test_df\n",
        "eval_df['prediction'] = y_pred\n",
        "modules = eval_df['code_module'].unique()\n",
        "course_acc = pd.DataFrame(columns = ['score'],index = modules)\n",
        "fig, axes = plt.subplots(3,2, figsize = (10,10))\n",
        "axes = axes.ravel()\n",
        "for i, module in enumerate(modules):\n",
        "    preds = eval_df[eval_df['code_module'] == module]['prediction']\n",
        "    trues = eval_df[eval_df['code_module'] == module]['final_result']\n",
        "    accuracy = accuracy_score(trues,preds)\n",
        "    course_acc.loc[module,'score'] = accuracy\n",
        "    plot_confusion(trues,preds, ax = axes[i])\n",
        "    axes[i].set_title(f'module: {module}: accuracy score: {round(accuracy,2)}')\n",
        "plt.tight_layout()\n",
        "plt.show()"
      ],
      "execution_count": null,
      "outputs": []
    },
    {
      "cell_type": "code",
      "metadata": {
        "id": "j74qtj3EO_Hk"
      },
      "source": [
        ""
      ],
      "execution_count": null,
      "outputs": []
    }
  ]
}