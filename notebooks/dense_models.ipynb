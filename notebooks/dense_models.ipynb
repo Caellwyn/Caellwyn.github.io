{
  "nbformat": 4,
  "nbformat_minor": 0,
  "metadata": {
    "colab": {
      "name": "dense_models.ipynb",
      "provenance": [],
      "collapsed_sections": []
    },
    "kernelspec": {
      "name": "python3",
      "display_name": "Python 3"
    },
    "accelerator": "GPU"
  },
  "cells": [
    {
      "cell_type": "code",
      "metadata": {
        "id": "3jhTNwy7Zgkw"
      },
      "source": [
        "import tensorflow as tf\n",
        "import keras\n",
        "from keras.wrappers.scikit_learn import KerasClassifier\n",
        "from keras.models import Sequential\n",
        "from keras.layers import Dense, Dropout\n",
        "from keras import backend as K\n",
        "from keras.metrics import Recall\n",
        "\n",
        "import pandas as pd\n",
        "import numpy as np\n",
        "\n",
        "import matplotlib.pyplot as plt\n",
        "import seaborn as sns\n",
        "\n",
        "from sklearn.model_selection import StratifiedKFold, train_test_split, \\\n",
        "cross_val_score, cross_val_predict\n",
        "from sklearn.metrics import make_scorer, classification_report, recall_score\n",
        "from sklearn.preprocessing import LabelBinarizer\n",
        "\n",
        "from imblearn.over_sampling import SMOTE\n",
        "from imblearn.pipeline import Pipeline\n",
        "\n",
        "from src.functions import load_OU_data, CourseScaler, pass_f1, score_grid, \\\n",
        "plot_confusion, make_gridpipe, f1\n",
        "import warnings\n",
        "\n",
        "warnings.filterwarnings(\"ignore\")\n",
        "sns.set_style('white')\n",
        "pd.set_option('display.max_columns',None)"
      ],
      "execution_count": null,
      "outputs": []
    },
    {
      "cell_type": "code",
      "metadata": {
        "id": "tsN982C_d7r5"
      },
      "source": [
        "# df = load_OU_data(prediction_window=100)\n",
        "# df.drop(columns = ['id_student','code_presentation','region','highest_education', \\\n",
        "#                    'imd_band','gender','age_band','disability','studied_credits',\n",
        "#                    'module_presentation_length','date_registration'], inplace = True)\n",
        "# if 'date_unregistration' in df.columns:\n",
        "#     df.drop(columns = ['date_unregistration'], inplace = True)\n",
        "\n",
        "\n",
        "X = df.drop(columns = ['final_result'])\n",
        "y = df['final_result']\n",
        "\n",
        "\n",
        "\n",
        "y3 = np.array(['Pass' if label == 'Distinction' else label for label in y])\n",
        "\n",
        "binarizer = LabelBinarizer()\n",
        "\n",
        "y_hot = binarizer.fit_transform(y3)\n",
        "print(binarizer.classes_)\n",
        "cv = StratifiedKFold(n_splits=5, shuffle=True, random_state=111)\n",
        "\n",
        "X_train, X_test, y_train, y_test = train_test_split(X, y_hot, random_state=111, test_size=0.2)\n",
        "X_t, X_val, y_t, y_val = train_test_split(X_train, y_train, random_state=111, test_size=0.2)"
      ],
      "execution_count": null,
      "outputs": []
    },
    {
      "cell_type": "code",
      "metadata": {
        "colab": {
          "base_uri": "https://localhost:8080/"
        },
        "id": "3-A9vX-0Bj23",
        "outputId": "2a958832-c872-40a1-b2b0-13087f561bea"
      },
      "source": [
        "y_train.shape"
      ],
      "execution_count": 102,
      "outputs": [
        {
          "output_type": "execute_result",
          "data": {
            "text/plain": [
              "(18094, 3)"
            ]
          },
          "metadata": {
            "tags": []
          },
          "execution_count": 102
        }
      ]
    },
    {
      "cell_type": "code",
      "metadata": {
        "id": "xZcfZDVBfnG2"
      },
      "source": [
        "def dense_model1():\n",
        "    model = keras.models.Sequential()\n",
        "    model.add(Dense(5, input_dim = 6, activation = 'relu'))\n",
        "    model.add(Dense(3, activation = 'softmax'))\n",
        "    model.compile(optimizer='adam', loss='categorical_crossentropy', \n",
        "                  metrics=[f1])\n",
        "    return model\n",
        "model = KerasClassifier(build_fn=dense_model1,\n",
        "                        epochs=50,\n",
        "                        batch_size=100,\n",
        "                        verbose=1\n",
        "                        )\n",
        "\n",
        "densepipe = Pipeline(steps = [('scaler', CourseScaler()),\n",
        "                    ('smoter', SMOTE(random_state=111)),\n",
        "                    ('model', model)])\n",
        "\n",
        "scores = cross_val_score(densepipe, X_t, y_t, cv=cv, scoring = make_scorer(pass_f1))\n",
        "print('F1 for \"Pass\":')\n",
        "y_pred = cross_val_predict(densepipe, X_val, y_val, cv=cv)\n",
        "y_pred = np.argmax(y_pred,axis=1)\n",
        "print(np.mean(scores))\n",
        "plot_confusion(y_val, y_pred, labels=labels)\n",
        "print(classification_report(y_val,y_pred))"
      ],
      "execution_count": null,
      "outputs": []
    },
    {
      "cell_type": "code",
      "metadata": {
        "colab": {
          "base_uri": "https://localhost:8080/",
          "height": 836
        },
        "id": "2QGyO5Iu16vh",
        "outputId": "22abeda1-a547-40b0-be20-e707679216f7"
      },
      "source": [
        "\n",
        "def dense_model2():\n",
        "    model = keras.models.Sequential()\n",
        "    model.add(Dense(5, input_dim = 6, activation = 'relu'))\n",
        "    model.add(Dense(3, activation = 'softmax'))\n",
        "    model.compile(optimizer='adam', loss='categorical_crossentropy', \n",
        "                  metrics=[Recall(class_id=1)])\n",
        "    return model\n",
        "\n",
        "cs = CourseScaler()\n",
        "cs.fit(X_t)\n",
        "X_val_cs = cs.transform(X_val)\n",
        "\n",
        "model = KerasClassifier(build_fn=dense_model2,\n",
        "                        epochs=10,\n",
        "                        batch_size=100,\n",
        "                        verbose=1,\n",
        "                        validation_data = (X_val_cs,y_val)\n",
        "                        )\n",
        "\n",
        "densepipe = Pipeline(steps = [('scaler', CourseScaler()),\n",
        "                    ('smoter', SMOTE(random_state=111)),\n",
        "                    ('model', model)])\n",
        "\n",
        "densepipe.fit(X_t,y_t)\n",
        "y_pred = densepipe.predict(X_val)\n",
        "y_true = np.argmax(y_val, axis=1)\n",
        "plot_confusion(y_true, y_pred, labels=None)\n",
        "print(classification_report(y_true,y_pred))"
      ],
      "execution_count": 112,
      "outputs": [
        {
          "output_type": "stream",
          "text": [
            "Epoch 1/10\n",
            "280/280 [==============================] - 1s 3ms/step - loss: 1.0989 - recall_18: 0.0000e+00 - val_loss: 1.0585 - val_recall_18: 0.0000e+00\n",
            "Epoch 2/10\n",
            "280/280 [==============================] - 1s 3ms/step - loss: 1.0174 - recall_18: 0.0000e+00 - val_loss: 0.9991 - val_recall_18: 0.0000e+00\n",
            "Epoch 3/10\n",
            "280/280 [==============================] - 1s 3ms/step - loss: 1.0029 - recall_18: 0.0745 - val_loss: 0.9738 - val_recall_18: 0.4572\n",
            "Epoch 4/10\n",
            "280/280 [==============================] - 1s 3ms/step - loss: 0.9970 - recall_18: 0.5063 - val_loss: 0.9735 - val_recall_18: 0.5037\n",
            "Epoch 5/10\n",
            "280/280 [==============================] - 1s 3ms/step - loss: 0.9932 - recall_18: 0.5325 - val_loss: 0.9619 - val_recall_18: 0.5183\n",
            "Epoch 6/10\n",
            "280/280 [==============================] - 1s 3ms/step - loss: 0.9897 - recall_18: 0.5386 - val_loss: 0.9441 - val_recall_18: 0.5217\n",
            "Epoch 7/10\n",
            "280/280 [==============================] - 1s 3ms/step - loss: 0.9868 - recall_18: 0.5311 - val_loss: 0.9542 - val_recall_18: 0.5127\n",
            "Epoch 8/10\n",
            "280/280 [==============================] - 1s 3ms/step - loss: 0.9842 - recall_18: 0.5292 - val_loss: 0.9473 - val_recall_18: 0.5045\n",
            "Epoch 9/10\n",
            "280/280 [==============================] - 1s 3ms/step - loss: 0.9825 - recall_18: 0.5235 - val_loss: 0.9508 - val_recall_18: 0.5024\n",
            "Epoch 10/10\n",
            "280/280 [==============================] - 1s 3ms/step - loss: 0.9811 - recall_18: 0.5189 - val_loss: 0.9324 - val_recall_18: 0.5118\n",
            "37/37 [==============================] - 0s 911us/step\n",
            "              precision    recall  f1-score   support\n",
            "\n",
            "           0       0.45      0.57      0.50       897\n",
            "           1       0.81      0.72      0.76      2327\n",
            "           2       0.16      0.17      0.17       395\n",
            "\n",
            "    accuracy                           0.62      3619\n",
            "   macro avg       0.47      0.49      0.48      3619\n",
            "weighted avg       0.65      0.62      0.63      3619\n",
            "\n"
          ],
          "name": "stdout"
        },
        {
          "output_type": "display_data",
          "data": {
            "image/png": "[encoded data removed]",
            "text/plain": [
              "<Figure size 432x288 with 2 Axes>"
            ]
          },
          "metadata": {
            "tags": []
          }
        }
      ]
    },
    {
      "cell_type": "code",
      "metadata": {
        "colab": {
          "base_uri": "https://localhost:8080/"
        },
        "id": "-GQFN6AB4dJK",
        "outputId": "f3d07a2f-5ef2-43ae-e897-a8dafeefe40e"
      },
      "source": [
        "\n",
        "def dense_model3():\n",
        "    model = keras.models.Sequential()\n",
        "    model.add(Dense(5, input_dim = 6, activation = 'relu',\n",
        "                    kernel_regularizer = 'elasticnet'))\n",
        "    model.add(Dropout(rate=.2))\n",
        "    model.add(Dense(5, input_dim = 6, activation = 'relu',\n",
        "                    kernel_regularizer = 'elasticnet'))\n",
        "    model.add(Dropout(rate=.2))\n",
        "    model.add(Dense(5, input_dim = 6, activation = 'relu',\n",
        "                    kernel_regularizer = 'elasticnet'))\n",
        "\n",
        "    model.add(Dropout(rate=.2))\n",
        "    model.add(Dense(3, activation = 'softmax'))\n",
        "    model.compile(optimizer='adam', loss='categorical_crossentropy', \n",
        "                  metrics=[Recall(class_id=1)])\n",
        "    return model\n",
        "\n",
        "cs = CourseScaler()\n",
        "cs.fit(X_t)\n",
        "X_val_cs = cs.transform(X_val)\n",
        "\n",
        "model = KerasClassifier(build_fn=dense_model2,\n",
        "                        epochs=100,\n",
        "                        batch_size=100,\n",
        "                        verbose=1,\n",
        "                        validation_data = (X_val_cs,y_val)\n",
        "                        )\n",
        "\n",
        "densepipe = Pipeline(steps = [('scaler', CourseScaler()),\n",
        "                    ('smoter', SMOTE(random_state=111)),\n",
        "                    ('model', model)])\n",
        "\n",
        "densepipe.fit(X_t,y_t)\n"
      ],
      "execution_count": 117,
      "outputs": [
        {
          "output_type": "stream",
          "text": [
            "Epoch 1/100\n",
            "280/280 [==============================] - 1s 3ms/step - loss: 1.1191 - recall_21: 0.0540 - val_loss: 1.0177 - val_recall_21: 0.1410\n",
            "Epoch 2/100\n",
            "280/280 [==============================] - 1s 3ms/step - loss: 1.0341 - recall_21: 0.2202 - val_loss: 0.9976 - val_recall_21: 0.2647\n",
            "Epoch 3/100\n",
            "280/280 [==============================] - 1s 3ms/step - loss: 1.0061 - recall_21: 0.3176 - val_loss: 0.9729 - val_recall_21: 0.3743\n",
            "Epoch 4/100\n",
            "280/280 [==============================] - 1s 3ms/step - loss: 0.9923 - recall_21: 0.4045 - val_loss: 0.9463 - val_recall_21: 0.4465\n",
            "Epoch 5/100\n",
            "280/280 [==============================] - 1s 3ms/step - loss: 0.9853 - recall_21: 0.4669 - val_loss: 0.9469 - val_recall_21: 0.4645\n",
            "Epoch 6/100\n",
            "280/280 [==============================] - 1s 3ms/step - loss: 0.9807 - recall_21: 0.4938 - val_loss: 0.9386 - val_recall_21: 0.4951\n",
            "Epoch 7/100\n",
            "280/280 [==============================] - 1s 3ms/step - loss: 0.9776 - recall_21: 0.5140 - val_loss: 0.9359 - val_recall_21: 0.4886\n",
            "Epoch 8/100\n",
            "280/280 [==============================] - 1s 2ms/step - loss: 0.9753 - recall_21: 0.5151 - val_loss: 0.9326 - val_recall_21: 0.4981\n",
            "Epoch 9/100\n",
            "280/280 [==============================] - 1s 3ms/step - loss: 0.9737 - recall_21: 0.5225 - val_loss: 0.9356 - val_recall_21: 0.4925\n",
            "Epoch 10/100\n",
            "280/280 [==============================] - 1s 3ms/step - loss: 0.9724 - recall_21: 0.5224 - val_loss: 0.9339 - val_recall_21: 0.4908\n",
            "Epoch 11/100\n",
            "280/280 [==============================] - 1s 3ms/step - loss: 0.9715 - recall_21: 0.5213 - val_loss: 0.9224 - val_recall_21: 0.5075\n",
            "Epoch 12/100\n",
            "280/280 [==============================] - 1s 3ms/step - loss: 0.9709 - recall_21: 0.5225 - val_loss: 0.9361 - val_recall_21: 0.4942\n",
            "Epoch 13/100\n",
            "280/280 [==============================] - 1s 2ms/step - loss: 0.9703 - recall_21: 0.5190 - val_loss: 0.9209 - val_recall_21: 0.5084\n",
            "Epoch 14/100\n",
            "280/280 [==============================] - 1s 3ms/step - loss: 0.9701 - recall_21: 0.5216 - val_loss: 0.9290 - val_recall_21: 0.4998\n",
            "Epoch 15/100\n",
            "280/280 [==============================] - 1s 3ms/step - loss: 0.9695 - recall_21: 0.5236 - val_loss: 0.9243 - val_recall_21: 0.5037\n",
            "Epoch 16/100\n",
            "280/280 [==============================] - 1s 2ms/step - loss: 0.9692 - recall_21: 0.5216 - val_loss: 0.9259 - val_recall_21: 0.5032\n",
            "Epoch 17/100\n",
            "280/280 [==============================] - 1s 2ms/step - loss: 0.9687 - recall_21: 0.5182 - val_loss: 0.9155 - val_recall_21: 0.5122\n",
            "Epoch 18/100\n",
            "280/280 [==============================] - 1s 3ms/step - loss: 0.9684 - recall_21: 0.5234 - val_loss: 0.9228 - val_recall_21: 0.5015\n",
            "Epoch 19/100\n",
            "280/280 [==============================] - 1s 3ms/step - loss: 0.9681 - recall_21: 0.5221 - val_loss: 0.9191 - val_recall_21: 0.5058\n",
            "Epoch 20/100\n",
            "280/280 [==============================] - 1s 3ms/step - loss: 0.9678 - recall_21: 0.5235 - val_loss: 0.9238 - val_recall_21: 0.4985\n",
            "Epoch 21/100\n",
            "280/280 [==============================] - 1s 3ms/step - loss: 0.9674 - recall_21: 0.5209 - val_loss: 0.9153 - val_recall_21: 0.5101\n",
            "Epoch 22/100\n",
            "280/280 [==============================] - 1s 3ms/step - loss: 0.9670 - recall_21: 0.5222 - val_loss: 0.9148 - val_recall_21: 0.5101\n",
            "Epoch 23/100\n",
            "280/280 [==============================] - 1s 3ms/step - loss: 0.9669 - recall_21: 0.5237 - val_loss: 0.9220 - val_recall_21: 0.4938\n",
            "Epoch 24/100\n",
            "280/280 [==============================] - 1s 3ms/step - loss: 0.9668 - recall_21: 0.5193 - val_loss: 0.9261 - val_recall_21: 0.4925\n",
            "Epoch 25/100\n",
            "280/280 [==============================] - 1s 3ms/step - loss: 0.9665 - recall_21: 0.5213 - val_loss: 0.9279 - val_recall_21: 0.4886\n",
            "Epoch 26/100\n",
            "280/280 [==============================] - 1s 3ms/step - loss: 0.9665 - recall_21: 0.5148 - val_loss: 0.9209 - val_recall_21: 0.4976\n",
            "Epoch 27/100\n",
            "280/280 [==============================] - 1s 3ms/step - loss: 0.9663 - recall_21: 0.5186 - val_loss: 0.9255 - val_recall_21: 0.4882\n",
            "Epoch 28/100\n",
            "280/280 [==============================] - 1s 3ms/step - loss: 0.9662 - recall_21: 0.5157 - val_loss: 0.9180 - val_recall_21: 0.4989\n",
            "Epoch 29/100\n",
            "280/280 [==============================] - 1s 3ms/step - loss: 0.9660 - recall_21: 0.5178 - val_loss: 0.9249 - val_recall_21: 0.4860\n",
            "Epoch 30/100\n",
            "280/280 [==============================] - 1s 3ms/step - loss: 0.9660 - recall_21: 0.5146 - val_loss: 0.9269 - val_recall_21: 0.4925\n",
            "Epoch 31/100\n",
            "280/280 [==============================] - 1s 3ms/step - loss: 0.9659 - recall_21: 0.5160 - val_loss: 0.9247 - val_recall_21: 0.4942\n",
            "Epoch 32/100\n",
            "280/280 [==============================] - 1s 3ms/step - loss: 0.9658 - recall_21: 0.5183 - val_loss: 0.9261 - val_recall_21: 0.4920\n",
            "Epoch 33/100\n",
            "280/280 [==============================] - 1s 3ms/step - loss: 0.9657 - recall_21: 0.5154 - val_loss: 0.9244 - val_recall_21: 0.4951\n",
            "Epoch 34/100\n",
            "280/280 [==============================] - 1s 3ms/step - loss: 0.9656 - recall_21: 0.5178 - val_loss: 0.9279 - val_recall_21: 0.4835\n",
            "Epoch 35/100\n",
            "280/280 [==============================] - 1s 3ms/step - loss: 0.9655 - recall_21: 0.5130 - val_loss: 0.9331 - val_recall_21: 0.4826\n",
            "Epoch 36/100\n",
            "280/280 [==============================] - 1s 3ms/step - loss: 0.9655 - recall_21: 0.5158 - val_loss: 0.9242 - val_recall_21: 0.4899\n",
            "Epoch 37/100\n",
            "280/280 [==============================] - 1s 3ms/step - loss: 0.9654 - recall_21: 0.5158 - val_loss: 0.9187 - val_recall_21: 0.4972\n",
            "Epoch 38/100\n",
            "280/280 [==============================] - 1s 3ms/step - loss: 0.9653 - recall_21: 0.5116 - val_loss: 0.9145 - val_recall_21: 0.5071\n",
            "Epoch 39/100\n",
            "280/280 [==============================] - 1s 3ms/step - loss: 0.9652 - recall_21: 0.5184 - val_loss: 0.9193 - val_recall_21: 0.4972\n",
            "Epoch 40/100\n",
            "280/280 [==============================] - 1s 3ms/step - loss: 0.9650 - recall_21: 0.5140 - val_loss: 0.9151 - val_recall_21: 0.5045\n",
            "Epoch 41/100\n",
            "280/280 [==============================] - 1s 2ms/step - loss: 0.9650 - recall_21: 0.5139 - val_loss: 0.9179 - val_recall_21: 0.4968\n",
            "Epoch 42/100\n",
            "280/280 [==============================] - 1s 3ms/step - loss: 0.9651 - recall_21: 0.5153 - val_loss: 0.9229 - val_recall_21: 0.4933\n",
            "Epoch 43/100\n",
            "280/280 [==============================] - 1s 3ms/step - loss: 0.9649 - recall_21: 0.5118 - val_loss: 0.9151 - val_recall_21: 0.4976\n",
            "Epoch 44/100\n",
            "280/280 [==============================] - 1s 3ms/step - loss: 0.9649 - recall_21: 0.5135 - val_loss: 0.9215 - val_recall_21: 0.4929\n",
            "Epoch 45/100\n",
            "280/280 [==============================] - 1s 3ms/step - loss: 0.9648 - recall_21: 0.5116 - val_loss: 0.9160 - val_recall_21: 0.4994\n",
            "Epoch 46/100\n",
            "280/280 [==============================] - 1s 3ms/step - loss: 0.9648 - recall_21: 0.5154 - val_loss: 0.9272 - val_recall_21: 0.4852\n",
            "Epoch 47/100\n",
            "280/280 [==============================] - 1s 3ms/step - loss: 0.9646 - recall_21: 0.5100 - val_loss: 0.9143 - val_recall_21: 0.5024\n",
            "Epoch 48/100\n",
            "280/280 [==============================] - 1s 3ms/step - loss: 0.9645 - recall_21: 0.5129 - val_loss: 0.9167 - val_recall_21: 0.4920\n",
            "Epoch 49/100\n",
            "280/280 [==============================] - 1s 3ms/step - loss: 0.9646 - recall_21: 0.5150 - val_loss: 0.9244 - val_recall_21: 0.4929\n",
            "Epoch 50/100\n",
            "280/280 [==============================] - 1s 3ms/step - loss: 0.9645 - recall_21: 0.5112 - val_loss: 0.9161 - val_recall_21: 0.4994\n",
            "Epoch 51/100\n",
            "280/280 [==============================] - 1s 3ms/step - loss: 0.9644 - recall_21: 0.5151 - val_loss: 0.9258 - val_recall_21: 0.4869\n",
            "Epoch 52/100\n",
            "280/280 [==============================] - 1s 3ms/step - loss: 0.9645 - recall_21: 0.5123 - val_loss: 0.9240 - val_recall_21: 0.4843\n",
            "Epoch 53/100\n",
            "280/280 [==============================] - 1s 3ms/step - loss: 0.9643 - recall_21: 0.5128 - val_loss: 0.9123 - val_recall_21: 0.5037\n",
            "Epoch 54/100\n",
            "280/280 [==============================] - 1s 3ms/step - loss: 0.9644 - recall_21: 0.5148 - val_loss: 0.9359 - val_recall_21: 0.4766\n",
            "Epoch 55/100\n",
            "280/280 [==============================] - 1s 3ms/step - loss: 0.9643 - recall_21: 0.5122 - val_loss: 0.9279 - val_recall_21: 0.4835\n",
            "Epoch 56/100\n",
            "280/280 [==============================] - 1s 3ms/step - loss: 0.9642 - recall_21: 0.5125 - val_loss: 0.9215 - val_recall_21: 0.4946\n",
            "Epoch 57/100\n",
            "280/280 [==============================] - 1s 3ms/step - loss: 0.9642 - recall_21: 0.5146 - val_loss: 0.9384 - val_recall_21: 0.4697\n",
            "Epoch 58/100\n",
            "280/280 [==============================] - 1s 3ms/step - loss: 0.9641 - recall_21: 0.5127 - val_loss: 0.9252 - val_recall_21: 0.4925\n",
            "Epoch 59/100\n",
            "280/280 [==============================] - 1s 3ms/step - loss: 0.9640 - recall_21: 0.5130 - val_loss: 0.9278 - val_recall_21: 0.4839\n",
            "Epoch 60/100\n",
            "280/280 [==============================] - 1s 3ms/step - loss: 0.9640 - recall_21: 0.5113 - val_loss: 0.9219 - val_recall_21: 0.4938\n",
            "Epoch 61/100\n",
            "280/280 [==============================] - 1s 3ms/step - loss: 0.9638 - recall_21: 0.5095 - val_loss: 0.9099 - val_recall_21: 0.5110\n",
            "Epoch 62/100\n",
            "280/280 [==============================] - 1s 3ms/step - loss: 0.9638 - recall_21: 0.5149 - val_loss: 0.9112 - val_recall_21: 0.5122\n",
            "Epoch 63/100\n",
            "280/280 [==============================] - 1s 3ms/step - loss: 0.9638 - recall_21: 0.5147 - val_loss: 0.9203 - val_recall_21: 0.5006\n",
            "Epoch 64/100\n",
            "280/280 [==============================] - 1s 3ms/step - loss: 0.9637 - recall_21: 0.5146 - val_loss: 0.9250 - val_recall_21: 0.4916\n",
            "Epoch 65/100\n",
            "280/280 [==============================] - 1s 3ms/step - loss: 0.9636 - recall_21: 0.5112 - val_loss: 0.9247 - val_recall_21: 0.4873\n",
            "Epoch 66/100\n",
            "280/280 [==============================] - 1s 3ms/step - loss: 0.9635 - recall_21: 0.5128 - val_loss: 0.9243 - val_recall_21: 0.4817\n",
            "Epoch 67/100\n",
            "280/280 [==============================] - 1s 3ms/step - loss: 0.9635 - recall_21: 0.5121 - val_loss: 0.9120 - val_recall_21: 0.5092\n",
            "Epoch 68/100\n",
            "280/280 [==============================] - 1s 3ms/step - loss: 0.9635 - recall_21: 0.5168 - val_loss: 0.9263 - val_recall_21: 0.4839\n",
            "Epoch 69/100\n",
            "280/280 [==============================] - 1s 3ms/step - loss: 0.9634 - recall_21: 0.5105 - val_loss: 0.9234 - val_recall_21: 0.4946\n",
            "Epoch 70/100\n",
            "280/280 [==============================] - 1s 3ms/step - loss: 0.9634 - recall_21: 0.5090 - val_loss: 0.9165 - val_recall_21: 0.5101\n",
            "Epoch 71/100\n",
            "280/280 [==============================] - 1s 3ms/step - loss: 0.9633 - recall_21: 0.5173 - val_loss: 0.9328 - val_recall_21: 0.4761\n",
            "Epoch 72/100\n",
            "280/280 [==============================] - 1s 3ms/step - loss: 0.9633 - recall_21: 0.5118 - val_loss: 0.9164 - val_recall_21: 0.4946\n",
            "Epoch 73/100\n",
            "280/280 [==============================] - 1s 3ms/step - loss: 0.9631 - recall_21: 0.5137 - val_loss: 0.9298 - val_recall_21: 0.4800\n",
            "Epoch 74/100\n",
            "280/280 [==============================] - 1s 3ms/step - loss: 0.9632 - recall_21: 0.5108 - val_loss: 0.9268 - val_recall_21: 0.4865\n",
            "Epoch 75/100\n",
            "280/280 [==============================] - 1s 3ms/step - loss: 0.9630 - recall_21: 0.5118 - val_loss: 0.9231 - val_recall_21: 0.4886\n",
            "Epoch 76/100\n",
            "280/280 [==============================] - 1s 3ms/step - loss: 0.9629 - recall_21: 0.5139 - val_loss: 0.9269 - val_recall_21: 0.4899\n",
            "Epoch 77/100\n",
            "280/280 [==============================] - 1s 3ms/step - loss: 0.9627 - recall_21: 0.5180 - val_loss: 0.9360 - val_recall_21: 0.4753\n",
            "Epoch 78/100\n",
            "280/280 [==============================] - 1s 3ms/step - loss: 0.9629 - recall_21: 0.5118 - val_loss: 0.9299 - val_recall_21: 0.4779\n",
            "Epoch 79/100\n",
            "280/280 [==============================] - 1s 3ms/step - loss: 0.9626 - recall_21: 0.5112 - val_loss: 0.9244 - val_recall_21: 0.4903\n",
            "Epoch 80/100\n",
            "280/280 [==============================] - 1s 3ms/step - loss: 0.9624 - recall_21: 0.5131 - val_loss: 0.9137 - val_recall_21: 0.5092\n",
            "Epoch 81/100\n",
            "280/280 [==============================] - 1s 3ms/step - loss: 0.9623 - recall_21: 0.5161 - val_loss: 0.9263 - val_recall_21: 0.4835\n",
            "Epoch 82/100\n",
            "280/280 [==============================] - 1s 3ms/step - loss: 0.9621 - recall_21: 0.5128 - val_loss: 0.9214 - val_recall_21: 0.4882\n",
            "Epoch 83/100\n",
            "280/280 [==============================] - 1s 3ms/step - loss: 0.9619 - recall_21: 0.5125 - val_loss: 0.9295 - val_recall_21: 0.4753\n",
            "Epoch 84/100\n",
            "280/280 [==============================] - 1s 3ms/step - loss: 0.9619 - recall_21: 0.5133 - val_loss: 0.9179 - val_recall_21: 0.4920\n",
            "Epoch 85/100\n",
            "280/280 [==============================] - 1s 3ms/step - loss: 0.9616 - recall_21: 0.5138 - val_loss: 0.9231 - val_recall_21: 0.4839\n",
            "Epoch 86/100\n",
            "280/280 [==============================] - 1s 3ms/step - loss: 0.9617 - recall_21: 0.5121 - val_loss: 0.9161 - val_recall_21: 0.5054\n",
            "Epoch 87/100\n",
            "280/280 [==============================] - 1s 3ms/step - loss: 0.9614 - recall_21: 0.5180 - val_loss: 0.9293 - val_recall_21: 0.4757\n",
            "Epoch 88/100\n",
            "280/280 [==============================] - 1s 3ms/step - loss: 0.9613 - recall_21: 0.5092 - val_loss: 0.9188 - val_recall_21: 0.4972\n",
            "Epoch 89/100\n",
            "280/280 [==============================] - 1s 3ms/step - loss: 0.9612 - recall_21: 0.5170 - val_loss: 0.9323 - val_recall_21: 0.4809\n",
            "Epoch 90/100\n",
            "280/280 [==============================] - 1s 3ms/step - loss: 0.9611 - recall_21: 0.5104 - val_loss: 0.9237 - val_recall_21: 0.4817\n",
            "Epoch 91/100\n",
            "280/280 [==============================] - 1s 3ms/step - loss: 0.9610 - recall_21: 0.5157 - val_loss: 0.9108 - val_recall_21: 0.5006\n",
            "Epoch 92/100\n",
            "280/280 [==============================] - 1s 3ms/step - loss: 0.9607 - recall_21: 0.5122 - val_loss: 0.9201 - val_recall_21: 0.4933\n",
            "Epoch 93/100\n",
            "280/280 [==============================] - 1s 3ms/step - loss: 0.9607 - recall_21: 0.5161 - val_loss: 0.9287 - val_recall_21: 0.4727\n",
            "Epoch 94/100\n",
            "280/280 [==============================] - 1s 3ms/step - loss: 0.9605 - recall_21: 0.5085 - val_loss: 0.9185 - val_recall_21: 0.4856\n",
            "Epoch 95/100\n",
            "280/280 [==============================] - 1s 3ms/step - loss: 0.9604 - recall_21: 0.5137 - val_loss: 0.9163 - val_recall_21: 0.4878\n",
            "Epoch 96/100\n",
            "280/280 [==============================] - 1s 3ms/step - loss: 0.9601 - recall_21: 0.5148 - val_loss: 0.9255 - val_recall_21: 0.4809\n",
            "Epoch 97/100\n",
            "280/280 [==============================] - 1s 3ms/step - loss: 0.9600 - recall_21: 0.5068 - val_loss: 0.9191 - val_recall_21: 0.4951\n",
            "Epoch 98/100\n",
            "280/280 [==============================] - 1s 3ms/step - loss: 0.9598 - recall_21: 0.5108 - val_loss: 0.9163 - val_recall_21: 0.4886\n",
            "Epoch 99/100\n",
            "280/280 [==============================] - 1s 3ms/step - loss: 0.9597 - recall_21: 0.5114 - val_loss: 0.9184 - val_recall_21: 0.4955\n",
            "Epoch 100/100\n",
            "280/280 [==============================] - 1s 3ms/step - loss: 0.9597 - recall_21: 0.5106 - val_loss: 0.9224 - val_recall_21: 0.4839\n"
          ],
          "name": "stdout"
        },
        {
          "output_type": "execute_result",
          "data": {
            "text/plain": [
              "Pipeline(memory=None,\n",
              "         steps=[('scaler', CourseScaler(drop_course=True)),\n",
              "                ('smoter',\n",
              "                 SMOTE(k_neighbors=5, kind='deprecated',\n",
              "                       m_neighbors='deprecated', n_jobs=1,\n",
              "                       out_step='deprecated', random_state=111, ratio=None,\n",
              "                       sampling_strategy='auto', svm_estimator='deprecated')),\n",
              "                ('model',\n",
              "                 <tensorflow.python.keras.wrappers.scikit_learn.KerasClassifier object at 0x7f4acee125c0>)],\n",
              "         verbose=False)"
            ]
          },
          "metadata": {
            "tags": []
          },
          "execution_count": 117
        }
      ]
    },
    {
      "cell_type": "code",
      "metadata": {
        "colab": {
          "base_uri": "https://localhost:8080/",
          "height": 478
        },
        "id": "hd3cT5mF4e6a",
        "outputId": "cb85262e-64d1-42a3-9544-d7176c877974"
      },
      "source": [
        "y_pred = densepipe.predict(X_val, verbose = 0)\n",
        "\n",
        "y_true = np.argmax(y_val, axis=1)\n",
        "\n",
        "print('Recall for \"Pass\":')\n",
        "print(recall_score(y_true,y_pred, average=None)[1])\n",
        "plot_confusion(y_true, y_pred, labels=[1,0,2])\n",
        "print(classification_report(y_true,y_pred))"
      ],
      "execution_count": 122,
      "outputs": [
        {
          "output_type": "stream",
          "text": [
            "Recall for \"Pass\":\n",
            "0.660077352814783\n",
            "              precision    recall  f1-score   support\n",
            "\n",
            "           0       0.48      0.47      0.48       897\n",
            "           1       0.83      0.66      0.74      2327\n",
            "           2       0.16      0.35      0.22       395\n",
            "\n",
            "    accuracy                           0.58      3619\n",
            "   macro avg       0.49      0.49      0.48      3619\n",
            "weighted avg       0.67      0.58      0.61      3619\n",
            "\n"
          ],
          "name": "stdout"
        },
        {
          "output_type": "display_data",
          "data": {
            "image/png": "[encoded data removed]",
            "text/plain": [
              "<Figure size 432x288 with 2 Axes>"
            ]
          },
          "metadata": {
            "tags": []
          }
        }
      ]
    },
    {
      "cell_type": "code",
      "metadata": {
        "colab": {
          "base_uri": "https://localhost:8080/"
        },
        "id": "_wD2HxAG4-pM",
        "outputId": "fdc5c218-f215-4e6a-cdd8-980f3fc42abe"
      },
      "source": [
        "y_t.shape"
      ],
      "execution_count": 107,
      "outputs": [
        {
          "output_type": "execute_result",
          "data": {
            "text/plain": [
              "(14475, 3)"
            ]
          },
          "metadata": {
            "tags": []
          },
          "execution_count": 107
        }
      ]
    },
    {
      "cell_type": "code",
      "metadata": {
        "colab": {
          "base_uri": "https://localhost:8080/"
        },
        "id": "j_AN0o2_BH4I",
        "outputId": "9ff2f2fc-1d90-4a91-b4df-d34cd4c3c4a1"
      },
      "source": [
        "densepipe.predict(X_val).shape"
      ],
      "execution_count": 108,
      "outputs": [
        {
          "output_type": "stream",
          "text": [
            "37/37 [==============================] - 0s 866us/step\n"
          ],
          "name": "stdout"
        },
        {
          "output_type": "execute_result",
          "data": {
            "text/plain": [
              "(3619,)"
            ]
          },
          "metadata": {
            "tags": []
          },
          "execution_count": 108
        }
      ]
    },
    {
      "cell_type": "code",
      "metadata": {
        "id": "LZorRiYbBJnd"
      },
      "source": [
        ""
      ],
      "execution_count": null,
      "outputs": []
    }
  ]
}