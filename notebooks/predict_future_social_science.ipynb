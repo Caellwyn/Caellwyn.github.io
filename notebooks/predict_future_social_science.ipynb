{
 "cells": [
  {
   "cell_type": "markdown",
   "metadata": {},
   "source": [
    "# Finding the right model"
   ]
  },
  {
   "cell_type": "code",
   "execution_count": null,
   "metadata": {},
   "outputs": [],
   "source": []
  },
  {
   "cell_type": "code",
   "execution_count": 16,
   "metadata": {},
   "outputs": [
    {
     "name": "stdout",
     "output_type": "stream",
     "text": [
      "The autoreload extension is already loaded. To reload it, use:\n",
      "  %reload_ext autoreload\n"
     ]
    }
   ],
   "source": [
    "%load_ext autoreload\n",
    "%autoreload 2\n",
    "\n",
    "import pandas as pd\n",
    "import numpy as np\n",
    "\n",
    "from sklearn.linear_model import LogisticRegression\n",
    "from sklearn.tree import DecisionTreeClassifier\n",
    "from sklearn.ensemble import RandomForestClassifier\n",
    "from sklearn.neighbors import KNeighborsClassifier\n",
    "from sklearn.svm import SVC\n",
    "from sklearn.preprocessing import StandardScaler\n",
    "from sklearn.model_selection import train_test_split, KFold\n",
    "from sklearn.metrics import confusion_matrix, accuracy_score, classification_report, f1_score\n",
    "\n",
    "from xgboost import XGBClassifier\n",
    "from xgboost import plot_importance\n",
    "\n",
    "from imblearn.over_sampling import SMOTE\n",
    "\n",
    "import seaborn as sns\n",
    "import matplotlib.pyplot as plt\n",
    "%matplotlib inline\n",
    "\n",
    "import os\n",
    "import sys\n",
    "module_path = os.path.abspath(os.path.join(os.pardir))\n",
    "if module_path not in sys.path:\n",
    "    sys.path.append(module_path)\n",
    "from src.functions import load_OU_data, CourseScaler, plot_confusion, score_grid, \\\n",
    "smotecourses, process_courses, course_cross_validate, Course_GridSearchCV, \\\n",
    "model_evaluate_presentation, cross_val_presentation, GridSearchPresentationCV\n",
    "\n",
    "import pickle\n",
    "\n",
    "import warnings\n",
    "\n",
    "from IPython.display import display\n",
    "\n",
    "warnings.filterwarnings(\"ignore\")\n",
    "sns.set_style('white')\n",
    "pd.set_option('display.max_columns',None)"
   ]
  },
  {
   "cell_type": "code",
   "execution_count": 17,
   "metadata": {},
   "outputs": [],
   "source": [
    "df_full = load_OU_data(prediction_window=.75)\n"
   ]
  },
  {
   "cell_type": "code",
   "execution_count": 32,
   "metadata": {},
   "outputs": [],
   "source": [
    "df = df_full.copy()\n",
    "df = df[df['code_module'].isin(['AAA','GGG','BBB'])]\n",
    "df = df.drop(columns = ['id_student','region','highest_education', \\\n",
    "                   'imd_band','gender','age_band','disability','studied_credits',\n",
    "                   'module_presentation_length','date_registration'])\n",
    "df['final_result'] = np.array(['No Intervention' if w in ['Pass','Distinction'] \\\n",
    "              else 'Needs Intervention' for w in df['final_result']])\n",
    "test_df = df[df['code_presentation'] == '2014J']\n",
    "test_df = test_df[test_df['code_module'] != 'BBB']\n",
    "\n",
    "train_df = df[df['code_presentation'] != '2014J']\n",
    "\n",
    "X_train = train_df.drop(columns = ['final_result','code_presentation'])\n",
    "y_train = train_df['final_result']\n",
    "X_test = test_df.drop(columns = ['final_result','code_presentation'])\n",
    "y_test = test_df['final_result']\n",
    "\n",
    "X_train_transformed, y_train_transformed, X_test_transformed \\\n",
    "                                = process_courses(X_train, y_train, X_test)"
   ]
  },
  {
   "cell_type": "code",
   "execution_count": 19,
   "metadata": {},
   "outputs": [
    {
     "data": {
      "text/plain": [
       "BBB    4056\n",
       "GGG    1642\n",
       "AAA     321\n",
       "Name: code_module, dtype: int64"
      ]
     },
     "execution_count": 19,
     "metadata": {},
     "output_type": "execute_result"
    }
   ],
   "source": [
    "X_train.code_module.value_counts()"
   ]
  },
  {
   "cell_type": "markdown",
   "metadata": {},
   "source": [
    "# FSM"
   ]
  },
  {
   "cell_type": "code",
   "execution_count": 20,
   "metadata": {},
   "outputs": [
    {
     "data": {
      "text/html": [
       "<div>\n",
       "<style scoped>\n",
       "    .dataframe tbody tr th:only-of-type {\n",
       "        vertical-align: middle;\n",
       "    }\n",
       "\n",
       "    .dataframe tbody tr th {\n",
       "        vertical-align: top;\n",
       "    }\n",
       "\n",
       "    .dataframe thead th {\n",
       "        text-align: right;\n",
       "    }\n",
       "</style>\n",
       "<table border=\"1\" class=\"dataframe\">\n",
       "  <thead>\n",
       "    <tr style=\"text-align: right;\">\n",
       "      <th></th>\n",
       "      <th>score</th>\n",
       "    </tr>\n",
       "  </thead>\n",
       "  <tbody>\n",
       "    <tr>\n",
       "      <th>AAA</th>\n",
       "      <td>0.876623</td>\n",
       "    </tr>\n",
       "    <tr>\n",
       "      <th>BBB</th>\n",
       "      <td>0.274858</td>\n",
       "    </tr>\n",
       "    <tr>\n",
       "      <th>GGG</th>\n",
       "      <td>0.853736</td>\n",
       "    </tr>\n",
       "  </tbody>\n",
       "</table>\n",
       "</div>"
      ],
      "text/plain": [
       "        score\n",
       "AAA  0.876623\n",
       "BBB  0.274858\n",
       "GGG  0.853736"
      ]
     },
     "execution_count": 20,
     "metadata": {},
     "output_type": "execute_result"
    }
   ],
   "source": [
    "modules = X_train.code_module.unique()\n",
    "scores = pd.DataFrame(index = modules, columns = ['score'])\n",
    "for module in modules:\n",
    "    if module in test_df.code_module.unique():\n",
    "        model = LogisticRegression()\n",
    "        train = train_df[train_df['code_module'] == module]\n",
    "        test = test_df[test_df['code_module'] == module]\n",
    "        X_t = train.drop(columns = ['code_module','final_result', 'code_presentation'])\n",
    "        y_t = train.final_result\n",
    "        X_val = test.drop(columns = ['code_module','final_result', 'code_presentation'])\n",
    "        y_val = test.final_result\n",
    "        model.fit(X_t,y_t)\n",
    "        y_pred = model.predict(X_val)\n",
    "        scores.loc[module,'score'] = accuracy_score(y_val, y_pred)\n",
    "scores"
   ]
  },
  {
   "cell_type": "code",
   "execution_count": 21,
   "metadata": {},
   "outputs": [
    {
     "data": {
      "text/plain": [
       "0.840973116479675"
      ]
     },
     "metadata": {},
     "output_type": "display_data"
    },
    {
     "data": {
      "image/png": "[encoded data removed]",
      "text/plain": [
       "<Figure size 720x360 with 1 Axes>"
      ]
     },
     "metadata": {},
     "output_type": "display_data"
    },
    {
     "data": {
      "text/html": [
       "<div>\n",
       "<style scoped>\n",
       "    .dataframe tbody tr th:only-of-type {\n",
       "        vertical-align: middle;\n",
       "    }\n",
       "\n",
       "    .dataframe tbody tr th {\n",
       "        vertical-align: top;\n",
       "    }\n",
       "\n",
       "    .dataframe thead th {\n",
       "        text-align: right;\n",
       "    }\n",
       "</style>\n",
       "<table border=\"1\" class=\"dataframe\">\n",
       "  <thead>\n",
       "    <tr style=\"text-align: right;\">\n",
       "      <th></th>\n",
       "      <th></th>\n",
       "      <th>score</th>\n",
       "    </tr>\n",
       "    <tr>\n",
       "      <th>code_module</th>\n",
       "      <th>code_presentation</th>\n",
       "      <th></th>\n",
       "    </tr>\n",
       "  </thead>\n",
       "  <tbody>\n",
       "    <tr>\n",
       "      <th>AAA</th>\n",
       "      <th>2013J</th>\n",
       "      <td>NaN</td>\n",
       "    </tr>\n",
       "    <tr>\n",
       "      <th rowspan=\"3\" valign=\"top\">BBB</th>\n",
       "      <th>2013B</th>\n",
       "      <td>0.868624</td>\n",
       "    </tr>\n",
       "    <tr>\n",
       "      <th>2013J</th>\n",
       "      <td>0.852814</td>\n",
       "    </tr>\n",
       "    <tr>\n",
       "      <th>2014B</th>\n",
       "      <td>0.874236</td>\n",
       "    </tr>\n",
       "    <tr>\n",
       "      <th rowspan=\"2\" valign=\"top\">GGG</th>\n",
       "      <th>2013J</th>\n",
       "      <td>0.817469</td>\n",
       "    </tr>\n",
       "    <tr>\n",
       "      <th>2014B</th>\n",
       "      <td>0.791722</td>\n",
       "    </tr>\n",
       "  </tbody>\n",
       "</table>\n",
       "</div>"
      ],
      "text/plain": [
       "                                  score\n",
       "code_module code_presentation          \n",
       "AAA         2013J                   NaN\n",
       "BBB         2013B              0.868624\n",
       "            2013J              0.852814\n",
       "            2014B              0.874236\n",
       "GGG         2013J              0.817469\n",
       "            2014B              0.791722"
      ]
     },
     "metadata": {},
     "output_type": "display_data"
    }
   ],
   "source": [
    "model = LogisticRegression()\n",
    "scores = cross_val_presentation(model, train_df, scoring = 'f1', verbose = 1)\n",
    "scores.plot(kind = 'bar', figsize = (10,5), title = 'Logistic Regression F1 Score by Presentation')\n",
    "plt.show()\n",
    "display(scores)"
   ]
  },
  {
   "cell_type": "markdown",
   "metadata": {},
   "source": [
    "## GridsearchCV for best logistic regression hyperparameters"
   ]
  },
  {
   "cell_type": "markdown",
   "metadata": {},
   "source": [
    "LRparams = [{'solver': ['lbfgs','sag','saga','newton-cg'],\n",
    "         'penalty': ['none'],\n",
    "         'random_state':[111]},\n",
    "          {'solver': ['lbfgs','sag','saga','newton-cg','liblinear'],\n",
    "         'penalty': ['l2'],\n",
    "         'random_state':[111]},\n",
    "          {'solver':['saga'],\n",
    "          'penalty':['elasticnet'], 'l1_ratio':[.1,.5,.7]},\n",
    "          {'solver':['saga','liblinear'],\n",
    "          'penalty':['l1']}]\n",
    "\n",
    "\n",
    "LRgrid = GridSearchPresentationCV(LogisticRegression(), LRparams,\n",
    "                                scoring='f1', verbose = 1)\n",
    "\n",
    "LRgrid.fit(train_df)\n",
    "LRmodel = score_grid(LRgrid, X_test_transformed, y_test)\n",
    "pickle.dump(LRmodel,open('../models/LRmodel3.pkl','wb'))"
   ]
  },
  {
   "cell_type": "markdown",
   "metadata": {},
   "source": [
    "## Logistic Regression Evaluation\n",
    "By optimizing the hyperparameters of the logistic regression model, which are all regularization parameters, we've barely moved the needle at all.  We gained .0002 accuracy."
   ]
  },
  {
   "cell_type": "markdown",
   "metadata": {},
   "source": [
    "# More model types\n",
    "We used the logistic regression classifier to tune our features, but now it's time to try some other models.  We will use Course_GridsearchCV to optimize the hyperparameters for these as well."
   ]
  },
  {
   "cell_type": "markdown",
   "metadata": {},
   "source": [
    "# Decision Tree\n",
    "A decision tree is a promising candidate for this problem because it does not assume the independence of the features. Instead it seeks to find the best way to divide and subdivide the data in a tree structure based on the values of different variables.  We can tune how many features each split is allowed to consider.  Once the tree is build predictions are made by sending an observations down the tree sending it on a path to the predicted class as it reaches each split in the tree is sent in one or the other direction.  You can think of it like a deterministic Pachinko machine!"
   ]
  },
  {
   "cell_type": "markdown",
   "metadata": {},
   "source": [
    "DTparams = {'criterion':['gini','entropy'],\n",
    "           'splitter':['best'],\n",
    "           'max_depth':[4,10],'min_samples_split':[.01,.1,.2,.5],\n",
    "           'max_features':[1,2,3,4,5],'random_state':[111]}\n",
    "\n",
    "\n",
    "DTgrid = GridSearchPresentationCV(DecisionTreeClassifier(), DTparams,\n",
    "                                scoring='f1', verbose = 1)\n",
    "\n",
    "DTgrid.fit(train_df)\n",
    "DTmodel = score_grid(DTgrid, X_test_transformed, y_test)\n",
    "pickle.dump(DTmodel,open('../models/DTmodel3.pkl','wb'))"
   ]
  },
  {
   "cell_type": "markdown",
   "metadata": {},
   "source": [
    "### Decision Tree Evaluation \n",
    "As expected, this model is better at predicting how a student will do.  It doesn't rely on establishing a straight line through the data to model it, which is probably not the best approach in this problem space.  We see a nice increase in accuracy here."
   ]
  },
  {
   "cell_type": "markdown",
   "metadata": {},
   "source": [
    "# Random Forest Classifier\n",
    "This is an interesting extension to the decision tree model.  It creates a whole forest of decision trees and trains each one on a subset of the data and a subset of the features.  This is a technique called bagging, or [Boostrap AGGregation](https://machinelearningmastery.com/bagging-and-random-forest-ensemble-algorithms-for-machine-learning/) (check the link for more on this).  It works on the principle that a bunch of bad predictors, on average will be more accurate than one good predictor.  This worked for Francis Galton in [guessing the weight of an ox](https://crowdsourcingweek.com/blog/using-the-crowd-to-predict/), maybe it will work here!"
   ]
  },
  {
   "cell_type": "markdown",
   "metadata": {},
   "source": [
    "RFparams = {'n_estimators':[10,100,150],\n",
    "           'criterion':['gini','entropy'],\n",
    "           'max_depth':[4],\n",
    "           'min_samples_split':[2,4,5],\n",
    "           'oob_score':[True,False],\n",
    "           'n_jobs':[-1],'random_state':[111],\n",
    "           'max_samples':[.5,.7,None]}\n",
    "           \n",
    "RFgrid = GridSearchPresentationCV(RandomForestClassifier(), RFparams, scoring = 'f1', verbose = 1)\n",
    "\n",
    "RFgrid.fit(train_df)\n",
    "\n",
    "RFmodel = score_grid(RFgrid, X_test_transformed, y_test)\n",
    "pickle.dump(RFmodel, open('../models/RFmodel3.pkl','wb'))"
   ]
  },
  {
   "cell_type": "markdown",
   "metadata": {},
   "source": [
    "### Random Forest Classifier Evaluation:\n",
    "Apparently bagging is not the right approach to this problem.  Our single well tuned decision tree outperformed the random forest classifier.  I guess the wisdom of the crowd is not always superior to the wisdom of the expert!"
   ]
  },
  {
   "cell_type": "markdown",
   "metadata": {},
   "source": [
    "# eXtreme Gradient Boost model:\n",
    "XGBoost models have gained a lot of popularity recently and won a lot of Kaggle competitions.  It uses another popular idea called [boosting](https://en.wikipedia.org/wiki/Gradient_boosting).  That's a pretty involved wikipedia article, but the TLDR is that it's a similar ensemble method like random forest, but whereas random forest trains a bunch of trees in parallel and takes the aggregate of their predictions, boosting stacks the trees on top of each other and each one tries to improve on the one below it by predicting where the previous one made mistakes.  I think of it as like a line of morons each grading the next one's paper, which is an analysis of the previous one's paper.  Each one gets a lot wrong, but something right so the right answers percolate through and some of the wrong answers get corrected at each step."
   ]
  },
  {
   "cell_type": "markdown",
   "metadata": {},
   "source": [
    "XGBparams = {'n_estimators':[200,300,400],\n",
    "             'max_depth':[4],\n",
    "             'learning_rate':[.1], \n",
    "             'subsample':[.7],\n",
    "             'gamma':[1],\n",
    "             'min_child_weight':[2,4],\n",
    "             'num_parallel_tree':[2,3],\n",
    "             'eval_metric':['logloss'],\n",
    "            'colsample_bytree':[.8,.9,1],\n",
    "            'base_score':[.4,.5,.6]}\n",
    "           \n",
    "XBGgrid = GridSearchPresentationCV(XGBClassifier(objective='binary:logistic', \n",
    "                                                 n_jobs=-1, random_state=111),\n",
    "                                 XGBparams, scoring = 'f1', verbose = 1)\n",
    "XBGgrid.fit(train_df)\n",
    "\n",
    "XGBmodel = score_grid(XBGgrid, X_test_transformed, y_test)\n",
    "\n",
    "pickle.dump(XGBmodel, open('../models/XGBmodel5.pkl','wb'))"
   ]
  },
  {
   "cell_type": "markdown",
   "metadata": {},
   "source": [
    "plot_importance(XGBmodel, importance_type = 'gain')"
   ]
  },
  {
   "cell_type": "markdown",
   "metadata": {},
   "source": [
    "## XGBoost evaluation:\n",
    "XGBoost gave us the best cross-validated score of these four model types.  While it performs slightly worse on the validation set than the random forest, looking at the scores across folds, it seems likely that this represents the validation set being a sort of bad split.  XGBoost also performs equally well on both classes.  It correctly identifies 74% of students who need intervention to succeed, while misclassifying 27% of passing students as needing intervention.  "
   ]
  },
  {
   "cell_type": "markdown",
   "metadata": {},
   "source": [
    "# SVM\n",
    "An SVM, or support vector machine, attempts to draw a line, or hyperplane, between the classes to divide them.  This can be degree 2 polynomial line or higher, creating curved dividers of different shapes to match more complex decision boundaries.  It finds the best fit such hyperplane so as to maximize the distance between observations in a recursive manner.  EDA suggests that the observations can, to a large extent, be divided along the variables we have seen.  Decision trees, which do not operate this way, have been relatively successful, but let's see what this model, somewhat more closely related to the logistic regression, can do."
   ]
  },
  {
   "cell_type": "markdown",
   "metadata": {
    "scrolled": true
   },
   "source": [
    "SVCparams = [{'kernel':['linear'],'C':[.01, .1, 1, 10, 100]},\n",
    "            {'kernel':['poly'],'C':[.01, .1, 1, 10, 100],\n",
    "             'degree':[3,4]}]\n",
    "             \n",
    "SVCgrid = GridSearchPresentationCV(SVC(random_state=111), SVCparams, \n",
    "                                scoring='f1', verbose = 1)\n",
    "\n",
    "SVCgrid.fit(train_df)\n",
    "SVCmodel = score_grid(SVCgrid, X_test_transformed, y_test)\n",
    "pickle.dump(SVCmodel, open('../models/SVCmodel2.pkl','wb'))"
   ]
  },
  {
   "cell_type": "markdown",
   "metadata": {},
   "source": [
    "## SVM Evaluation\n",
    "The SVM performed quite well.  It scored an overall accuracy of 77% with slight prediction bias toward 'No Intervention', in line with the other models.  \n",
    "\n",
    "Different hyper parameters didn't make much difference to accuracy, except a polynomial kernel (degree 3) over predicted student success.  This would be the way to go if interventions are particularly costly.  If you biased the predictions that much toward 'No Intervention', you could be fairly certain that the students receiving interventions really need them.  The same results could also be achieved with the logistic regression model by setting the decision point of the sigmoid function toward the passing class, biasing the model."
   ]
  },
  {
   "cell_type": "markdown",
   "metadata": {},
   "source": [
    "## K-Nearest Neighbors\n",
    "This model positions each observation (student registration in this case) from the training set in n_feature dimensional space.  New observations from the test set are voted on by the closest K observations from the training set to determine which class the new observation should belong to. There are two big benefits to this modeling technique for our dataset.  The first is that it is fast with few features.  We have only 6 features, so the dimensionality of the space is low, observations are more tightly packed, and the model makes determinations quickly.  The second benefit is that it is non-linear.  We've had some success with more linear models, and decision tree models.  Our error analysis and EDA show that there are strong linear relationships between our variables and the success of students.  However there is a solid 20% of students that cannot seem to be classified with these linear models.  The decision tree models similar seem to fail to classify these students.  Perhaps this model can help find where they belong.  "
   ]
  },
  {
   "cell_type": "markdown",
   "metadata": {},
   "source": [
    "KNNparams = {'n_neighbors':[30, 50, 100, 150],\n",
    "            'weights':['distance', 'uniform'],\n",
    "             'p':[2,3,4,5,6,7,8,9]}\n",
    "             \n",
    "KNNgrid = GridSearchPresentationCV(KNeighborsClassifier(n_jobs = -1), KNNparams, \n",
    "                                scoring='f1', verbose = 0)\n",
    "\n",
    "KNNgrid.fit(train_df)\n",
    "KNNmodel = score_grid(KNNgrid, X_test_transformed, y_test)\n",
    "pickle.dump(KNNmodel, open('../models/KNNmodel2.pkl','wb'))"
   ]
  },
  {
   "cell_type": "markdown",
   "metadata": {},
   "source": [
    "### KNN Evaluation\n",
    "This model, like the others, seems to top out around 77%.  We still haven't found a way to capture the pattern for how those last 20-23% of students fail or withdraw.  Looking at our error analysis from the final report notebook we see that those misclassfied students really look a lot like successful ones according to all of our variables.  It may just be that we don't have the right variable to find the connection.  We may be running up against the irreducible error for this feature set."
   ]
  },
  {
   "cell_type": "code",
   "execution_count": 33,
   "metadata": {},
   "outputs": [
    {
     "name": "stdout",
     "output_type": "stream",
     "text": [
      "                    precision    recall  f1-score   support\n",
      "\n",
      "Needs Intervention       0.54      0.86      0.66       248\n",
      "   No Intervention       0.94      0.73      0.82       689\n",
      "\n",
      "          accuracy                           0.77       937\n",
      "         macro avg       0.74      0.80      0.74       937\n",
      "      weighted avg       0.83      0.77      0.78       937\n",
      "\n"
     ]
    },
    {
     "data": {
      "image/png": "[encoded data removed]",
      "text/plain": [
       "<Figure size 432x288 with 2 Axes>"
      ]
     },
     "metadata": {},
     "output_type": "display_data"
    }
   ],
   "source": [
    "LRmodel = pickle.load(open('../models/LRmodel3.pkl','rb'))\n",
    "LRmodel.fit(X_train_transformed,y_train_transformed)\n",
    "y_pred = LRmodel.predict(X_test_transformed)\n",
    "plot_confusion(y_test, y_pred)\n",
    "print(classification_report(y_test,y_pred))"
   ]
  },
  {
   "cell_type": "code",
   "execution_count": 34,
   "metadata": {},
   "outputs": [
    {
     "name": "stdout",
     "output_type": "stream",
     "text": [
      "                    precision    recall  f1-score   support\n",
      "\n",
      "Needs Intervention       0.63      0.77      0.69       248\n",
      "   No Intervention       0.91      0.83      0.87       689\n",
      "\n",
      "          accuracy                           0.82       937\n",
      "         macro avg       0.77      0.80      0.78       937\n",
      "      weighted avg       0.84      0.82      0.82       937\n",
      "\n"
     ]
    },
    {
     "data": {
      "image/png": "[encoded data removed]",
      "text/plain": [
       "<Figure size 432x288 with 2 Axes>"
      ]
     },
     "metadata": {},
     "output_type": "display_data"
    }
   ],
   "source": [
    "DTmodel = pickle.load(open('../models/DTmodel3.pkl','rb'))\n",
    "DTmodel.fit(X_train_transformed,y_train_transformed)\n",
    "y_pred = DTmodel.predict(X_test_transformed)\n",
    "plot_confusion(y_test, y_pred)\n",
    "print(classification_report(y_test,y_pred))"
   ]
  },
  {
   "cell_type": "code",
   "execution_count": 35,
   "metadata": {},
   "outputs": [
    {
     "name": "stdout",
     "output_type": "stream",
     "text": [
      "                    precision    recall  f1-score   support\n",
      "\n",
      "Needs Intervention       0.54      0.83      0.65       248\n",
      "   No Intervention       0.92      0.74      0.82       689\n",
      "\n",
      "          accuracy                           0.77       937\n",
      "         macro avg       0.73      0.78      0.74       937\n",
      "      weighted avg       0.82      0.77      0.78       937\n",
      "\n"
     ]
    },
    {
     "data": {
      "image/png": "[encoded data removed]",
      "text/plain": [
       "<Figure size 432x288 with 2 Axes>"
      ]
     },
     "metadata": {},
     "output_type": "display_data"
    }
   ],
   "source": [
    "RFmodel = pickle.load(open('../models/RFmodel3.pkl','rb'))\n",
    "RFmodel.fit(X_train_transformed,y_train_transformed)\n",
    "y_pred = RFmodel.predict(X_test_transformed)\n",
    "plot_confusion(y_test, y_pred)\n",
    "print(classification_report(y_test,y_pred))"
   ]
  },
  {
   "cell_type": "code",
   "execution_count": 36,
   "metadata": {},
   "outputs": [
    {
     "name": "stdout",
     "output_type": "stream",
     "text": [
      "                    precision    recall  f1-score   support\n",
      "\n",
      "Needs Intervention       0.61      0.77      0.68       248\n",
      "   No Intervention       0.91      0.82      0.86       689\n",
      "\n",
      "          accuracy                           0.81       937\n",
      "         macro avg       0.76      0.79      0.77       937\n",
      "      weighted avg       0.83      0.81      0.81       937\n",
      "\n"
     ]
    },
    {
     "data": {
      "image/png": "[encoded data removed]",
      "text/plain": [
       "<Figure size 432x288 with 2 Axes>"
      ]
     },
     "metadata": {},
     "output_type": "display_data"
    }
   ],
   "source": [
    "XGBmodel = pickle.load(open('../models/XGBmodel5.pkl','rb'))\n",
    "\n",
    "XGBmodel.fit(X_train_transformed,y_train_transformed)\n",
    "y_pred = XGBmodel.predict(X_test_transformed)\n",
    "plot_confusion(y_test, y_pred)\n",
    "print(classification_report(y_test,y_pred))"
   ]
  },
  {
   "cell_type": "code",
   "execution_count": 38,
   "metadata": {},
   "outputs": [
    {
     "name": "stdout",
     "output_type": "stream",
     "text": [
      "                    precision    recall  f1-score   support\n",
      "\n",
      "Needs Intervention       0.55      0.85      0.67       248\n",
      "   No Intervention       0.93      0.75      0.83       689\n",
      "\n",
      "          accuracy                           0.77       937\n",
      "         macro avg       0.74      0.80      0.75       937\n",
      "      weighted avg       0.83      0.77      0.79       937\n",
      "\n"
     ]
    },
    {
     "data": {
      "image/png": "[encoded data removed]",
      "text/plain": [
       "<Figure size 432x288 with 2 Axes>"
      ]
     },
     "metadata": {},
     "output_type": "display_data"
    }
   ],
   "source": [
    "KNNmodel = pickle.load(open('../models/KNNmodel2.pkl','rb'))\n",
    "\n",
    "KNNmodel.fit(X_train_transformed,y_train_transformed)\n",
    "y_pred = KNNmodel.predict(X_test_transformed)\n",
    "plot_confusion(y_test, y_pred)\n",
    "print(classification_report(y_test,y_pred))"
   ]
  },
  {
   "cell_type": "code",
   "execution_count": 37,
   "metadata": {},
   "outputs": [
    {
     "name": "stdout",
     "output_type": "stream",
     "text": [
      "                    precision    recall  f1-score   support\n",
      "\n",
      "Needs Intervention       0.65      0.61      0.63       248\n",
      "   No Intervention       0.86      0.88      0.87       689\n",
      "\n",
      "          accuracy                           0.81       937\n",
      "         macro avg       0.76      0.74      0.75       937\n",
      "      weighted avg       0.81      0.81      0.81       937\n",
      "\n"
     ]
    },
    {
     "data": {
      "image/png": "[encoded data removed]",
      "text/plain": [
       "<Figure size 432x288 with 2 Axes>"
      ]
     },
     "metadata": {},
     "output_type": "display_data"
    }
   ],
   "source": [
    "SVCmodel = pickle.load(open('../models/SVCmodel2.pkl','rb'))\n",
    "\n",
    "SVCmodel.fit(X_train_transformed,y_train_transformed)\n",
    "y_pred = SVCmodel.predict(X_test_transformed)\n",
    "plot_confusion(y_test, y_pred)\n",
    "print(classification_report(y_test,y_pred))"
   ]
  },
  {
   "cell_type": "code",
   "execution_count": 40,
   "metadata": {},
   "outputs": [
    {
     "data": {
      "image/png": "[encoded data removed]",
      "text/plain": [
       "<Figure size 720x720 with 6 Axes>"
      ]
     },
     "metadata": {},
     "output_type": "display_data"
    }
   ],
   "source": [
    "best_model = pickle.load(open('../models/DTmodel3.pkl','rb'))\n",
    "best_model.fit(X_train_transformed,y_train_transformed)\n",
    "y_pred = best_model.predict(X_test_transformed)\n",
    "eval_df = test_df\n",
    "eval_df['prediction'] = y_pred\n",
    "modules = eval_df['code_module'].unique()\n",
    "course_acc = pd.DataFrame(columns = ['score'],index = modules)\n",
    "fig, axes = plt.subplots(2,2, figsize = (10,10))\n",
    "axes = axes.ravel()\n",
    "for i, module in enumerate(modules):\n",
    "    preds = eval_df[eval_df['code_module'] == module]['prediction']\n",
    "    trues = eval_df[eval_df['code_module'] == module]['final_result']\n",
    "    accuracy = f1_score(trues,preds, pos_label='Needs Intervention')\n",
    "    course_acc.loc[module,'score'] = accuracy\n",
    "    plot_confusion(trues,preds, ax = axes[i])\n",
    "    axes[i].set_title(f'module: {module}: f1 score: {round(accuracy,2)}')\n",
    "plt.tight_layout()\n",
    "plt.show()"
   ]
  },
  {
   "cell_type": "code",
   "execution_count": 29,
   "metadata": {},
   "outputs": [
    {
     "data": {
      "text/plain": [
       "'GGG'"
      ]
     },
     "execution_count": 29,
     "metadata": {},
     "output_type": "execute_result"
    }
   ],
   "source": [
    "module"
   ]
  },
  {
   "cell_type": "code",
   "execution_count": 30,
   "metadata": {},
   "outputs": [
    {
     "data": {
      "text/html": [
       "<div>\n",
       "<style scoped>\n",
       "    .dataframe tbody tr th:only-of-type {\n",
       "        vertical-align: middle;\n",
       "    }\n",
       "\n",
       "    .dataframe tbody tr th {\n",
       "        vertical-align: top;\n",
       "    }\n",
       "\n",
       "    .dataframe thead th {\n",
       "        text-align: right;\n",
       "    }\n",
       "</style>\n",
       "<table border=\"1\" class=\"dataframe\">\n",
       "  <thead>\n",
       "    <tr style=\"text-align: right;\">\n",
       "      <th></th>\n",
       "      <th>num_of_prev_attempts</th>\n",
       "      <th>days_studied</th>\n",
       "      <th>activities_engaged</th>\n",
       "      <th>total_clicks</th>\n",
       "      <th>assessments_completed</th>\n",
       "      <th>average_assessment_score</th>\n",
       "    </tr>\n",
       "    <tr>\n",
       "      <th>code_presentation</th>\n",
       "      <th></th>\n",
       "      <th></th>\n",
       "      <th></th>\n",
       "      <th></th>\n",
       "      <th></th>\n",
       "      <th></th>\n",
       "    </tr>\n",
       "  </thead>\n",
       "  <tbody>\n",
       "    <tr>\n",
       "      <th>2013B</th>\n",
       "      <td>0.252705</td>\n",
       "      <td>46.129057</td>\n",
       "      <td>238.231839</td>\n",
       "      <td>784.312983</td>\n",
       "      <td>6.872488</td>\n",
       "      <td>71.176794</td>\n",
       "    </tr>\n",
       "    <tr>\n",
       "      <th>2013J</th>\n",
       "      <td>0.191713</td>\n",
       "      <td>41.768089</td>\n",
       "      <td>203.798392</td>\n",
       "      <td>632.331478</td>\n",
       "      <td>7.094620</td>\n",
       "      <td>73.085676</td>\n",
       "    </tr>\n",
       "    <tr>\n",
       "      <th>2014B</th>\n",
       "      <td>0.241921</td>\n",
       "      <td>38.095197</td>\n",
       "      <td>185.078603</td>\n",
       "      <td>571.986026</td>\n",
       "      <td>7.053275</td>\n",
       "      <td>72.941031</td>\n",
       "    </tr>\n",
       "    <tr>\n",
       "      <th>2014J</th>\n",
       "      <td>0.154528</td>\n",
       "      <td>37.668778</td>\n",
       "      <td>202.976567</td>\n",
       "      <td>765.530716</td>\n",
       "      <td>3.550982</td>\n",
       "      <td>62.548944</td>\n",
       "    </tr>\n",
       "  </tbody>\n",
       "</table>\n",
       "</div>"
      ],
      "text/plain": [
       "                   num_of_prev_attempts  days_studied  activities_engaged  \\\n",
       "code_presentation                                                           \n",
       "2013B                          0.252705     46.129057          238.231839   \n",
       "2013J                          0.191713     41.768089          203.798392   \n",
       "2014B                          0.241921     38.095197          185.078603   \n",
       "2014J                          0.154528     37.668778          202.976567   \n",
       "\n",
       "                   total_clicks  assessments_completed  \\\n",
       "code_presentation                                        \n",
       "2013B                784.312983               6.872488   \n",
       "2013J                632.331478               7.094620   \n",
       "2014B                571.986026               7.053275   \n",
       "2014J                765.530716               3.550982   \n",
       "\n",
       "                   average_assessment_score  \n",
       "code_presentation                            \n",
       "2013B                             71.176794  \n",
       "2013J                             73.085676  \n",
       "2014B                             72.941031  \n",
       "2014J                             62.548944  "
      ]
     },
     "execution_count": 30,
     "metadata": {},
     "output_type": "execute_result"
    }
   ],
   "source": [
    "df[df['code_module'] == 'BBB'].groupby(by = 'code_presentation').mean()"
   ]
  },
  {
   "cell_type": "code",
   "execution_count": 31,
   "metadata": {},
   "outputs": [
    {
     "data": {
      "text/plain": [
       "No Intervention       3713\n",
       "Needs Intervention    1922\n",
       "Name: final_result, dtype: int64"
      ]
     },
     "execution_count": 31,
     "metadata": {},
     "output_type": "execute_result"
    }
   ],
   "source": [
    "df.loc[df['code_module'] == 'BBB', 'final_result'].value_counts()"
   ]
  },
  {
   "cell_type": "code",
   "execution_count": null,
   "metadata": {},
   "outputs": [],
   "source": []
  }
 ],
 "metadata": {
  "kernelspec": {
   "display_name": "Python 3",
   "language": "python",
   "name": "python3"
  },
  "language_info": {
   "codemirror_mode": {
    "name": "ipython",
    "version": 3
   },
   "file_extension": ".py",
   "mimetype": "text/x-python",
   "name": "python",
   "nbconvert_exporter": "python",
   "pygments_lexer": "ipython3",
   "version": "3.8.3"
  }
 },
 "nbformat": 4,
 "nbformat_minor": 4
}
