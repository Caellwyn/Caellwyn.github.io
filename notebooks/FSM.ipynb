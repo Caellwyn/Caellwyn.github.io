{
 "cells": [
  {
   "cell_type": "code",
   "execution_count": 1,
   "metadata": {},
   "outputs": [],
   "source": [
    "import pandas as pd\n",
    "import numpy as np\n",
    "\n",
    "from sklearn.linear_model import LogisticRegression\n",
    "from sklearn.model_selection import GridSearchCV\n",
    "from sklearn.naive_bayes import GaussianNB\n",
    "from sklearn.tree import DecisionTreeClassifier\n",
    "from sklearn.ensemble import RandomForestClassifier\n",
    "from sklearn.pipeline import Pipeline\n",
    "from sklearn.preprocessing import OneHotEncoder\n",
    "from sklearn.preprocessing import StandardScaler\n",
    "from sklearn.compose import ColumnTransformer\n",
    "from sklearn.model_selection import train_test_split\n",
    "from sklearn.model_selection import cross_val_score\n",
    "from sklearn.model_selection import KFold\n",
    "from sklearn.metrics import confusion_matrix, accuracy_score, classification_report, recall_score, \\\n",
    "make_scorer\n",
    "from sklearn.preprocessing import LabelBinarizer, LabelEncoder\n",
    "\n",
    "import seaborn as sns\n",
    "import matplotlib.pyplot as plt\n",
    "%matplotlib inline\n",
    "\n",
    "import os\n",
    "import sys\n",
    "module_path = os.path.abspath(os.path.join(os.pardir))\n",
    "if module_path not in sys.path:\n",
    "    sys.path.append(module_path)\n",
    "from importlib import reload\n",
    "from src.functions import load_OU_data, CourseScaler\n",
    "import warnings\n",
    "\n",
    "warnings.filterwarnings(\"ignore\")\n",
    "sns.set_style('whitegrid')\n",
    "pd.set_option('display.max_columns',None)"
   ]
  },
  {
   "cell_type": "markdown",
   "metadata": {},
   "source": [
    "## Drop the irrelevant columns, "
   ]
  },
  {
   "cell_type": "code",
   "execution_count": 2,
   "metadata": {},
   "outputs": [
    {
     "data": {
      "text/html": [
       "<div>\n",
       "<style scoped>\n",
       "    .dataframe tbody tr th:only-of-type {\n",
       "        vertical-align: middle;\n",
       "    }\n",
       "\n",
       "    .dataframe tbody tr th {\n",
       "        vertical-align: top;\n",
       "    }\n",
       "\n",
       "    .dataframe thead th {\n",
       "        text-align: right;\n",
       "    }\n",
       "</style>\n",
       "<table border=\"1\" class=\"dataframe\">\n",
       "  <thead>\n",
       "    <tr style=\"text-align: right;\">\n",
       "      <th></th>\n",
       "      <th>code_module</th>\n",
       "      <th>gender</th>\n",
       "      <th>highest_education</th>\n",
       "      <th>imd_band</th>\n",
       "      <th>age_band</th>\n",
       "      <th>num_of_prev_attempts</th>\n",
       "      <th>studied_credits</th>\n",
       "      <th>disability</th>\n",
       "      <th>final_result</th>\n",
       "      <th>date_registration</th>\n",
       "      <th>module_presentation_length</th>\n",
       "      <th>days_studied</th>\n",
       "      <th>activities_engaged</th>\n",
       "      <th>total_clicks</th>\n",
       "      <th>assessments_completed</th>\n",
       "      <th>average_assessment_score</th>\n",
       "    </tr>\n",
       "  </thead>\n",
       "  <tbody>\n",
       "    <tr>\n",
       "      <th>0</th>\n",
       "      <td>AAA</td>\n",
       "      <td>M</td>\n",
       "      <td>HE Qualification</td>\n",
       "      <td>90-100%</td>\n",
       "      <td>55&lt;=</td>\n",
       "      <td>0</td>\n",
       "      <td>240</td>\n",
       "      <td>N</td>\n",
       "      <td>Pass</td>\n",
       "      <td>-159.0</td>\n",
       "      <td>268</td>\n",
       "      <td>40</td>\n",
       "      <td>196</td>\n",
       "      <td>934</td>\n",
       "      <td>5</td>\n",
       "      <td>82.0</td>\n",
       "    </tr>\n",
       "    <tr>\n",
       "      <th>1</th>\n",
       "      <td>AAA</td>\n",
       "      <td>F</td>\n",
       "      <td>HE Qualification</td>\n",
       "      <td>20-30%</td>\n",
       "      <td>35-55</td>\n",
       "      <td>0</td>\n",
       "      <td>60</td>\n",
       "      <td>N</td>\n",
       "      <td>Pass</td>\n",
       "      <td>-53.0</td>\n",
       "      <td>268</td>\n",
       "      <td>80</td>\n",
       "      <td>430</td>\n",
       "      <td>1435</td>\n",
       "      <td>5</td>\n",
       "      <td>66.4</td>\n",
       "    </tr>\n",
       "    <tr>\n",
       "      <th>2</th>\n",
       "      <td>AAA</td>\n",
       "      <td>F</td>\n",
       "      <td>A Level or Equivalent</td>\n",
       "      <td>50-60%</td>\n",
       "      <td>35-55</td>\n",
       "      <td>0</td>\n",
       "      <td>60</td>\n",
       "      <td>N</td>\n",
       "      <td>Pass</td>\n",
       "      <td>-52.0</td>\n",
       "      <td>268</td>\n",
       "      <td>123</td>\n",
       "      <td>663</td>\n",
       "      <td>2158</td>\n",
       "      <td>5</td>\n",
       "      <td>76.0</td>\n",
       "    </tr>\n",
       "    <tr>\n",
       "      <th>3</th>\n",
       "      <td>AAA</td>\n",
       "      <td>F</td>\n",
       "      <td>Lower Than A Level</td>\n",
       "      <td>50-60%</td>\n",
       "      <td>0-35</td>\n",
       "      <td>0</td>\n",
       "      <td>60</td>\n",
       "      <td>N</td>\n",
       "      <td>Pass</td>\n",
       "      <td>-176.0</td>\n",
       "      <td>268</td>\n",
       "      <td>70</td>\n",
       "      <td>352</td>\n",
       "      <td>1034</td>\n",
       "      <td>5</td>\n",
       "      <td>54.4</td>\n",
       "    </tr>\n",
       "    <tr>\n",
       "      <th>4</th>\n",
       "      <td>AAA</td>\n",
       "      <td>M</td>\n",
       "      <td>A Level or Equivalent</td>\n",
       "      <td>80-90%</td>\n",
       "      <td>35-55</td>\n",
       "      <td>0</td>\n",
       "      <td>60</td>\n",
       "      <td>N</td>\n",
       "      <td>Pass</td>\n",
       "      <td>-110.0</td>\n",
       "      <td>268</td>\n",
       "      <td>143</td>\n",
       "      <td>723</td>\n",
       "      <td>2445</td>\n",
       "      <td>5</td>\n",
       "      <td>68.0</td>\n",
       "    </tr>\n",
       "  </tbody>\n",
       "</table>\n",
       "</div>"
      ],
      "text/plain": [
       "  code_module gender      highest_education imd_band age_band  \\\n",
       "0         AAA      M       HE Qualification  90-100%     55<=   \n",
       "1         AAA      F       HE Qualification   20-30%    35-55   \n",
       "2         AAA      F  A Level or Equivalent   50-60%    35-55   \n",
       "3         AAA      F     Lower Than A Level   50-60%     0-35   \n",
       "4         AAA      M  A Level or Equivalent   80-90%    35-55   \n",
       "\n",
       "   num_of_prev_attempts  studied_credits disability final_result  \\\n",
       "0                     0              240          N         Pass   \n",
       "1                     0               60          N         Pass   \n",
       "2                     0               60          N         Pass   \n",
       "3                     0               60          N         Pass   \n",
       "4                     0               60          N         Pass   \n",
       "\n",
       "   date_registration  module_presentation_length  days_studied  \\\n",
       "0             -159.0                         268            40   \n",
       "1              -53.0                         268            80   \n",
       "2              -52.0                         268           123   \n",
       "3             -176.0                         268            70   \n",
       "4             -110.0                         268           143   \n",
       "\n",
       "   activities_engaged  total_clicks  assessments_completed  \\\n",
       "0                 196           934                      5   \n",
       "1                 430          1435                      5   \n",
       "2                 663          2158                      5   \n",
       "3                 352          1034                      5   \n",
       "4                 723          2445                      5   \n",
       "\n",
       "   average_assessment_score  \n",
       "0                      82.0  \n",
       "1                      66.4  \n",
       "2                      76.0  \n",
       "3                      54.4  \n",
       "4                      68.0  "
      ]
     },
     "execution_count": 2,
     "metadata": {},
     "output_type": "execute_result"
    }
   ],
   "source": [
    "df = load_OU_data()\n",
    "df.drop(columns = ['id_student','code_presentation','region'], inplace = True)\n",
    "if 'date_unregistration' in df.columns:\n",
    "    df.drop(columns = ['date_unregistration'], inplace = True)\n",
    "df.head()"
   ]
  },
  {
   "cell_type": "markdown",
   "metadata": {},
   "source": [
    "## Preprocessing"
   ]
  },
  {
   "cell_type": "code",
   "execution_count": 3,
   "metadata": {},
   "outputs": [
    {
     "name": "stdout",
     "output_type": "stream",
     "text": [
      "Pass           11825\n",
      "Fail            5607\n",
      "Withdrawn       4486\n",
      "Distinction     2825\n",
      "Name: final_result, dtype: int64\n"
     ]
    }
   ],
   "source": [
    "X = df.drop(columns = ['final_result'])\n",
    "y = df['final_result']\n",
    "print(y.value_counts())\n",
    "encoder = LabelEncoder()\n",
    "enc_y = encoder.fit_transform(y)\n",
    "\n",
    "X_train, X_test, y_train, y_test = train_test_split(X,enc_y, random_state=111, test_size=0.2)"
   ]
  },
  {
   "cell_type": "markdown",
   "metadata": {},
   "source": [
    "# FSM"
   ]
  },
  {
   "cell_type": "code",
   "execution_count": 4,
   "metadata": {},
   "outputs": [
    {
     "name": "stdout",
     "output_type": "stream",
     "text": [
      "Cross Validation Scores:  [0.62338974 0.61353877 0.61682243 0.62642081 0.62177868]\n",
      "Classification Report\n",
      "accuracy 0.6261871085067691\n",
      "              precision    recall  f1-score   support\n",
      "\n",
      " Distinction       0.48      0.10      0.16       567\n",
      "        Fail       0.50      0.44      0.46      1170\n",
      "        Pass       0.68      0.91      0.78      2323\n",
      "   Withdrawn       0.59      0.48      0.53       889\n",
      "\n",
      "    accuracy                           0.63      4949\n",
      "   macro avg       0.56      0.48      0.48      4949\n",
      "weighted avg       0.60      0.63      0.59      4949\n",
      "\n"
     ]
    },
    {
     "data": {
      "text/plain": [
       "<matplotlib.axes._subplots.AxesSubplot at 0x2008072b5e0>"
      ]
     },
     "execution_count": 4,
     "metadata": {},
     "output_type": "execute_result"
    },
    {
     "data": {
      "image/png": "[encoded data removed]",
      "text/plain": [
       "<Figure size 432x288 with 2 Axes>"
      ]
     },
     "metadata": {},
     "output_type": "display_data"
    }
   ],
   "source": [
    "categoricals = X.select_dtypes(include = 'object').columns.drop('code_module')\n",
    "transformers = [('ohe', OneHotEncoder(sparse=False, drop= 'first'), categoricals)]\n",
    "col_transformer = ColumnTransformer(transformers = transformers, remainder='passthrough')\n",
    "\n",
    "cv = KFold(n_splits = 5, shuffle = True, random_state = 111)\n",
    "\n",
    "LRpipeline = Pipeline(steps = [('scaler', CourseScaler(drop_course = True)),\n",
    "                             ('processor', col_transformer),\n",
    "                             ('model', LogisticRegression())])\n",
    "\n",
    "scores = cross_val_score(LRpipeline, X_train, y_train, cv=cv, scoring = 'accuracy')\n",
    "print('Cross Validation Scores: ', scores)\n",
    "\n",
    "LRpipeline.fit(X_train, y_train)\n",
    "y_pred = LRpipeline.predict(X_test)\n",
    "\n",
    "labeled_y_test = encoder.inverse_transform(y_test)\n",
    "y_pred = encoder.inverse_transform(y_pred)\n",
    "\n",
    "print('Classification Report')\n",
    "print('accuracy',accuracy_score(labeled_y_test,y_pred))\n",
    "print(classification_report(labeled_y_test, y_pred))\n",
    "sns.heatmap(confusion_matrix(labeled_y_test,y_pred, normalize = 'true'),\n",
    "    xticklabels=encoder.classes_,\n",
    "    yticklabels=encoder.classes_,\n",
    "   annot = True)"
   ]
  },
  {
   "cell_type": "markdown",
   "metadata": {},
   "source": [
    "# FSM Evaluation"
   ]
  },
  {
   "cell_type": "markdown",
   "metadata": {},
   "source": [
    "# Summary\n",
    "This FSM predicted that most students would pass.  It almost entirely lumped together those passing with distinction and those just passing.  It also predicted most failing students to pass as well.  It did not predict any students would withdraw.  This is disappointing because preventing withdrawals is my first priority.\n",
    "\n",
    "### Next Steps:\n",
    "It may be worth it, given my business goals, to combine the 'Distinction' and 'Pass classes', especially since this model doesn't seem to differentiate those anyway.  Another thing to try would be to combine the 'Fail' and 'Withdrawn' classes, though I think there is an important distinction between those classes and they may need different kinds of intervention.  It would divide 'needs intervention' and 'does not need intervention', however.\n",
    "\n",
    "Another idea would be to address the class imbalance by weighting the classes in the regressor, SMOTING, or over/under sampling.\n",
    "\n",
    "I am also only using the first 90 days of the course, which is only about 1/3 of the total course length.  I could increase my data by increaseing that to 120 days.\n",
    "\n",
    "Finally, I have several highly correlated variable currently, including days studied, percent of days studed, and clicks per day.  I could choose one of those to include and not the others.  I could also change clicks per day to avg clicks per activity or total clicks to reduce the correlation\n",
    "\n"
   ]
  },
  {
   "cell_type": "code",
   "execution_count": null,
   "metadata": {},
   "outputs": [],
   "source": []
  }
 ],
 "metadata": {
  "kernelspec": {
   "display_name": "Python 3",
   "language": "python",
   "name": "python3"
  },
  "language_info": {
   "codemirror_mode": {
    "name": "ipython",
    "version": 3
   },
   "file_extension": ".py",
   "mimetype": "text/x-python",
   "name": "python",
   "nbconvert_exporter": "python",
   "pygments_lexer": "ipython3",
   "version": "3.8.3"
  }
 },
 "nbformat": 4,
 "nbformat_minor": 4
}
