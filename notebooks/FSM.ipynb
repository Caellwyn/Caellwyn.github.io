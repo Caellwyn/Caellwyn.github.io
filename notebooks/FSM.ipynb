{
 "cells": [
  {
   "cell_type": "code",
   "execution_count": 11,
   "metadata": {},
   "outputs": [],
   "source": [
    "import pandas as pd\n",
    "import numpy as np\n",
    "\n",
    "from sklearn.linear_model import LogisticRegression\n",
    "from sklearn.model_selection import GridSearchCV\n",
    "from sklearn.naive_bayes import GaussianNB\n",
    "from sklearn.tree import DecisionTreeClassifier\n",
    "from sklearn.ensemble import RandomForestClassifier\n",
    "from sklearn.pipeline import Pipeline\n",
    "from sklearn.preprocessing import OneHotEncoder\n",
    "from sklearn.preprocessing import StandardScaler\n",
    "from sklearn.compose import ColumnTransformer\n",
    "from sklearn.model_selection import train_test_split\n",
    "from sklearn.model_selection import cross_val_score\n",
    "from sklearn.model_selection import KFold\n",
    "from sklearn.metrics import confusion_matrix, accuracy_score, classification_report, recall_score, \\\n",
    "make_scorer\n",
    "from sklearn.preprocessing import LabelBinarizer, LabelEncoder\n",
    "\n",
    "import seaborn as sns\n",
    "import matplotlib.pyplot as plt\n",
    "%matplotlib inline\n",
    "\n",
    "import os\n",
    "import sys\n",
    "module_path = os.path.abspath(os.path.join(os.pardir))\n",
    "if module_path not in sys.path:\n",
    "    sys.path.append(module_path)\n",
    "from importlib import reload\n",
    "from src.functions import load_OU_data, CourseScaler\n",
    "import warnings\n",
    "\n",
    "warnings.filterwarnings(\"ignore\")\n",
    "sns.set_style('whitegrid')\n",
    "pd.set_option('display.max_columns',None)\n"
   ]
  },
  {
   "cell_type": "markdown",
   "metadata": {},
   "source": [
    "## Drop the irrelevant columns, "
   ]
  },
  {
   "cell_type": "code",
   "execution_count": 12,
   "metadata": {},
   "outputs": [
    {
     "data": {
      "text/html": [
       "<div>\n",
       "<style scoped>\n",
       "    .dataframe tbody tr th:only-of-type {\n",
       "        vertical-align: middle;\n",
       "    }\n",
       "\n",
       "    .dataframe tbody tr th {\n",
       "        vertical-align: top;\n",
       "    }\n",
       "\n",
       "    .dataframe thead th {\n",
       "        text-align: right;\n",
       "    }\n",
       "</style>\n",
       "<table border=\"1\" class=\"dataframe\">\n",
       "  <thead>\n",
       "    <tr style=\"text-align: right;\">\n",
       "      <th></th>\n",
       "      <th>gender</th>\n",
       "      <th>region</th>\n",
       "      <th>highest_education</th>\n",
       "      <th>imd_band</th>\n",
       "      <th>age_band</th>\n",
       "      <th>num_of_prev_attempts</th>\n",
       "      <th>studied_credits</th>\n",
       "      <th>disability</th>\n",
       "      <th>final_result</th>\n",
       "      <th>date_registration</th>\n",
       "      <th>module_presentation_length</th>\n",
       "      <th>days_studied</th>\n",
       "      <th>activities_completed</th>\n",
       "      <th>total_clicks</th>\n",
       "      <th>assessments_completed</th>\n",
       "      <th>average_score</th>\n",
       "    </tr>\n",
       "  </thead>\n",
       "  <tbody>\n",
       "    <tr>\n",
       "      <th>0</th>\n",
       "      <td>M</td>\n",
       "      <td>East Anglian Region</td>\n",
       "      <td>HE Qualification</td>\n",
       "      <td>90-100%</td>\n",
       "      <td>55&lt;=</td>\n",
       "      <td>0</td>\n",
       "      <td>240</td>\n",
       "      <td>N</td>\n",
       "      <td>Pass</td>\n",
       "      <td>-159.0</td>\n",
       "      <td>268</td>\n",
       "      <td>26</td>\n",
       "      <td>121</td>\n",
       "      <td>628</td>\n",
       "      <td>3</td>\n",
       "      <td>81.000000</td>\n",
       "    </tr>\n",
       "    <tr>\n",
       "      <th>1</th>\n",
       "      <td>F</td>\n",
       "      <td>Scotland</td>\n",
       "      <td>HE Qualification</td>\n",
       "      <td>20-30%</td>\n",
       "      <td>35-55</td>\n",
       "      <td>0</td>\n",
       "      <td>60</td>\n",
       "      <td>N</td>\n",
       "      <td>Pass</td>\n",
       "      <td>-53.0</td>\n",
       "      <td>268</td>\n",
       "      <td>46</td>\n",
       "      <td>268</td>\n",
       "      <td>904</td>\n",
       "      <td>2</td>\n",
       "      <td>69.000000</td>\n",
       "    </tr>\n",
       "    <tr>\n",
       "      <th>2</th>\n",
       "      <td>F</td>\n",
       "      <td>South East Region</td>\n",
       "      <td>A Level or Equivalent</td>\n",
       "      <td>50-60%</td>\n",
       "      <td>35-55</td>\n",
       "      <td>0</td>\n",
       "      <td>60</td>\n",
       "      <td>N</td>\n",
       "      <td>Pass</td>\n",
       "      <td>-52.0</td>\n",
       "      <td>268</td>\n",
       "      <td>69</td>\n",
       "      <td>377</td>\n",
       "      <td>1257</td>\n",
       "      <td>3</td>\n",
       "      <td>72.333333</td>\n",
       "    </tr>\n",
       "    <tr>\n",
       "      <th>3</th>\n",
       "      <td>F</td>\n",
       "      <td>West Midlands Region</td>\n",
       "      <td>Lower Than A Level</td>\n",
       "      <td>50-60%</td>\n",
       "      <td>0-35</td>\n",
       "      <td>0</td>\n",
       "      <td>60</td>\n",
       "      <td>N</td>\n",
       "      <td>Pass</td>\n",
       "      <td>-176.0</td>\n",
       "      <td>268</td>\n",
       "      <td>40</td>\n",
       "      <td>207</td>\n",
       "      <td>747</td>\n",
       "      <td>2</td>\n",
       "      <td>49.500000</td>\n",
       "    </tr>\n",
       "    <tr>\n",
       "      <th>4</th>\n",
       "      <td>M</td>\n",
       "      <td>Wales</td>\n",
       "      <td>A Level or Equivalent</td>\n",
       "      <td>80-90%</td>\n",
       "      <td>35-55</td>\n",
       "      <td>0</td>\n",
       "      <td>60</td>\n",
       "      <td>N</td>\n",
       "      <td>Pass</td>\n",
       "      <td>-110.0</td>\n",
       "      <td>268</td>\n",
       "      <td>72</td>\n",
       "      <td>372</td>\n",
       "      <td>1287</td>\n",
       "      <td>3</td>\n",
       "      <td>74.000000</td>\n",
       "    </tr>\n",
       "  </tbody>\n",
       "</table>\n",
       "</div>"
      ],
      "text/plain": [
       "  gender                region      highest_education imd_band age_band  \\\n",
       "0      M   East Anglian Region       HE Qualification  90-100%     55<=   \n",
       "1      F              Scotland       HE Qualification   20-30%    35-55   \n",
       "2      F     South East Region  A Level or Equivalent   50-60%    35-55   \n",
       "3      F  West Midlands Region     Lower Than A Level   50-60%     0-35   \n",
       "4      M                 Wales  A Level or Equivalent   80-90%    35-55   \n",
       "\n",
       "   num_of_prev_attempts  studied_credits disability final_result  \\\n",
       "0                     0              240          N         Pass   \n",
       "1                     0               60          N         Pass   \n",
       "2                     0               60          N         Pass   \n",
       "3                     0               60          N         Pass   \n",
       "4                     0               60          N         Pass   \n",
       "\n",
       "   date_registration  module_presentation_length  days_studied  \\\n",
       "0             -159.0                         268            26   \n",
       "1              -53.0                         268            46   \n",
       "2              -52.0                         268            69   \n",
       "3             -176.0                         268            40   \n",
       "4             -110.0                         268            72   \n",
       "\n",
       "   activities_completed  total_clicks  assessments_completed  average_score  \n",
       "0                   121           628                      3      81.000000  \n",
       "1                   268           904                      2      69.000000  \n",
       "2                   377          1257                      3      72.333333  \n",
       "3                   207           747                      2      49.500000  \n",
       "4                   372          1287                      3      74.000000  "
      ]
     },
     "execution_count": 12,
     "metadata": {},
     "output_type": "execute_result"
    }
   ],
   "source": [
    "df = load_OU_data()\n",
    "df.drop(columns = ['id_student','code_module','code_presentation'], \n",
    "        inplace = True)\n",
    "df.head()"
   ]
  },
  {
   "cell_type": "markdown",
   "metadata": {},
   "source": [
    "## Preprocessing"
   ]
  },
  {
   "cell_type": "code",
   "execution_count": 13,
   "metadata": {},
   "outputs": [
    {
     "name": "stdout",
     "output_type": "stream",
     "text": [
      "Pass           11793\n",
      "Fail            5575\n",
      "Distinction     2820\n",
      "Withdrawn       2028\n",
      "Name: final_result, dtype: int64\n"
     ]
    }
   ],
   "source": [
    "X = df.drop(columns = ['final_result'])\n",
    "y = df['final_result']\n",
    "print(y.value_counts())\n",
    "encoder = LabelEncoder()\n",
    "enc_y = encoder.fit_transform(y)\n",
    "\n",
    "X_train, X_test, y_train, y_test = train_test_split(X,enc_y, random_state=111, test_size=0.2)"
   ]
  },
  {
   "cell_type": "code",
   "execution_count": 14,
   "metadata": {},
   "outputs": [],
   "source": [
    "categoricals = X.select_dtypes(include = 'object').columns\n",
    "numericals = X.select_dtypes(include = 'number').columns\n",
    "\n",
    "#cs = CourseScaler()\n",
    "transformers = [('ohe', OneHotEncoder(sparse = False, drop= 'first'), categoricals),\n",
    "                 ('scaler', StandardScaler(), numericals)]\n",
    "col_transformer = ColumnTransformer(transformers = transformers)\n",
    "\n",
    "cv = KFold(n_splits = 5, shuffle = True, random_state = 111)"
   ]
  },
  {
   "cell_type": "markdown",
   "metadata": {},
   "source": [
    "# FSM"
   ]
  },
  {
   "cell_type": "code",
   "execution_count": 15,
   "metadata": {},
   "outputs": [
    {
     "name": "stdout",
     "output_type": "stream",
     "text": [
      "Classification Report\n",
      "accuracy 0.6003600360036003\n",
      "              precision    recall  f1-score   support\n",
      "\n",
      " Distinction       0.63      0.20      0.31       576\n",
      "        Fail       0.57      0.43      0.49      1133\n",
      "        Pass       0.61      0.89      0.72      2328\n",
      "   Withdrawn       0.33      0.00      0.00       407\n",
      "\n",
      "    accuracy                           0.60      4444\n",
      "   macro avg       0.54      0.38      0.38      4444\n",
      "weighted avg       0.58      0.60      0.54      4444\n",
      "\n"
     ]
    },
    {
     "data": {
      "text/plain": [
       "<matplotlib.axes._subplots.AxesSubplot at 0x2301eb23220>"
      ]
     },
     "execution_count": 15,
     "metadata": {},
     "output_type": "execute_result"
    },
    {
     "data": {
      "image/png": "[encoded data removed]",
      "text/plain": [
       "<Figure size 432x288 with 2 Axes>"
      ]
     },
     "metadata": {},
     "output_type": "display_data"
    }
   ],
   "source": [
    "LRpipeline = Pipeline(steps = [\n",
    "                             ('processor', col_transformer),\n",
    "                             ('model', LogisticRegression())])\n",
    "\n",
    "LRpipeline.fit(X_train, y_train)\n",
    "y_pred = LRpipeline.predict(X_test)\n",
    "\n",
    "labeled_y_test = encoder.inverse_transform(y_test)\n",
    "y_pred = encoder.inverse_transform(y_pred)\n",
    "\n",
    "print('Classification Report')\n",
    "print('accuracy',accuracy_score(labeled_y_test,y_pred))\n",
    "print(classification_report(labeled_y_test, y_pred))\n",
    "sns.heatmap(confusion_matrix(labeled_y_test,y_pred, normalize = 'true'),\n",
    "    xticklabels=encoder.classes_,\n",
    "    yticklabels=encoder.classes_,\n",
    "   annot = True)"
   ]
  },
  {
   "cell_type": "markdown",
   "metadata": {},
   "source": [
    "# FSM Evaluation"
   ]
  },
  {
   "cell_type": "markdown",
   "metadata": {},
   "source": [
    "# Summary\n",
    "This FSM predicted that most students would pass.  It almost entirely lumped together those passing with distinction and those just passing.  It also predicted most failing students to pass as well.  It did not predict any students would withdraw.  This is disappointing because preventing withdrawals is my first priority.\n",
    "\n",
    "### Next Steps:\n",
    "It may be worth it, given my business goals, to combine the 'Distinction' and 'Pass classes', especially since this model doesn't seem to differentiate those anyway.  Another thing to try would be to combine the 'Fail' and 'Withdrawn' classes, though I think there is an important distinction between those classes and they may need different kinds of intervention.  It would divide 'needs intervention' and 'does not need intervention', however.\n",
    "\n",
    "Another idea would be to address the class imbalance by weighting the classes in the regressor, SMOTING, or over/under sampling.\n",
    "\n",
    "I am also only using the first 90 days of the course, which is only about 1/3 of the total course length.  I could increase my data by increaseing that to 120 days.\n",
    "\n",
    "Finally, I have several highly correlated variable currently, including days studied, percent of days studed, and clicks per day.  I could choose one of those to include and not the others.  I could also change clicks per day to avg clicks per activity or total clicks to reduce the correlation\n",
    "\n"
   ]
  },
  {
   "cell_type": "code",
   "execution_count": 16,
   "metadata": {},
   "outputs": [
    {
     "data": {
      "text/plain": [
       "22216"
      ]
     },
     "execution_count": 16,
     "metadata": {},
     "output_type": "execute_result"
    }
   ],
   "source": [
    "len(X)"
   ]
  },
  {
   "cell_type": "code",
   "execution_count": 17,
   "metadata": {},
   "outputs": [
    {
     "data": {
      "text/plain": [
       "Pass           11793\n",
       "Fail            5575\n",
       "Distinction     2820\n",
       "Withdrawn       2028\n",
       "Name: final_result, dtype: int64"
      ]
     },
     "execution_count": 17,
     "metadata": {},
     "output_type": "execute_result"
    }
   ],
   "source": [
    "y.value_counts()"
   ]
  },
  {
   "cell_type": "code",
   "execution_count": null,
   "metadata": {},
   "outputs": [],
   "source": []
  }
 ],
 "metadata": {
  "kernelspec": {
   "display_name": "Python 3",
   "language": "python",
   "name": "python3"
  },
  "language_info": {
   "codemirror_mode": {
    "name": "ipython",
    "version": 3
   },
   "file_extension": ".py",
   "mimetype": "text/x-python",
   "name": "python",
   "nbconvert_exporter": "python",
   "pygments_lexer": "ipython3",
   "version": "3.8.3"
  }
 },
 "nbformat": 4,
 "nbformat_minor": 4
}
