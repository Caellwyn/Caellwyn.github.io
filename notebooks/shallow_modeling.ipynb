{
 "cells": [
  {
   "cell_type": "markdown",
   "metadata": {},
   "source": [
    "# Finding the right model"
   ]
  },
  {
   "cell_type": "code",
   "execution_count": 271,
   "metadata": {},
   "outputs": [
    {
     "name": "stdout",
     "output_type": "stream",
     "text": [
      "The autoreload extension is already loaded. To reload it, use:\n",
      "  %reload_ext autoreload\n"
     ]
    }
   ],
   "source": [
    "%load_ext autoreload\n",
    "%autoreload 2\n",
    "\n",
    "import pandas as pd\n",
    "import numpy as np\n",
    "\n",
    "from sklearn.linear_model import LogisticRegression\n",
    "from sklearn.tree import DecisionTreeClassifier\n",
    "from sklearn.ensemble import RandomForestClassifier\n",
    "from sklearn.preprocessing importStandardScaler\n",
    "from sklearn.model_selection import train_test_split, KFold\n",
    "from sklearn.metrics import confusion_matrix, accuracy_score, classification_report\n",
    "\n",
    "from xgboost import XGBClassifier\n",
    "\n",
    "from imblearn.over_sampling import SMOTE\n",
    "\n",
    "import seaborn as sns\n",
    "import matplotlib.pyplot as plt\n",
    "%matplotlib inline\n",
    "\n",
    "import os\n",
    "import sys\n",
    "module_path = os.path.abspath(os.path.join(os.pardir))\n",
    "if module_path not in sys.path:\n",
    "    sys.path.append(module_path)\n",
    "from src.functions import load_OU_data, CourseScaler, plot_confusion, score_grid, \\\n",
    "smotecourses, process_courses, course_cross_validate, Course_GridSearchCV\n",
    "\n",
    "import pickle\n",
    "\n",
    "import warnings\n",
    "\n",
    "warnings.filterwarnings(\"ignore\")\n",
    "sns.set_style('white')\n",
    "pd.set_option('display.max_columns',None)"
   ]
  },
  {
   "cell_type": "markdown",
   "metadata": {},
   "source": [
    "## Drop the Irrelevant Columns\n",
    "We are hoping to predict student success by using only data that can be collected anonymously by the online learning platform itself based directly on student behavior, so we need to drop data that those services might not have.  Our dataset includes demographic data such as gender, disability, age, and socio-economics, but we will not use those for prediction.  In our EDA, we found that demographic data was not strongly correlated to course outcomes anyway.\n",
    "\n",
    "## Set Prediction Window to .5\n",
    "We want to make timely predictions to intervene with students in time to help them succeed, so we will only use data from the first half of the shortest course.  This approach is a compromise.  By only using part of the data we are handicapping our model in its ability to make predictions.  On the other hand we are able to produce a prediction to red-flag students before the end of the course so instructors or the system can intervene.\n",
    "\n",
    "By halfway through the course we've lost about half of the student who would eventually withdraw, but if we set our prediction window earlier, our model loses accuracy and still misses those students and the ones who will fail.  It also recommends more interventions for students who don't need them.  The halfway point seems like a reasonable compromise, but the function that loads the data allows this window to be changed if needed."
   ]
  },
  {
   "cell_type": "code",
   "execution_count": 2,
   "metadata": {},
   "outputs": [
    {
     "data": {
      "text/html": [
       "<div>\n",
       "<style scoped>\n",
       "    .dataframe tbody tr th:only-of-type {\n",
       "        vertical-align: middle;\n",
       "    }\n",
       "\n",
       "    .dataframe tbody tr th {\n",
       "        vertical-align: top;\n",
       "    }\n",
       "\n",
       "    .dataframe thead th {\n",
       "        text-align: right;\n",
       "    }\n",
       "</style>\n",
       "<table border=\"1\" class=\"dataframe\">\n",
       "  <thead>\n",
       "    <tr style=\"text-align: right;\">\n",
       "      <th></th>\n",
       "      <th>code_module</th>\n",
       "      <th>num_of_prev_attempts</th>\n",
       "      <th>final_result</th>\n",
       "      <th>days_studied</th>\n",
       "      <th>activities_engaged</th>\n",
       "      <th>total_clicks</th>\n",
       "      <th>assessments_completed</th>\n",
       "      <th>average_assessment_score</th>\n",
       "    </tr>\n",
       "  </thead>\n",
       "  <tbody>\n",
       "    <tr>\n",
       "      <th>0</th>\n",
       "      <td>AAA</td>\n",
       "      <td>0</td>\n",
       "      <td>Pass</td>\n",
       "      <td>26</td>\n",
       "      <td>121</td>\n",
       "      <td>628</td>\n",
       "      <td>3</td>\n",
       "      <td>81.000000</td>\n",
       "    </tr>\n",
       "    <tr>\n",
       "      <th>1</th>\n",
       "      <td>AAA</td>\n",
       "      <td>0</td>\n",
       "      <td>Pass</td>\n",
       "      <td>45</td>\n",
       "      <td>266</td>\n",
       "      <td>896</td>\n",
       "      <td>2</td>\n",
       "      <td>69.000000</td>\n",
       "    </tr>\n",
       "    <tr>\n",
       "      <th>2</th>\n",
       "      <td>AAA</td>\n",
       "      <td>0</td>\n",
       "      <td>Pass</td>\n",
       "      <td>68</td>\n",
       "      <td>371</td>\n",
       "      <td>1231</td>\n",
       "      <td>3</td>\n",
       "      <td>72.333333</td>\n",
       "    </tr>\n",
       "    <tr>\n",
       "      <th>3</th>\n",
       "      <td>AAA</td>\n",
       "      <td>0</td>\n",
       "      <td>Pass</td>\n",
       "      <td>40</td>\n",
       "      <td>207</td>\n",
       "      <td>747</td>\n",
       "      <td>2</td>\n",
       "      <td>49.500000</td>\n",
       "    </tr>\n",
       "    <tr>\n",
       "      <th>4</th>\n",
       "      <td>AAA</td>\n",
       "      <td>0</td>\n",
       "      <td>Pass</td>\n",
       "      <td>70</td>\n",
       "      <td>365</td>\n",
       "      <td>1271</td>\n",
       "      <td>3</td>\n",
       "      <td>74.000000</td>\n",
       "    </tr>\n",
       "  </tbody>\n",
       "</table>\n",
       "</div>"
      ],
      "text/plain": [
       "  code_module  num_of_prev_attempts final_result  days_studied  \\\n",
       "0         AAA                     0         Pass            26   \n",
       "1         AAA                     0         Pass            45   \n",
       "2         AAA                     0         Pass            68   \n",
       "3         AAA                     0         Pass            40   \n",
       "4         AAA                     0         Pass            70   \n",
       "\n",
       "   activities_engaged  total_clicks  assessments_completed  \\\n",
       "0                 121           628                      3   \n",
       "1                 266           896                      2   \n",
       "2                 371          1231                      3   \n",
       "3                 207           747                      2   \n",
       "4                 365          1271                      3   \n",
       "\n",
       "   average_assessment_score  \n",
       "0                 81.000000  \n",
       "1                 69.000000  \n",
       "2                 72.333333  \n",
       "3                 49.500000  \n",
       "4                 74.000000  "
      ]
     },
     "execution_count": 2,
     "metadata": {},
     "output_type": "execute_result"
    }
   ],
   "source": [
    "df = load_OU_data(prediction_window=.5)\n",
    "df.drop(columns = ['id_student','code_presentation','region','highest_education', \\\n",
    "                   'imd_band','gender','age_band','disability','studied_credits',\n",
    "                   'module_presentation_length','date_registration'], inplace = True)\n",
    "if 'date_unregistration' in df.columns:\n",
    "    df.drop(columns = ['date_unregistration'], inplace = True)\n",
    "df.head()"
   ]
  },
  {
   "cell_type": "markdown",
   "metadata": {},
   "source": [
    "## Preprocessing\n",
    "We will separate our target variable from the predictor variables into X and y variables respectively, and then divide the dataset into 4 subgroups to be used to validate the accuracy of our model on new data, train and test, which will be used to validate our final model, and 't' (an intermediate training test) and 'val' which will be used to evaluate model candidates along the way.  When we use cross-validation the 't' set will be further divided.  While this gives our models less data to train on, it maximizes our ability to ensure that validity of our models and identify any overfitting.\n",
    "\n",
    "## Collapse targets\n",
    "This dataset divides outcomes into four categories: 'Distinction','Pass','Fail','Withdrawn'.  We want to separate students into \"Needs Intervention\" and \"Does Not Need Intervention.\"  To that end, we will combine targets in the target variable.  'Distinction' and 'Pass' will both become \"No Intervention\" and \"Fail\" and \"Withdrawn\" will become \"Needs Intervention.\"  This improves model accuracy as well as creating more clear metrics and a simpler recommender system."
   ]
  },
  {
   "cell_type": "code",
   "execution_count": null,
   "metadata": {},
   "outputs": [],
   "source": [
    "X = df.drop(columns = ['final_result'])\n",
    "y = df['final_result']\n",
    "\n",
    "binary_y = np.array(['No Intervention' if label in ['Distinction','Pass'] \n",
    "            else 'Needs Intervention' for label in y])\n",
    "\n",
    "#Check the class balance\n",
    "display(np.unique(binary_y,return_counts=True))\n",
    "\n",
    "cv = KFold(n_splits = 5, shuffle = True, random_state = 111)\n",
    "\n",
    "cs = CourseScaler()\n",
    "\n",
    "X_train, X_test, y_train, y_test = train_test_split(X, binary_y, random_state=111, test_size=0.2)\n",
    "X_t, X_val, y_t, y_val = train_test_split(X_train, y_train, random_state=111, test_size=0.2)"
   ]
  },
  {
   "cell_type": "markdown",
   "metadata": {},
   "source": [
    "# CourseScaler class and smotecourses() function\n",
    "We run into a problem with our data because this dataset comprises 7 different courses and each course has different numbers of activities, assessments, and demands different amounts of work.  This creates a variable in the data which is unrelated to the actual student activity or effort, but is intrinsic in the course itself.  We can partially over come this, making our model more general, by normalizing the activity statistics for each course.  In other words, while 100 activities may be sufficient to succeed in course A, 200 activities may be necessary for course B.  Instead, we take the mean of all students' activitiy counts and divide by the standard deviation.  Now the necessary activities for course A and B are set to the same value, more or less.  \n",
    "\n",
    "This is what the `CourseScaler` transformer does. It can fit on and transform the training data and then use the mean and standard deviation from the training data to transform the test data on the same scale.\n",
    "\n",
    "But, different courses don't also have different work requirements, they also have different success rates, which will also bias the predictions.  The solution is to balance the classes in each course to remove this bias as well, which is what the function `smotecourses()` does.  SMOTE is a class from [Imbalanced Learn](https://imbalanced-learn.org/stable/index.html) which creates synthetic data as a way of upsampling a minority class without directly duplicating observations.  It uses a K-neartest neighbors approach to create new observations with very similar features to others.  Once the minority class is smoted, the classes are balanced in each course and the bias is removed.  For the purposes of training our model, each course has the same graduation rate and requires the same level of effort and grades assessments on the same scale.  See the readme for a more on why this is important.\n",
    "\n",
    "I wrap these into the `process_courses()` function, which returns scaled and smoted training set and a test set scaled on the CourseScaler fitted on the train set (but not smoted)\n",
    "\n",
    "With these solutions we can overcome the bias that different courses would have otherwise introduced into our dataset.\n",
    "\n",
    "# When do we transform?\n",
    "We are going to create transformed versions of the above datasets for use in evaluating models.  However our custom course_cross_validate function will automatically perform these transformations on each cross-validation fold during it's hyperparameter search to prevent data leakage during cross validation.  When we cross-validate models we will only give them the X_t and y_t datasets."
   ]
  },
  {
   "cell_type": "code",
   "execution_count": 283,
   "metadata": {},
   "outputs": [],
   "source": [
    "\n",
    "transformed_big_data = process_courses(X_train, y_train, X_test, y_test)\n",
    "X_train_transformed, y_ttrain_transformed, X_test_transformed, y_test = transformed_big_data\n",
    "transformed_little_data = process_courses(X_t, y_t, X_val, y_val)\n",
    "X_t_transformed, y_t_transformed, X_val_transformed, y_val = transformed_little_data"
   ]
  },
  {
   "cell_type": "markdown",
   "metadata": {},
   "source": [
    "# FSM\n",
    "A decent start for a baseline model, a logistic regresson model seeks the best fit line to model the linear relationship between the predictor variables, X, and the target variable, y, which is a linear regression. It then applies a sigmoid function to that line to assign probabilities that each observation belongs in one class or the other.  For our purposes, if the probability of an observation belonging a class is greater than .5, then we will predict that it belongs to that class.  We will use our custom cross_validate function to remove the course bias."
   ]
  },
  {
   "cell_type": "code",
   "execution_count": 285,
   "metadata": {},
   "outputs": [
    {
     "name": "stdout",
     "output_type": "stream",
     "text": [
      "[0.7464887640449438, 0.7228661749209695, 0.7316473480857042, 0.7393747804706708, 0.7411310151036179]\n",
      "Mean cross validated accuracy:\n",
      "0.7363016165251812\n",
      "validation accuracy: \n",
      "0.7264044943820225\n",
      "LogisticRegression()\n"
     ]
    },
    {
     "data": {
      "image/png": "[encoded data removed]",
      "text/plain": [
       "<Figure size 432x288 with 2 Axes>"
      ]
     },
     "metadata": {},
     "output_type": "display_data"
    }
   ],
   "source": [
    "lr = LogisticRegression()\n",
    "\n",
    "scores = course_cross_validate(lr,X_t,y_t,scoring='accuracy', cv=cv, random_state = 111)\n",
    "\n",
    "print(scores)\n",
    "print('Mean cross validated accuracy:')\n",
    "print(np.mean(scores))\n",
    "lr.fit(X_t_transformed,y_t_transformed)\n",
    "y_pred = lr.predict(X_val_transformed)\n",
    "print('validation accuracy: ')\n",
    "print(accuracy_score(y_val, y_pred))\n",
    "plot_confusion(y_val, y_pred, cmap='Greens', save_path='../figures/FSMconfusionmatrix.png')\n",
    "pickle.dump(lr,open('../models/FSM2.pkl','wb'))\n",
    "print(lr)"
   ]
  },
  {
   "cell_type": "markdown",
   "metadata": {},
   "source": [
    "### Evaluation\n",
    "The FSM achieves 73.6% accuracy with a good balance between course predictions.  This is a lovely start, but let's see if we can do better."
   ]
  },
  {
   "cell_type": "markdown",
   "metadata": {},
   "source": [
    "## GridsearchCV for best logistic regression hyperparameters"
   ]
  },
  {
   "cell_type": "code",
   "execution_count": 273,
   "metadata": {},
   "outputs": [
    {
     "name": "stdout",
     "output_type": "stream",
     "text": [
      "best model\n",
      "LogisticRegression(l1_ratio=0.7, penalty='l1', random_state=111,\n",
      "                   solver='liblinear')\n",
      "best cv\n",
      "[0.7468398876404494, 0.7232174218475589, 0.7316473480857042, 0.7397260273972602, 0.7411310151036179]\n",
      "cross validated accuracy score:\n",
      "0.736512340014918\n",
      "validation accuracy: \n",
      "0.7269662921348314\n",
      "validation set confusion matrix\n"
     ]
    },
    {
     "data": {
      "image/png": "[encoded data removed]",
      "text/plain": [
       "<Figure size 432x288 with 2 Axes>"
      ]
     },
     "metadata": {},
     "output_type": "display_data"
    }
   ],
   "source": [
    "LRparams = [{'solver': ['lbfgs','sag','saga','newton-cg'],\n",
    "         'penalty': ['none'],\n",
    "         'random_state':[111]},\n",
    "          {'solver': ['lbfgs','sag','saga','newton-cg','liblinear'],\n",
    "         'penalty': ['l2'],\n",
    "         'random_state':[111]},\n",
    "          {'solver':['saga'],\n",
    "          'penalty':['elasticnet'], 'l1_ratio':[.1,.5,.7]},\n",
    "          {'solver':['saga','liblinear'],\n",
    "          'penalty':['l1']}]\n",
    "\n",
    "\n",
    "LRgrid = Course_GridSearchCV(LogisticRegression(), LRparams, cv=cv, \n",
    "                                scoring='accuracy', verbose = True)\n",
    "\n",
    "LRgrid.fit(X_t, y_t)\n",
    "LRmodel = score_grid(LRgrid, X_val_transformed, y_val)\n",
    "pickle.dump(LRmodel,open('../models/LRmodel2.pkl','wb'))"
   ]
  },
  {
   "cell_type": "markdown",
   "metadata": {},
   "source": [
    "## Logistic Regression Evaluation\n",
    "By optimizing the hyperparameters of the logistic regression model, which are all regularization parameters, we've barely moved the needle at all.  We gained .0002 accuracy."
   ]
  },
  {
   "cell_type": "markdown",
   "metadata": {},
   "source": [
    "# More model types\n",
    "We used the logistic regression classifier to tune our features, but now it's time to try some other models.  We will use Course_GridsearchCV to optimize the hyperparameters for these as well."
   ]
  },
  {
   "cell_type": "markdown",
   "metadata": {},
   "source": [
    "# Decision Tree\n",
    "A decision tree is a promising candidate for this problem because it does not assume the independence of the features. Instead it seeks to find the best way to divide and subdivide the data in a tree structure based on the values of different variables.  We can tune how many features each split is allowed to consider.  Once the tree is build predictions are made by sending an observations down the tree sending it on a path to the predicted class as it reaches each split in the tree is sent in one or the other direction.  You can think of it like a deterministic Pachinko machine!"
   ]
  },
  {
   "cell_type": "code",
   "execution_count": 288,
   "metadata": {},
   "outputs": [
    {
     "name": "stdout",
     "output_type": "stream",
     "text": [
      "best model\n",
      "DecisionTreeClassifier(criterion='entropy', max_depth=10, max_features=5,\n",
      "                       min_samples_split=0.5, random_state=111,\n",
      "                       splitter='random')\n",
      "best cv\n",
      "[0.7626404494382022, 0.7168949771689498, 0.7418335089567967, 0.7551808921671935, 0.7492096944151738]\n",
      "cross validated accuracy score:\n",
      "0.7451519044292633\n",
      "validation accuracy: \n",
      "0.7353932584269663\n",
      "validation set confusion matrix\n"
     ]
    },
    {
     "data": {
      "image/png": "[encoded data removed]",
      "text/plain": [
       "<Figure size 432x288 with 2 Axes>"
      ]
     },
     "metadata": {},
     "output_type": "display_data"
    }
   ],
   "source": [
    "DTparams = {'criterion':['gini','entropy'],\n",
    "           'splitter':['best','random'],\n",
    "           'max_depth':[4,10],'min_samples_split':[.01,.1,.2,.5],\n",
    "           'max_features':[1,2,3,4,5],'random_state':[111]}\n",
    "           \n",
    "DTgrid = Course_GridSearchCV(DecisionTreeClassifier(), DTparams, cv=cv, scoring = 'accuracy')\n",
    "\n",
    "DTgrid.fit(X_t, y_t)\n",
    "\n",
    "DTmodel = score_grid(DTgrid, X_val_transformed, y_val, cmap = 'Greens')\n",
    "plt.savefig('../figures/DTconfmatrix.png',dpi=250)\n",
    "pickle.dump(GNBmodel,open('../content/DTmodel2.pkl','wb'))"
   ]
  },
  {
   "cell_type": "markdown",
   "metadata": {},
   "source": [
    "### Decision Tree Evaluation \n",
    "As expected, this model is better at predicting how a student will do.  It doesn't rely on establishing a straight line through the data to model it, which is probably not the best approach in this problem space.  We see a nice increase in accuracy here."
   ]
  },
  {
   "cell_type": "markdown",
   "metadata": {},
   "source": [
    "# Random Forest Classifier\n",
    "This is an interesting extension to the decision tree model.  It creates a whole forest of decision trees and trains each one on a subset of the data and a subset of the features.  This is a technique called bagging, or [Boostrap AGGregation](https://machinelearningmastery.com/bagging-and-random-forest-ensemble-algorithms-for-machine-learning/) (check the link for more on this).  It works on the principle that a bunch of bad predictors, on average will be more accurate than one good predictor.  This worked for Francis Galton in [guessing the weight of an ox](https://crowdsourcingweek.com/blog/using-the-crowd-to-predict/), maybe it will work here!"
   ]
  },
  {
   "cell_type": "code",
   "execution_count": null,
   "metadata": {},
   "outputs": [],
   "source": [
    "RFparams = {'n_estimators':[10,100,150],\n",
    "           'criterion':['gini','entropy'],\n",
    "           'max_depth':[4],\n",
    "           'min_samples_split':[2,4,5],\n",
    "           'oob_score':[True,False],\n",
    "            'bootstrap':[True,False]\n",
    "           'n_jobs':[-1],'random_state':[111],\n",
    "           'max_samples':[.5,.7,None]}\n",
    "           \n",
    "RFgrid = Course_GridSearchCV(RandomForestClassifier(), RFparams, cv=cv)\n",
    "\n",
    "RFgrid.fit(X_t, y_t)\n",
    "\n",
    "RFmodel = score_grid(RFgrid, X_val_transformed, y_val, save_path = '../figures/RFmodel2confmatrix.png')\n",
    "pickle.dump(RFmodel, open('../models/RFmodel2.pkl','wb'))"
   ]
  },
  {
   "cell_type": "markdown",
   "metadata": {},
   "source": [
    "### Random Forest Classifier Evaluation:\n",
    "Apparently bagging is not the right approach to this problem.  Our single well tuned decision tree outperformed the random forest classifier.  I guess the wisdom of the crowd is not always superior to the wisdom of the expert!"
   ]
  },
  {
   "cell_type": "markdown",
   "metadata": {},
   "source": [
    "# eXtreme Gradient Boost model:\n",
    "XGBoost models have gained a lot of popularity recently and won a lot of Kaggle competitions.  It uses another popular idea called [boosting](https://en.wikipedia.org/wiki/Gradient_boosting).  That's a pretty involved wikipedia article, but the TLDR is that it's a similar ensemble method like random forest, but whereas random forest trains a bunch of trees in parallel and takes the aggregate of their predictions, boosting stacks the trees on top of each other and each one tries to improve on the one below it by predicting where the previous one made mistakes.  I think of it as like a line of morons each grading the next one's paper, which is an analysis of the previous one's paper.  Each one gets a lot wrong, but something right so the right answers percolate through and some of the wrong answers get corrected at each step."
   ]
  },
  {
   "cell_type": "code",
   "execution_count": null,
   "metadata": {},
   "outputs": [],
   "source": [
    "XGBparams = {'n_estimators':[150,200],\n",
    "             'max_depth':[4],\n",
    "             'learning_rate':[.1], \n",
    "             'subsample':[.7],\n",
    "             'gamma':[0,1],\n",
    "             'min_child_weight':[1,2],\n",
    "             'num_parallel_tree':[1,2],\n",
    "             'eval_metric':['error','logloss'],\n",
    "            'colsample_bytree':[.6,.7,.8],\n",
    "            'base_score':[.1,.2,.4]}\n",
    "           \n",
    "XBGgrid = Course_GridSearchCV(XGBClassifier(objective='binary:logistic', n_jobs=-1, random_state=111),\n",
    "                         XGBparams, cv=cv)\n",
    "\n",
    "XBGgrid.fit(X_t, y_t)\n",
    "\n",
    "XGBmodel = score_grid(XBGgrid, X_val_transformed, y_val, \n",
    "                     save_path = 'XGBmodelconfmatrix4.png'\n",
    "                     )\n",
    "pickle.dump(XGBmodel, open('../models/XGBmodel4','wb'))"
   ]
  },
  {
   "cell_type": "markdown",
   "metadata": {},
   "source": [
    "## XGBoost evaluation:"
   ]
  },
  {
   "cell_type": "markdown",
   "metadata": {},
   "source": [
    "# Final Model Evaluation:\n",
    "Our XGboost model performed the best here, so lets give it the whole training set to learn from and see how it does on our hold-out test set."
   ]
  },
  {
   "cell_type": "code",
   "execution_count": null,
   "metadata": {},
   "outputs": [],
   "source": [
    "final_model = pickle.load(open('../models/XGBmodel4','rb'))\n",
    "\n",
    "final_model.train(X_train_transformed, y_train_transformed)\n",
    "y_pred = final_model.predict(X_test_transformed)\n",
    "print('Final Model')\n",
    "print(final_model)\n",
    "print('Final Model Classification Report')\n",
    "print(classification_report(y_test, y_pred))\n",
    "print('Final Model Confusion Matrix')\n",
    "plot_confusion(y_test, y_pred, save_path='../figures/final_modelconfmatrix.png')"
   ]
  },
  {
   "cell_type": "code",
   "execution_count": null,
   "metadata": {},
   "outputs": [],
   "source": []
  }
 ],
 "metadata": {
  "kernelspec": {
   "display_name": "Python 3",
   "language": "python",
   "name": "python3"
  },
  "language_info": {
   "codemirror_mode": {
    "name": "ipython",
    "version": 3
   },
   "file_extension": ".py",
   "mimetype": "text/x-python",
   "name": "python",
   "nbconvert_exporter": "python",
   "pygments_lexer": "ipython3",
   "version": "3.8.3"
  }
 },
 "nbformat": 4,
 "nbformat_minor": 4
}
