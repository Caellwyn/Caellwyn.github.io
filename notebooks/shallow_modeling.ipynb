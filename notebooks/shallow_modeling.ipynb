{
 "cells": [
  {
   "cell_type": "code",
   "execution_count": 23,
   "metadata": {},
   "outputs": [],
   "source": [
    "import pandas as pd\n",
    "import numpy as np\n",
    "\n",
    "from sklearn.linear_model import LogisticRegression\n",
    "from sklearn.naive_bayes import GaussianNB\n",
    "from sklearn.tree import DecisionTreeClassifier\n",
    "from sklearn.ensemble import RandomForestClassifier\n",
    "from sklearn.preprocessing import OneHotEncoder, StandardScaler, LabelEncoder\n",
    "from sklearn.compose import ColumnTransformer\n",
    "from sklearn.model_selection import train_test_split, cross_val_score, KFold, cross_val_predict, \\\n",
    "GridSearchCV\n",
    "from sklearn.metrics import confusion_matrix, accuracy_score, classification_report, recall_score, \\\n",
    "make_scorer, plot_confusion_matrix\n",
    "\n",
    "from imblearn.over_sampling import SMOTE\n",
    "from imblearn.pipeline import Pipeline as SmPipeline\n",
    "\n",
    "import seaborn as sns\n",
    "import matplotlib.pyplot as plt\n",
    "%matplotlib inline\n",
    "\n",
    "import os\n",
    "import sys\n",
    "module_path = os.path.abspath(os.path.join(os.pardir))\n",
    "if module_path not in sys.path:\n",
    "    sys.path.append(module_path)\n",
    "from importlib import reload\n",
    "from src.functions import load_OU_data, CourseScaler, plot_confusion, pass_f1, make_gridpipe, \\\n",
    "score_grid\n",
    "import pickle\n",
    "\n",
    "import warnings\n",
    "\n",
    "warnings.filterwarnings(\"ignore\")\n",
    "sns.set_style('white')\n",
    "pd.set_option('display.max_columns',None)"
   ]
  },
  {
   "cell_type": "markdown",
   "metadata": {},
   "source": [
    "## Drop the Irrelevant Columns\n",
    "We are hoping to predict only on data that can be collected by the online learning service, so we need to drop data that those services might not have.  In our EDA, we found that demographic data was not strongly correlated to course outcomes anyway.\n",
    "\n",
    "## Set Prediction Window to 100"
   ]
  },
  {
   "cell_type": "code",
   "execution_count": 2,
   "metadata": {},
   "outputs": [
    {
     "data": {
      "text/html": [
       "<div>\n",
       "<style scoped>\n",
       "    .dataframe tbody tr th:only-of-type {\n",
       "        vertical-align: middle;\n",
       "    }\n",
       "\n",
       "    .dataframe tbody tr th {\n",
       "        vertical-align: top;\n",
       "    }\n",
       "\n",
       "    .dataframe thead th {\n",
       "        text-align: right;\n",
       "    }\n",
       "</style>\n",
       "<table border=\"1\" class=\"dataframe\">\n",
       "  <thead>\n",
       "    <tr style=\"text-align: right;\">\n",
       "      <th></th>\n",
       "      <th>code_module</th>\n",
       "      <th>num_of_prev_attempts</th>\n",
       "      <th>final_result</th>\n",
       "      <th>days_studied</th>\n",
       "      <th>activities_engaged</th>\n",
       "      <th>total_clicks</th>\n",
       "      <th>assessments_completed</th>\n",
       "      <th>average_assessment_score</th>\n",
       "    </tr>\n",
       "  </thead>\n",
       "  <tbody>\n",
       "    <tr>\n",
       "      <th>0</th>\n",
       "      <td>AAA</td>\n",
       "      <td>0</td>\n",
       "      <td>Pass</td>\n",
       "      <td>24</td>\n",
       "      <td>110</td>\n",
       "      <td>592</td>\n",
       "      <td>2</td>\n",
       "      <td>81.5</td>\n",
       "    </tr>\n",
       "    <tr>\n",
       "      <th>1</th>\n",
       "      <td>AAA</td>\n",
       "      <td>0</td>\n",
       "      <td>Pass</td>\n",
       "      <td>42</td>\n",
       "      <td>254</td>\n",
       "      <td>874</td>\n",
       "      <td>2</td>\n",
       "      <td>69.0</td>\n",
       "    </tr>\n",
       "    <tr>\n",
       "      <th>2</th>\n",
       "      <td>AAA</td>\n",
       "      <td>0</td>\n",
       "      <td>Pass</td>\n",
       "      <td>57</td>\n",
       "      <td>320</td>\n",
       "      <td>1079</td>\n",
       "      <td>2</td>\n",
       "      <td>71.5</td>\n",
       "    </tr>\n",
       "    <tr>\n",
       "      <th>3</th>\n",
       "      <td>AAA</td>\n",
       "      <td>0</td>\n",
       "      <td>Pass</td>\n",
       "      <td>37</td>\n",
       "      <td>201</td>\n",
       "      <td>722</td>\n",
       "      <td>2</td>\n",
       "      <td>49.5</td>\n",
       "    </tr>\n",
       "    <tr>\n",
       "      <th>4</th>\n",
       "      <td>AAA</td>\n",
       "      <td>0</td>\n",
       "      <td>Pass</td>\n",
       "      <td>61</td>\n",
       "      <td>320</td>\n",
       "      <td>1135</td>\n",
       "      <td>2</td>\n",
       "      <td>74.0</td>\n",
       "    </tr>\n",
       "  </tbody>\n",
       "</table>\n",
       "</div>"
      ],
      "text/plain": [
       "  code_module  num_of_prev_attempts final_result  days_studied  \\\n",
       "0         AAA                     0         Pass            24   \n",
       "1         AAA                     0         Pass            42   \n",
       "2         AAA                     0         Pass            57   \n",
       "3         AAA                     0         Pass            37   \n",
       "4         AAA                     0         Pass            61   \n",
       "\n",
       "   activities_engaged  total_clicks  assessments_completed  \\\n",
       "0                 110           592                      2   \n",
       "1                 254           874                      2   \n",
       "2                 320          1079                      2   \n",
       "3                 201           722                      2   \n",
       "4                 320          1135                      2   \n",
       "\n",
       "   average_assessment_score  \n",
       "0                      81.5  \n",
       "1                      69.0  \n",
       "2                      71.5  \n",
       "3                      49.5  \n",
       "4                      74.0  "
      ]
     },
     "execution_count": 2,
     "metadata": {},
     "output_type": "execute_result"
    }
   ],
   "source": [
    "df = load_OU_data(prediction_window=100)\n",
    "df.drop(columns = ['id_student','code_presentation','region','highest_education', \\\n",
    "                   'imd_band','gender','age_band','disability','studied_credits',\n",
    "                   'module_presentation_length','date_registration'], inplace = True)\n",
    "if 'date_unregistration' in df.columns:\n",
    "    df.drop(columns = ['date_unregistration'], inplace = True)\n",
    "df.head()"
   ]
  },
  {
   "cell_type": "markdown",
   "metadata": {},
   "source": [
    "## Preprocessing"
   ]
  },
  {
   "cell_type": "code",
   "execution_count": 3,
   "metadata": {},
   "outputs": [
    {
     "name": "stdout",
     "output_type": "stream",
     "text": [
      "Pass           11776\n",
      "Fail            5558\n",
      "Distinction     2818\n",
      "Withdrawn       2466\n",
      "Name: final_result, dtype: int64\n"
     ]
    }
   ],
   "source": [
    "X = df.drop(columns = ['final_result'])\n",
    "y = df['final_result']\n",
    "labels = ['Distinction','Pass','Fail','Withdrawn']\n",
    "print(y.value_counts())\n",
    "\n",
    "cv = KFold(n_splits = 5, shuffle = True, random_state = 111)\n",
    "\n",
    "cs = CourseScaler()\n",
    "\n",
    "X_train, X_test, y_train, y_test = train_test_split(X,y, random_state=111, test_size=0.2)\n",
    "X_t, X_val, y_t, y_val = train_test_split(X_train, y_train, random_state=111, test_size=0.2)\n"
   ]
  },
  {
   "cell_type": "markdown",
   "metadata": {},
   "source": [
    "# Logistic Reg"
   ]
  },
  {
   "cell_type": "markdown",
   "metadata": {},
   "source": [
    "I'm using `cross_val_predict()` that returns a prediction made up of many different folded versions of the model, so `y[45:90]` might be predictions for for fold 1 and `y[90:135]` might be predictions for fold 2.  It's a Frankenstein prediction!  The average accuracy of the predictions should represent a cross validated accuracy of the model, however, more or less."
   ]
  },
  {
   "cell_type": "code",
   "execution_count": 4,
   "metadata": {},
   "outputs": [
    {
     "name": "stdout",
     "output_type": "stream",
     "text": [
      "cross accuracy score for \"Pass\" class:\n",
      "[0.57667864 0.57916552 0.57529704 0.59270517 0.58291874]\n"
     ]
    },
    {
     "data": {
      "image/png": "[encoded data removed]",
      "text/plain": [
       "<Figure size 432x288 with 2 Axes>"
      ]
     },
     "metadata": {},
     "output_type": "display_data"
    }
   ],
   "source": [
    "LRpipeline = Pipeline(steps = [('scaler', CourseScaler(drop_course = True)),\n",
    "                               ('model', LogisticRegression())])\n",
    "\n",
    "scores = cross_val_score(LRpipeline, X_train, y_train, scoring = 'accuracy' )\n",
    "y_pred = cross_val_predict(LRpipeline, X_train, y_train, cv=cv)\n",
    "\n",
    "print('cross accuracy score for \"Pass\" class:')\n",
    "print(scores)\n",
    "plot_confusion(y_train, y_pred, labels)"
   ]
  },
  {
   "cell_type": "markdown",
   "metadata": {},
   "source": [
    "### Evaluation\n",
    "Comparing to our FSM (see FSM notebook), we have only lost a little accuracy by setting the prediction window to 100 days and removing demographic data and focusing only on virtual learning environment interaction data and assessment scores.  Our biggest change here is that the model cannot predict withdrawing students with a prediction window of 100.  One interesting result here is that with a prediction window of 50 the model is able to predict a few withdrawals.\n",
    "\n",
    "Let's explore some class balancing strategies to help our model learn about withdrawing students"
   ]
  },
  {
   "cell_type": "markdown",
   "metadata": {},
   "source": [
    "# SMOTE\n",
    "We can't use pipelines with smote, so we will use a validation set instead.  results may not be perfectly comparable to ones above."
   ]
  },
  {
   "cell_type": "code",
   "execution_count": 5,
   "metadata": {},
   "outputs": [],
   "source": [
    "smotesteps = [('scaler', CourseScaler()),\n",
    "             ('smoter',SMOTE(random_state=111)),\n",
    "             ('logreg', LogisticRegression())]\n",
    "\n",
    "SMLRpipeline = SmPipeline(smotesteps)"
   ]
  },
  {
   "cell_type": "code",
   "execution_count": 6,
   "metadata": {},
   "outputs": [
    {
     "name": "stdout",
     "output_type": "stream",
     "text": [
      "cross validated F1 score for \"Pass\" class:\n",
      "[0.42470296 0.423874   0.42497928 0.43713733 0.43504699]\n"
     ]
    },
    {
     "data": {
      "image/png": "[encoded data removed]",
      "text/plain": [
       "<Figure size 432x288 with 2 Axes>"
      ]
     },
     "metadata": {},
     "output_type": "display_data"
    }
   ],
   "source": [
    "scores = cross_val_score(SMLRpipeline, X_train, y_train, scoring = 'accuracy' )\n",
    "y_pred = cross_val_predict(SMLRpipeline, X_train, y_train)\n",
    "print('cross validated F1 score for \"Pass\" class:')\n",
    "print(scores)\n",
    "plot_confusion(y_train, y_pred, labels=labels)"
   ]
  },
  {
   "cell_type": "markdown",
   "metadata": {},
   "source": [
    "Interesting!  While overall F1 on passing dropped, the accuracy of every class other than pass increased significantly!  These were the results we were hoping for.  \n",
    "\n",
    "Especially exciting is that most misclassified 'Pass' samples were classified as 'Distinction' and vice versa.  This was also true between 'Fail' and 'Withdrawn'\n",
    "\n",
    "SMOTING has been a great success.  Let's see if we can build on this.  Since we are hoping to red-flag students for interventions, we actually don't care if they pass or pass with distinction for the purpose of this predictor.  Let's combine those labels and see if that further improves our accuracy."
   ]
  },
  {
   "cell_type": "markdown",
   "metadata": {},
   "source": [
    "## FSM with combined labels"
   ]
  },
  {
   "cell_type": "markdown",
   "metadata": {},
   "source": [
    "#### Combine 'Distinction' and 'Pass'\n",
    "Our goal is to efficiently flag students in danger of failing or withdrawing.  We want to do so without intervening with too many students on track to pass, because that wastes time and resources.  When we bring our classes down to just 3, pass, fail, and withdraw, then the problem actually becomes separating the passing students from the others.  For this reason we can use the F1 score specifically on the passing students as a metric.  This will minimize both the students erroneously classified as passing (false positives) and the students erroneously classified as failing or withdrawing (false negatives).  "
   ]
  },
  {
   "cell_type": "code",
   "execution_count": 7,
   "metadata": {},
   "outputs": [],
   "source": [
    "y3_train = np.array(['Pass' if y == 'Distinction' else y for y in y_train])\n",
    "y3_test = np.array(['Pass' if y == 'Distinction' else y for y in y_test])\n",
    "y3_t = np.array(['Pass' if y == 'Distinction' else y for y in y_t])\n",
    "y3_val = np.array(['Pass' if y == 'Distinction' else y for y in y_val])\n",
    "\n",
    "labels3 = ['Pass','Fail','Withdrawn']"
   ]
  },
  {
   "cell_type": "code",
   "execution_count": 8,
   "metadata": {},
   "outputs": [
    {
     "name": "stdout",
     "output_type": "stream",
     "text": [
      "cross validated F1 score for \"Pass\" class:\n",
      "[0.49376231 0.50631313 0.50093926 0.46786632 0.51129761]\n"
     ]
    },
    {
     "data": {
      "image/png": "[encoded data removed]",
      "text/plain": [
       "<Figure size 432x288 with 2 Axes>"
      ]
     },
     "metadata": {},
     "output_type": "display_data"
    }
   ],
   "source": [
    "\n",
    "\n",
    "scores = cross_val_score(SMLRpipeline, X_t, y3_t, scoring = make_scorer(pass_f1) )\n",
    "y_pred = SMLRpipeline.fit(X_t, y3_t).predict(X_val)\n",
    "print('cross validated F1 score for \"Pass\" class:')\n",
    "print(scores)\n",
    "plot_confusion(y3_val, y_pred, labels=labels3)"
   ]
  },
  {
   "cell_type": "markdown",
   "metadata": {},
   "source": [
    "### Evaluation:\n",
    "This is a good start, but we need to improve on it.  Also, these numbers are somewhat inflated because the model trained on the entire training set"
   ]
  },
  {
   "cell_type": "code",
   "execution_count": 9,
   "metadata": {},
   "outputs": [
    {
     "name": "stdout",
     "output_type": "stream",
     "text": [
      "cross validated F1 score for \"Pass\" class:\n",
      "[0.4395466  0.43413729 0.44231995 0.44129032 0.42885506]\n"
     ]
    },
    {
     "data": {
      "image/png": "[encoded data removed]",
      "text/plain": [
       "<Figure size 432x288 with 2 Axes>"
      ]
     },
     "metadata": {},
     "output_type": "display_data"
    }
   ],
   "source": [
    "y2_train = np.array(['Fail' if y == 'Withdrawn' else y for y in y_train])\n",
    "y2_test = np.array(['Fail' if y == 'Withdrawn' else y for y in y_test])\n",
    "y2_t = np.array(['Fail' if y == 'Withdrawn' else y for y in y_t])\n",
    "y2_val = np.array(['Fail' if y == 'Withdrawn' else y for y in y_val])\n",
    "\n",
    "labels2 = ['Pass','Fail']\n",
    "\n",
    "scores = cross_val_score(SMLRpipeline, X_train, y2_train, scoring = make_scorer(pass_f1) )\n",
    "y_pred = cross_val_predict(SMLRpipeline, X_train, y2_train)\n",
    "print('cross validated F1 score for \"Pass\" class:')\n",
    "print(scores)\n",
    "plot_confusion(y2_train, y_pred, labels=labels2)"
   ]
  },
  {
   "cell_type": "markdown",
   "metadata": {},
   "source": [
    "### Evaluation:\n",
    "This did not improve on the 3 class version.  We have far too many false positive failing students.  Most students pass.  The majority of student receiving interventions would have passed anyway.  We will go ahead and stick with our 3 classes."
   ]
  },
  {
   "cell_type": "markdown",
   "metadata": {},
   "source": [
    "## GridsearchCV for best logistic regression hyperparameters"
   ]
  },
  {
   "cell_type": "code",
   "execution_count": 10,
   "metadata": {},
   "outputs": [
    {
     "name": "stdout",
     "output_type": "stream",
     "text": [
      "cross validated F1 score for \"Pass\" class:\n",
      "0.49736359272621317\n"
     ]
    },
    {
     "data": {
      "text/plain": [
       "Pipeline(steps=[('scaler', CourseScaler()), ('smoter', SMOTE(random_state=111)),\n",
       "                ('model',\n",
       "                 LogisticRegression(random_state=111, solver='liblinear'))])"
      ]
     },
     "execution_count": 10,
     "metadata": {},
     "output_type": "execute_result"
    },
    {
     "data": {
      "image/png": "[encoded data removed]",
      "text/plain": [
       "<Figure size 432x288 with 2 Axes>"
      ]
     },
     "metadata": {},
     "output_type": "display_data"
    }
   ],
   "source": [
    "LRparams = [{'model__solver': ['lbfgs','sag','saga','newton-cg'],\n",
    "         'model__penalty': ['none'],\n",
    "         'model__random_state':[111]},\n",
    "          {'model__solver': ['lbfgs','sag','saga','newton-cg','liblinear'],\n",
    "         'model__penalty': ['l2'],\n",
    "         'model__random_state':[111]},\n",
    "          {'model__solver':['saga'],\n",
    "          'model__penalty':['elasticnet']},\n",
    "          {'model__solver':['saga','liblinear'],\n",
    "          'model__penalty':['l1']}]\n",
    "\n",
    "\n",
    "LRgrid = make_gridpipe(LogisticRegression(),LRparams, cv= cv)\n",
    "\n",
    "LRmodel = LRgrid.fit(X_t, y3_t).best_estimator_\n",
    "\n",
    "score_grid(LRgrid, X_val, y3_val, labels = labels3)\n",
    "pickle.dump(LRmodel,open('../content/LRmodel.pkl','wb'))"
   ]
  },
  {
   "cell_type": "code",
   "execution_count": 24,
   "metadata": {},
   "outputs": [],
   "source": []
  },
  {
   "cell_type": "markdown",
   "metadata": {},
   "source": [
    "### final LR model evaluation.  This model thends to overpredict students to pass, and still misclassifies about 30% of passing students as in danger of failing or withdrawing."
   ]
  },
  {
   "cell_type": "markdown",
   "metadata": {},
   "source": [
    "# More model types\n",
    "We used the logistic regression classifier to tune our features, but now it's time to try some other models.  We will use GridsearchCV to optimize the hyperparameters"
   ]
  },
  {
   "cell_type": "markdown",
   "metadata": {},
   "source": [
    "## Gaussian Naive Bayes"
   ]
  },
  {
   "cell_type": "code",
   "execution_count": 13,
   "metadata": {},
   "outputs": [
    {
     "name": "stdout",
     "output_type": "stream",
     "text": [
      "cross validated F1 score for \"Pass\" class:\n",
      "0.4889223231181622\n",
      "Pipeline(steps=[('scaler', CourseScaler()), ('smoter', SMOTE(random_state=111)),\n",
      "                ('model', GaussianNB(var_smoothing=1e-08))])\n"
     ]
    },
    {
     "data": {
      "image/png": "[encoded data removed]",
      "text/plain": [
       "<Figure size 432x288 with 2 Axes>"
      ]
     },
     "metadata": {},
     "output_type": "display_data"
    }
   ],
   "source": [
    "\n",
    "GNBparams = [{'model__var_smoothing':[1e-8,1e-9,1e-10]}]\n",
    "\n",
    "\n",
    "GNBsmotesteps = [('scaler', CourseScaler()),\n",
    "             ('smoter',SMOTE(random_state=111)),\n",
    "             ('GNB', GaussianNB())]\n",
    "\n",
    "GNBpipeline = SmPipeline(GNBsmotesteps)\n",
    "\n",
    "GNBgrid = make_gridpipe(GaussianNB(), GNBparams, cv=cv)\n",
    "\n",
    "GNBgrid.fit(X_t, y3_t)\n",
    "\n",
    "GNBmodel = score_grid(GNBgrid, X_val, y3_val, labels = labels3)\n",
    "\n",
    "print(GNBmodel)\n",
    "pickle.dump(GNBmodel,open('../content/GNBmodel489f1.pkl','wb'))"
   ]
  },
  {
   "cell_type": "code",
   "execution_count": 25,
   "metadata": {},
   "outputs": [],
   "source": []
  },
  {
   "cell_type": "markdown",
   "metadata": {},
   "source": [
    "### Gaussian Naive Bayes Evaluation: \n",
    "This model has more false negative predictions for the passing class.  50% of passing students will be tagged as failing or withdrawing.  Whereas other models tended to overpredict passing, this one under predicts it.  The false positive rate, however, is still pretty high as well, though not catastrophic."
   ]
  },
  {
   "cell_type": "code",
   "execution_count": 14,
   "metadata": {},
   "outputs": [
    {
     "name": "stdout",
     "output_type": "stream",
     "text": [
      "cross validated F1 score for \"Pass\" class:\n",
      "0.5031116156268767\n",
      "Pipeline(steps=[('scaler', CourseScaler()), ('smoter', SMOTE(random_state=111)),\n",
      "                ('model',\n",
      "                 DecisionTreeClassifier(criterion='entropy', max_depth=4,\n",
      "                                        max_features=4, min_samples_split=0.5,\n",
      "                                        random_state=111))])\n"
     ]
    },
    {
     "data": {
      "image/png": "[encoded data removed]",
      "text/plain": [
       "<Figure size 432x288 with 2 Axes>"
      ]
     },
     "metadata": {},
     "output_type": "display_data"
    }
   ],
   "source": [
    "DTparams = {'model__criterion':['gini','entropy'],\n",
    "           'model__splitter':['best','random'],\n",
    "           'model__max_depth':[4,10,20],'model__min_samples_split':[.01,.1,.2,.5],\n",
    "           'model__max_features':[1,2,3,4],'model__random_state':[111]}\n",
    "           \n",
    "DTgrid = make_gridpipe(DecisionTreeClassifier(), DTparams, cv=cv)\n",
    "\n",
    "DTgrid.fit(X_t, y3_t)\n",
    "\n",
    "DTmodel = score_grid(DTgrid, X_val, y3_val, labels = labels3)\n",
    "print(DTmodel)\n",
    "pickle.dump(GNBmodel,open('../content/DTmodel503f1.pkl','wb'))"
   ]
  },
  {
   "cell_type": "code",
   "execution_count": 26,
   "metadata": {},
   "outputs": [],
   "source": []
  },
  {
   "cell_type": "markdown",
   "metadata": {},
   "source": [
    "### Decision Tree Evaluation \n",
    "Even with SMOTE-ing this model decided no one would withdraw from the courses, and split the true withdrawals between passes and fails.  It caught 60% of students who would have failed and 82% of students who passes.  The good news about this one is that not too many resources would be wasted needlessly intervening with passing students, as only 18% of passing students were classfified as failing, but the bad news is that it misses 40% of failing students and 46% of withdrawing students."
   ]
  },
  {
   "cell_type": "code",
   "execution_count": 28,
   "metadata": {},
   "outputs": [
    {
     "name": "stdout",
     "output_type": "stream",
     "text": [
      "cross validated F1 score for \"Pass\" class:\n",
      "0.51185297635644\n",
      "Pipeline(steps=[('scaler', CourseScaler()), ('smoter', SMOTE(random_state=111)),\n",
      "                ('model',\n",
      "                 RandomForestClassifier(criterion='entropy', max_depth=4,\n",
      "                                        max_features=3, min_samples_split=0.5,\n",
      "                                        n_estimators=300, n_jobs=-1,\n",
      "                                        oob_score=True, random_state=111))])\n"
     ]
    },
    {
     "data": {
      "image/png": "[encoded data removed]",
      "text/plain": [
       "<Figure size 432x288 with 2 Axes>"
      ]
     },
     "metadata": {},
     "output_type": "display_data"
    }
   ],
   "source": [
    "RFparams = {'model__n_estimators':[10,100,300],\n",
    "           'model__criterion':['gini','entropy'],\n",
    "           'model__max_depth':[4,7,10],\n",
    "           'model__min_samples_split':[.2,.5,.7],\n",
    "           'model__max_features':[2,3,4],\n",
    "           'model__oob_score':[True,False],\n",
    "           'model__n_jobs':[-1],'model__random_state':[111],\n",
    "           'model__max_samples':[.5,.7,None]}\n",
    "           \n",
    "RFgrid = make_gridpipe(RandomForestClassifier(), RFparams, cv=cv)\n",
    "\n",
    "RFgrid.fit(X_t, y3_t)\n",
    "\n",
    "RFmodel = score_grid(RFgrid, X_val, y3_val, labels = labels3)\n",
    "print(RFmodel)\n",
    "pickle.dump(RFmodel, open('../content/RFmodel51f1.pkl','wb'))"
   ]
  },
  {
   "cell_type": "markdown",
   "metadata": {},
   "source": [
    "### Random Forest Classifier Evaluation:\n",
    "This is the best model yet for our purposes.  It classifies almost 70% of failing students as needing intervention (either failing or withdrawing) and 65% of students who will withdraw as falling into one of those categories.  It successfully identifies 74% of students who will pass, suggesting unnecessary interventions for only 26% of students who will pass.  The false positive rate for interventions is not as good as the straight decision tree (26% for the Random Forest, 18% for the Decision Tree) but the false negative rate is also quite a bit lower.  "
   ]
  },
  {
   "cell_type": "code",
   "execution_count": null,
   "metadata": {},
   "outputs": [],
   "source": []
  }
 ],
 "metadata": {
  "kernelspec": {
   "display_name": "Python 3",
   "language": "python",
   "name": "python3"
  },
  "language_info": {
   "codemirror_mode": {
    "name": "ipython",
    "version": 3
   },
   "file_extension": ".py",
   "mimetype": "text/x-python",
   "name": "python",
   "nbconvert_exporter": "python",
   "pygments_lexer": "ipython3",
   "version": "3.8.3"
  }
 },
 "nbformat": 4,
 "nbformat_minor": 4
}
