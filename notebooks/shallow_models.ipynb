{
 "cells": [
  {
   "cell_type": "code",
   "execution_count": 1,
   "metadata": {},
   "outputs": [],
   "source": [
    "import pandas as pd\n",
    "import numpy as np\n",
    "from sklearn.linear_model import LogisticRegression\n",
    "from sklearn.model_selection import GridSearchCV\n",
    "from sklearn.naive_bayes import GaussianNB\n",
    "from sklearn.tree import DecisionTreeClassifier\n",
    "from sklearn.ensemble import RandomForestClassifier\n",
    "from sklearn.pipeline import Pipeline\n",
    "from sklearn.preprocessing import OneHotEncoder\n",
    "from sklearn.preprocessing import StandardScaler\n",
    "from sklearn.compose import ColumnTransformer\n",
    "from sklearn.model_selection import train_test_split\n",
    "from sklearn.model_selection import cross_val_score\n",
    "from sklearn.model_selection import KFold\n",
    "from sklearn.metrics import confusion_matrix, accuracy_score, classification_report, recall_score, \\\n",
    "make_scorer\n",
    "from sklearn.preprocessing import LabelBinarizer, LabelEncoder\n",
    "import seaborn as sns\n",
    "import matplotlib.pyplot as plt\n",
    "%matplotlib inline\n",
    "sns.set_style('whitegrid')"
   ]
  },
  {
   "cell_type": "code",
   "execution_count": 2,
   "metadata": {},
   "outputs": [],
   "source": [
    "def fail_recall(y_true,y_pred):\n",
    "    \"\"\"\n",
    "    uses sklearn.metrics.recall_score() to return the recall score of\n",
    "    non functioning wells.\n",
    "    Takes single column array or dataframe of true labels\n",
    "    and one of predictions \n",
    "    returns recall score of class 0.\n",
    "    \"\"\"\n",
    "    \n",
    "    return recall_score(y_true,y_pred,average=None)[0]\n",
    "\n",
    "recaller = make_scorer(fail_recall)"
   ]
  },
  {
   "cell_type": "markdown",
   "metadata": {},
   "source": [
    "## Drop the irrelevant columns, "
   ]
  },
  {
   "cell_type": "code",
   "execution_count": 3,
   "metadata": {},
   "outputs": [
    {
     "data": {
      "text/html": [
       "<div>\n",
       "<style scoped>\n",
       "    .dataframe tbody tr th:only-of-type {\n",
       "        vertical-align: middle;\n",
       "    }\n",
       "\n",
       "    .dataframe tbody tr th {\n",
       "        vertical-align: top;\n",
       "    }\n",
       "\n",
       "    .dataframe thead th {\n",
       "        text-align: right;\n",
       "    }\n",
       "</style>\n",
       "<table border=\"1\" class=\"dataframe\">\n",
       "  <thead>\n",
       "    <tr style=\"text-align: right;\">\n",
       "      <th></th>\n",
       "      <th>gender</th>\n",
       "      <th>highest_education</th>\n",
       "      <th>age_band</th>\n",
       "      <th>num_of_prev_attempts</th>\n",
       "      <th>disability</th>\n",
       "      <th>final_result</th>\n",
       "      <th>date_registration</th>\n",
       "      <th>avg_daily_activities</th>\n",
       "      <th>mean_clicks_per_day</th>\n",
       "      <th>pct_days_studied</th>\n",
       "    </tr>\n",
       "  </thead>\n",
       "  <tbody>\n",
       "    <tr>\n",
       "      <th>0</th>\n",
       "      <td>M</td>\n",
       "      <td>HE Qualification</td>\n",
       "      <td>55&lt;=</td>\n",
       "      <td>0</td>\n",
       "      <td>N</td>\n",
       "      <td>Pass</td>\n",
       "      <td>-159.0</td>\n",
       "      <td>4.695652</td>\n",
       "      <td>25.521739</td>\n",
       "      <td>0.255556</td>\n",
       "    </tr>\n",
       "    <tr>\n",
       "      <th>1</th>\n",
       "      <td>F</td>\n",
       "      <td>HE Qualification</td>\n",
       "      <td>35-55</td>\n",
       "      <td>0</td>\n",
       "      <td>N</td>\n",
       "      <td>Pass</td>\n",
       "      <td>-53.0</td>\n",
       "      <td>6.388889</td>\n",
       "      <td>22.805556</td>\n",
       "      <td>0.400000</td>\n",
       "    </tr>\n",
       "    <tr>\n",
       "      <th>2</th>\n",
       "      <td>F</td>\n",
       "      <td>A Level or Equivalent</td>\n",
       "      <td>35-55</td>\n",
       "      <td>0</td>\n",
       "      <td>N</td>\n",
       "      <td>Pass</td>\n",
       "      <td>-52.0</td>\n",
       "      <td>5.803922</td>\n",
       "      <td>19.450980</td>\n",
       "      <td>0.566667</td>\n",
       "    </tr>\n",
       "    <tr>\n",
       "      <th>3</th>\n",
       "      <td>F</td>\n",
       "      <td>Lower Than A Level</td>\n",
       "      <td>0-35</td>\n",
       "      <td>0</td>\n",
       "      <td>N</td>\n",
       "      <td>Pass</td>\n",
       "      <td>-176.0</td>\n",
       "      <td>5.400000</td>\n",
       "      <td>19.542857</td>\n",
       "      <td>0.388889</td>\n",
       "    </tr>\n",
       "    <tr>\n",
       "      <th>4</th>\n",
       "      <td>M</td>\n",
       "      <td>A Level or Equivalent</td>\n",
       "      <td>35-55</td>\n",
       "      <td>0</td>\n",
       "      <td>N</td>\n",
       "      <td>Pass</td>\n",
       "      <td>-110.0</td>\n",
       "      <td>5.206897</td>\n",
       "      <td>18.275862</td>\n",
       "      <td>0.644444</td>\n",
       "    </tr>\n",
       "  </tbody>\n",
       "</table>\n",
       "</div>"
      ],
      "text/plain": [
       "  gender      highest_education age_band  num_of_prev_attempts disability  \\\n",
       "0      M       HE Qualification     55<=                     0          N   \n",
       "1      F       HE Qualification    35-55                     0          N   \n",
       "2      F  A Level or Equivalent    35-55                     0          N   \n",
       "3      F     Lower Than A Level     0-35                     0          N   \n",
       "4      M  A Level or Equivalent    35-55                     0          N   \n",
       "\n",
       "  final_result  date_registration  avg_daily_activities  mean_clicks_per_day  \\\n",
       "0         Pass             -159.0              4.695652            25.521739   \n",
       "1         Pass              -53.0              6.388889            22.805556   \n",
       "2         Pass              -52.0              5.803922            19.450980   \n",
       "3         Pass             -176.0              5.400000            19.542857   \n",
       "4         Pass             -110.0              5.206897            18.275862   \n",
       "\n",
       "   pct_days_studied  \n",
       "0          0.255556  \n",
       "1          0.400000  \n",
       "2          0.566667  \n",
       "3          0.388889  \n",
       "4          0.644444  "
      ]
     },
     "execution_count": 3,
     "metadata": {},
     "output_type": "execute_result"
    }
   ],
   "source": [
    "df = pd.read_csv('content/regs_with_activity_stats.csv')\n",
    "df.drop(columns = ['id_student','code_module','code_presentation','module_presentation_length',\n",
    "                  'total_days_studied'], inplace = True)\n",
    "df.loc[df['final_result'] == 'Withdrawn', 'final_result'] = 'Fail'\n",
    "df.loc[df['final_result'] == 'Distinction', 'final_result'] = 'Pass'\n",
    "df.head()"
   ]
  },
  {
   "cell_type": "markdown",
   "metadata": {},
   "source": [
    "## Preprocessing"
   ]
  },
  {
   "cell_type": "code",
   "execution_count": 4,
   "metadata": {},
   "outputs": [],
   "source": [
    "X = df.drop(columns = ['final_result'])\n",
    "y = df['final_result']\n",
    "encoder = LabelEncoder()\n",
    "y = encoder.fit_transform(y)\n",
    "\n",
    "X_train, X_test, y_train, y_test = train_test_split(X,y, random_state=111, test_size=0.2)"
   ]
  },
  {
   "cell_type": "code",
   "execution_count": 5,
   "metadata": {},
   "outputs": [
    {
     "data": {
      "text/plain": [
       "array(['Fail', 'Pass'], dtype=object)"
      ]
     },
     "execution_count": 5,
     "metadata": {},
     "output_type": "execute_result"
    }
   ],
   "source": [
    "encoder.classes_"
   ]
  },
  {
   "cell_type": "code",
   "execution_count": 6,
   "metadata": {},
   "outputs": [],
   "source": [
    "categoricals = X.select_dtypes(include = 'object').columns\n",
    "numericals = X.select_dtypes(include = 'number').columns\n",
    "transformers = [('ohe', OneHotEncoder(sparse = False, drop= 'first'), categoricals),\n",
    "                 ('scaler', StandardScaler(), numericals)]\n",
    "col_transformer = ColumnTransformer(transformers = transformers)\n",
    "\n",
    "cv = KFold(n_splits = 5, shuffle = True, random_state = 111)"
   ]
  },
  {
   "cell_type": "markdown",
   "metadata": {},
   "source": [
    "# Other Models"
   ]
  },
  {
   "cell_type": "markdown",
   "metadata": {},
   "source": [
    "### Logistic Regression"
   ]
  },
  {
   "cell_type": "code",
   "execution_count": 20,
   "metadata": {},
   "outputs": [
    {
     "name": "stdout",
     "output_type": "stream",
     "text": [
      "best params {'model__class_weight': None, 'model__max_iter': 1000, 'model__penalty': 'l2', 'model__solver': 'sag', 'model__tol': 0.0001}\n",
      "mean_test_scores 0.7008791760864105\n"
     ]
    }
   ],
   "source": [
    "params = [{'model__solver':['liblinear'], 'model__tol':[1e-4,1e-5],\n",
    "           'model__class_weight':['balanced',None],'model__max_iter':[500,1000]},\n",
    "          {'model__solver':['sag','saga','newton-cg'], 'model__tol':[1e-4,1e-5],\n",
    "           'model__class_weight':['balanced',None],'model__max_iter':[500,1000],\n",
    "          'model__penalty':['none', 'l2']}]\n",
    "\n",
    "LRpipeline = Pipeline(steps = [('processor', col_transformer),\n",
    "                             ('model', LogisticRegression(class_weight='balanced'))])\n",
    "\n",
    "LRclf = GridSearchCV(LRpipeline, params, scoring = 'accuracy', cv = cv)\n",
    "\n",
    "LRclf.fit(X_train,y_train.reshape(-1,))\n",
    "\n",
    "print('best params', LRclf.best_params_)\n",
    "print('mean_test_scores', LRclf.best_score_)"
   ]
  },
  {
   "cell_type": "code",
   "execution_count": 21,
   "metadata": {},
   "outputs": [
    {
     "name": "stdout",
     "output_type": "stream",
     "text": [
      "              precision    recall  f1-score   support\n",
      "\n",
      "           0       0.64      0.48      0.55      1936\n",
      "           1       0.71      0.83      0.77      3041\n",
      "\n",
      "    accuracy                           0.69      4977\n",
      "   macro avg       0.68      0.65      0.66      4977\n",
      "weighted avg       0.68      0.69      0.68      4977\n",
      "\n"
     ]
    },
    {
     "data": {
      "text/plain": [
       "<matplotlib.axes._subplots.AxesSubplot at 0x1da644f9400>"
      ]
     },
     "execution_count": 21,
     "metadata": {},
     "output_type": "execute_result"
    },
    {
     "data": {
      "image/png": "[encoded data removed]",
      "text/plain": [
       "<Figure size 432x288 with 2 Axes>"
      ]
     },
     "metadata": {},
     "output_type": "display_data"
    }
   ],
   "source": [
    "y_pred = LRclf.predict(X_test)\n",
    "print(classification_report(y_test,y_pred))\n",
    "sns.heatmap(confusion_matrix(y_test,y_pred, normalize = 'true'),\n",
    "           xticklabels = encoder.classes_,\n",
    "           yticklabels = encoder.classes_,\n",
    "           annot = True)"
   ]
  },
  {
   "cell_type": "markdown",
   "metadata": {},
   "source": [
    "### Gaussian Naive Bayes"
   ]
  },
  {
   "cell_type": "code",
   "execution_count": 14,
   "metadata": {},
   "outputs": [
    {
     "data": {
      "text/plain": [
       "array([0.60025221, 0.64190094, 0.57151899, 0.60496311, 0.64572539])"
      ]
     },
     "execution_count": 14,
     "metadata": {},
     "output_type": "execute_result"
    }
   ],
   "source": [
    "GNBpipeline = Pipeline(steps = [('processor', col_transformer),\n",
    "                               ('model', GaussianNB())])\n",
    "GNBscores = cross_val_score(GNBpipeline, X_train, y_train,\n",
    "                        scoring = recaller,\n",
    "                        cv = cv,\n",
    "                        n_jobs = -1)\n",
    "GNBscores"
   ]
  },
  {
   "cell_type": "markdown",
   "metadata": {},
   "source": [
    "### Decision Tree"
   ]
  },
  {
   "cell_type": "code",
   "execution_count": 15,
   "metadata": {},
   "outputs": [
    {
     "data": {
      "text/plain": [
       "array([0.60462195, 0.61366491, 0.60010048, 0.61215775, 0.60612911])"
      ]
     },
     "execution_count": 15,
     "metadata": {},
     "output_type": "execute_result"
    }
   ],
   "source": [
    "DTpipeline = Pipeline(steps = [('processor', col_transformer),\n",
    "                               ('model', DecisionTreeClassifier())])\n",
    "DTscores = cross_val_score(DTpipeline, X_train, y_train,\n",
    "                        scoring = 'accuracy',\n",
    "                        cv = cv,\n",
    "                        n_jobs = -1)\n",
    "DTscores"
   ]
  },
  {
   "cell_type": "code",
   "execution_count": 17,
   "metadata": {},
   "outputs": [],
   "source": [
    "params = {'model__criterion':['gini','entropy'],'model__splitter':['best','random'],\n",
    "         'model__max_depth':[5,10,20]}\n",
    "\n",
    "DTclf = GridSearchCV(DTpipeline, params, cv = cv)"
   ]
  },
  {
   "cell_type": "markdown",
   "metadata": {},
   "source": [
    "### Random Forest"
   ]
  },
  {
   "cell_type": "code",
   "execution_count": null,
   "metadata": {},
   "outputs": [],
   "source": [
    "RFpipeline = Pipeline(steps = [('processor', col_transformer),\n",
    "                               ('model', RandomForestClassifier())])\n",
    "RFscores = cross_val_score(RFpipeline, X_train, y_train,\n",
    "                        scoring = 'accuracy',\n",
    "                        cv = cv,\n",
    "                        n_jobs = -1)\n",
    "RFscores"
   ]
  },
  {
   "cell_type": "code",
   "execution_count": null,
   "metadata": {},
   "outputs": [],
   "source": [
    "RFpipeline.fit(X_train,y_train)\n",
    "y_pred = RFpipeline.predict(X_test)\n",
    "print('accuracy', accuracy_score(y_test,y_pred))\n",
    "confusion = confusion_matrix(y_test,y_pred, normalize = 'true')\n",
    "sns.heatmap(confusion, annot = True,\n",
    "           xticklabels = RFpipeline.classes_)"
   ]
  },
  {
   "cell_type": "code",
   "execution_count": null,
   "metadata": {},
   "outputs": [],
   "source": [
    "DTpipeline.fit(X_train,y_train)\n",
    "y_pred = DTpipeline.predict(X_test)\n",
    "print('accuracy', accuracy_score(y_test,y_pred))\n",
    "confusion = confusion_matrix(y_test,y_pred, normalize = 'true')\n",
    "sns.heatmap(confusion, annot = True,\n",
    "           xticklabels = DTpipeline.classes_)"
   ]
  },
  {
   "cell_type": "code",
   "execution_count": null,
   "metadata": {},
   "outputs": [],
   "source": [
    "GNBpipeline.fit(X_train,y_train)\n",
    "y_pred = GNBpipeline.predict(X_test)\n",
    "print('accuracy', accuracy_score(y_test,y_pred))\n",
    "confusion = confusion_matrix(y_test,y_pred, normalize = 'true')\n",
    "sns.heatmap(confusion, annot = True,\n",
    "           xticklabels = GNBpipeline.classes_)"
   ]
  },
  {
   "cell_type": "code",
   "execution_count": null,
   "metadata": {},
   "outputs": [],
   "source": [
    "LRpipeline.fit(X_train,y_train)\n",
    "y_pred = LRpipeline.predict(X_test)\n",
    "print('accuracy', accuracy_score(y_test,y_pred))\n",
    "confusion = confusion_matrix(y_test,y_pred, normalize = 'true')\n",
    "sns.heatmap(confusion, annot = True,\n",
    "           xticklabels = LRpipeline.classes_)"
   ]
  },
  {
   "cell_type": "markdown",
   "metadata": {},
   "source": [
    "# GridSearch"
   ]
  },
  {
   "cell_type": "code",
   "execution_count": null,
   "metadata": {},
   "outputs": [],
   "source": []
  },
  {
   "cell_type": "code",
   "execution_count": null,
   "metadata": {},
   "outputs": [],
   "source": []
  },
  {
   "cell_type": "code",
   "execution_count": null,
   "metadata": {},
   "outputs": [],
   "source": [
    "pipeline.coef_"
   ]
  },
  {
   "cell_type": "code",
   "execution_count": null,
   "metadata": {},
   "outputs": [],
   "source": [
    "LR = pipeline.named_steps['model']\n",
    "CT = pipeline.named_steps['processing']"
   ]
  },
  {
   "cell_type": "code",
   "execution_count": null,
   "metadata": {},
   "outputs": [],
   "source": [
    "\n",
    "pd.DataFrame(LR.coef_)"
   ]
  },
  {
   "cell_type": "code",
   "execution_count": null,
   "metadata": {},
   "outputs": [],
   "source": [
    "X_train_3"
   ]
  },
  {
   "cell_type": "markdown",
   "metadata": {},
   "source": [
    "Let's try a GridSearch"
   ]
  }
 ],
 "metadata": {
  "kernelspec": {
   "display_name": "Python 3",
   "language": "python",
   "name": "python3"
  },
  "language_info": {
   "codemirror_mode": {
    "name": "ipython",
    "version": 3
   },
   "file_extension": ".py",
   "mimetype": "text/x-python",
   "name": "python",
   "nbconvert_exporter": "python",
   "pygments_lexer": "ipython3",
   "version": "3.8.3"
  }
 },
 "nbformat": 4,
 "nbformat_minor": 4
}
