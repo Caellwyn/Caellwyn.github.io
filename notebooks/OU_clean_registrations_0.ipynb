{
 "cells": [
  {
   "cell_type": "code",
   "execution_count": 9,
   "metadata": {
    "id": "sMq4OLfXBl3i"
   },
   "outputs": [],
   "source": [
    "import pandas as pd\n",
    "import numpy as np\n",
    "from sklearn.preprocessing import LabelEncoder"
   ]
  },
  {
   "cell_type": "markdown",
   "metadata": {
    "id": "zXkkRoBGCNaS"
   },
   "source": [
    "# Merge registrations, student info, and course info"
   ]
  },
  {
   "cell_type": "code",
   "execution_count": 10,
   "metadata": {
    "id": "OELaeIO1BzSv"
   },
   "outputs": [],
   "source": [
    "registrations = pd.read_csv('../content/studentRegistration.csv')\n",
    "courseInfo = pd.read_csv('../content/courses.csv')\n",
    "students = pd.read_csv('../content/studentInfo.csv')\n",
    "student_vle = pd.read_csv('../content/studentVle.csv')\n",
    "vle_info = pd.read_csv('../content/vle.csv')\n",
    "student_assessments = pd.read_csv('../content/studentAssessment.csv', skiprows=[128223,64073])\n",
    "assessments_info = pd.read_csv('../content/assessments.csv')\n",
    "\n",
    "index_columns = ['code_module','code_presentation','id_student']\n",
    "\n",
    "#Limit Dates to Prediction window\n",
    "prediction_window = 120\n",
    "\n",
    "full_registrations = pd.merge(students, registrations, on=index_columns, validate='1:1')\n",
    "\n",
    "full_registrations = pd.merge(full_registrations, courseInfo, \\\n",
    "                         on=['code_module','code_presentation'], validate='many_to_one')\n",
    "\n",
    "assessments = pd.merge(student_assessments,assessments_info, how = 'left', on='id_assessment')\n"
   ]
  },
  {
   "cell_type": "markdown",
   "metadata": {
    "id": "YyAZHGFGWKVa"
   },
   "source": [
    "# Data Validation\n",
    "We will drop: \n",
    "\n",
    "* Rows in assessments with no assessment score\n",
    "* The `is_banked` and `weight` columsn in assessments, because we won't use those.\n",
    "* Rows in assessments occuring after the prediction window.\n",
    "* Rows in registrations without registration dates or IMD band information, \n",
    "* Rows in registrations with unregistration dates that are not labeled as 'Withdrawn' \n",
    "* Rows in registrations representing students who unregistered before the end of the prediction window.\n",
    "* The `date_unregistration` column from registrations since we are not predicting when they withdraw, just whether.\n",
    "* Rows in the studentVLE table occuring after the prediction window"
   ]
  },
  {
   "cell_type": "code",
   "execution_count": 11,
   "metadata": {
    "id": "PAnHVNtxWQp7"
   },
   "outputs": [],
   "source": [
    "# Assessments\n",
    "assessments.dropna(subset = ['score'], inplace=True)\n",
    "assessments.drop(columns = ['is_banked', 'weight'], inplace=True)\n",
    "assessments = assessments[assessments['date_submitted'] <= prediction_window]\n",
    "\n",
    "# Registrations\n",
    "full_registrations.dropna(subset=['date_registration','imd_band'], inplace=True)\n",
    "not_withdrawn = full_registrations['date_unregistration'].isna()\n",
    "withdrawn_after_predict = (full_registrations['final_result'] == 'Withdrawn') \\\n",
    "                            & (full_registrations['date_unregistration'] > prediction_window)\n",
    "full_registrations = full_registrations[not_withdrawn | withdrawn_after_predict]\n",
    "full_registrations.drop(columns=['date_unregistration'], inplace=True)\n",
    "\n",
    "# VLE\n",
    "student_vle = student_vle[student_vle.date <= prediction_window]"
   ]
  },
  {
   "cell_type": "markdown",
   "metadata": {},
   "source": [
    "# Virtual Learning Environment Activity Statistics \n",
    "Next, lets isolate activity statistics from the virtual learning environment interactions and add those to our dataset. \n",
    "\n",
    "We will collect:\n",
    "* Total number of days worked during the prediction window\n",
    "* Total number of activities interacted with during the prediction window\n",
    "* Total number of clicks during the prediction window"
   ]
  },
  {
   "cell_type": "code",
   "execution_count": 12,
   "metadata": {},
   "outputs": [],
   "source": [
    "vle = pd.merge(student_vle,vle_info, \n",
    "               how = 'left', \\\n",
    "               on =['id_site','code_module', 'code_presentation'], \\\n",
    "               validate = 'm:1').drop(columns = ['week_from','week_to'])\n",
    "\n",
    "total_activities = vle.groupby(by=index_columns).count().reset_index()\n",
    "total_activities = total_activities.drop(columns=['date','sum_click','activity_type'])\n",
    "\n",
    "#intermediate grouped dataframe\n",
    "date_grouped = vle.groupby(by=index_columns + ['date']).count().reset_index()\n",
    "\n",
    "days_studied = date_grouped.groupby(by=index_columns).count().reset_index()\n",
    "days_studied = days_studied.drop(columns=['id_site','sum_click','activity_type'])\n",
    "\n",
    "clicks = vle.groupby(by=index_columns).sum().reset_index()\n",
    "clicks = clicks.drop(columns=['id_site','date'])\n",
    "\n",
    "full_registrations = pd.merge(full_registrations, days_studied, on=index_columns)\n",
    "full_registrations = pd.merge(full_registrations, total_activities, on=index_columns)\n",
    "full_registrations = pd.merge(full_registrations, clicks, on=index_columns)"
   ]
  },
  {
   "cell_type": "markdown",
   "metadata": {
    "id": "hQC0X048tvmk"
   },
   "source": [
    "# Assessment Data\n",
    "We will collect the number of assessments completed and the average scores."
   ]
  },
  {
   "cell_type": "code",
   "execution_count": 13,
   "metadata": {},
   "outputs": [],
   "source": [
    "num_assessments = assessments.groupby(by = index_columns).count().reset_index()\n",
    "num_assessments.drop(columns = ['date_submitted','score','date','assessment_type'], inplace=True)\n",
    "\n",
    "avg_score = assessments.groupby(by = index_columns).mean().reset_index()\n",
    "avg_score.drop(columns = ['date_submitted','id_assessment','date'], inplace=True)\n",
    "\n",
    "full_registrations = pd.merge(full_registrations, num_assessments, on=index_columns)\n",
    "full_registrations = pd.merge(full_registrations, avg_score, on=index_columns)\n",
    "\n",
    "new_cols = {'id_assessment':'assessments_completed',\n",
    "            'score':'average_score','date':'days_studied',\n",
    "            'id_site':'activities_completed','sum_click':'total_clicks'}\n",
    "full_registrations['code_module'] = LabelEncoder().fit_transform(full_registrations['code_module'])\n",
    "full_registrations = full_registrations.rename(columns = new_cols)"
   ]
  },
  {
   "cell_type": "code",
   "execution_count": 15,
   "metadata": {},
   "outputs": [],
   "source": [
    "full_registrations.to_csv('../content/cleaned_registrations.csv', index = False)"
   ]
  },
  {
   "cell_type": "code",
   "execution_count": null,
   "metadata": {},
   "outputs": [],
   "source": []
  }
 ],
 "metadata": {
  "colab": {
   "collapsed_sections": [],
   "name": "OU_clean_registrations.ipynb",
   "private_outputs": true,
   "provenance": []
  },
  "kernelspec": {
   "display_name": "Python 3",
   "language": "python",
   "name": "python3"
  },
  "language_info": {
   "codemirror_mode": {
    "name": "ipython",
    "version": 3
   },
   "file_extension": ".py",
   "mimetype": "text/x-python",
   "name": "python",
   "nbconvert_exporter": "python",
   "pygments_lexer": "ipython3",
   "version": "3.8.3"
  }
 },
 "nbformat": 4,
 "nbformat_minor": 1
}
