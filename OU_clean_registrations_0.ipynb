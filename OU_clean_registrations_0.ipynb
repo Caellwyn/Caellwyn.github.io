{
 "cells": [
  {
   "cell_type": "code",
   "execution_count": 328,
   "metadata": {
    "id": "sMq4OLfXBl3i"
   },
   "outputs": [],
   "source": [
    "import pandas as pd\n",
    "import numpy as np\n",
    "import matplotlib.pyplot as plt\n",
    "import seaborn as sns\n",
    "%matplotlib inline"
   ]
  },
  {
   "cell_type": "markdown",
   "metadata": {
    "id": "zXkkRoBGCNaS"
   },
   "source": [
    "# Merge registrations, student info, and course info"
   ]
  },
  {
   "cell_type": "code",
   "execution_count": 329,
   "metadata": {
    "id": "OELaeIO1BzSv"
   },
   "outputs": [],
   "source": [
    "registrations = pd.read_csv('content/studentRegistration.csv')\n",
    "courseInfo = pd.read_csv('content/courses.csv')\n",
    "students = pd.read_csv('content/studentInfo.csv')\n",
    "vle = pd.read_csv('content/studentVle.csv')\n"
   ]
  },
  {
   "cell_type": "code",
   "execution_count": 330,
   "metadata": {
    "id": "cYoC35AII1Z3"
   },
   "outputs": [
    {
     "data": {
      "text/html": [
       "<div>\n",
       "<style scoped>\n",
       "    .dataframe tbody tr th:only-of-type {\n",
       "        vertical-align: middle;\n",
       "    }\n",
       "\n",
       "    .dataframe tbody tr th {\n",
       "        vertical-align: top;\n",
       "    }\n",
       "\n",
       "    .dataframe thead th {\n",
       "        text-align: right;\n",
       "    }\n",
       "</style>\n",
       "<table border=\"1\" class=\"dataframe\">\n",
       "  <thead>\n",
       "    <tr style=\"text-align: right;\">\n",
       "      <th></th>\n",
       "      <th>code_module</th>\n",
       "      <th>code_presentation</th>\n",
       "      <th>id_student</th>\n",
       "      <th>date_registration</th>\n",
       "      <th>date_unregistration</th>\n",
       "    </tr>\n",
       "  </thead>\n",
       "  <tbody>\n",
       "    <tr>\n",
       "      <th>0</th>\n",
       "      <td>AAA</td>\n",
       "      <td>2013J</td>\n",
       "      <td>11391</td>\n",
       "      <td>-159.0</td>\n",
       "      <td>NaN</td>\n",
       "    </tr>\n",
       "    <tr>\n",
       "      <th>1</th>\n",
       "      <td>AAA</td>\n",
       "      <td>2013J</td>\n",
       "      <td>28400</td>\n",
       "      <td>-53.0</td>\n",
       "      <td>NaN</td>\n",
       "    </tr>\n",
       "    <tr>\n",
       "      <th>2</th>\n",
       "      <td>AAA</td>\n",
       "      <td>2013J</td>\n",
       "      <td>30268</td>\n",
       "      <td>-92.0</td>\n",
       "      <td>12.0</td>\n",
       "    </tr>\n",
       "    <tr>\n",
       "      <th>3</th>\n",
       "      <td>AAA</td>\n",
       "      <td>2013J</td>\n",
       "      <td>31604</td>\n",
       "      <td>-52.0</td>\n",
       "      <td>NaN</td>\n",
       "    </tr>\n",
       "    <tr>\n",
       "      <th>4</th>\n",
       "      <td>AAA</td>\n",
       "      <td>2013J</td>\n",
       "      <td>32885</td>\n",
       "      <td>-176.0</td>\n",
       "      <td>NaN</td>\n",
       "    </tr>\n",
       "  </tbody>\n",
       "</table>\n",
       "</div>"
      ],
      "text/plain": [
       "  code_module code_presentation  id_student  date_registration  \\\n",
       "0         AAA             2013J       11391             -159.0   \n",
       "1         AAA             2013J       28400              -53.0   \n",
       "2         AAA             2013J       30268              -92.0   \n",
       "3         AAA             2013J       31604              -52.0   \n",
       "4         AAA             2013J       32885             -176.0   \n",
       "\n",
       "   date_unregistration  \n",
       "0                  NaN  \n",
       "1                  NaN  \n",
       "2                 12.0  \n",
       "3                  NaN  \n",
       "4                  NaN  "
      ]
     },
     "execution_count": 330,
     "metadata": {},
     "output_type": "execute_result"
    }
   ],
   "source": [
    "registrations.head()"
   ]
  },
  {
   "cell_type": "code",
   "execution_count": 331,
   "metadata": {
    "id": "tcxzgJSdJESy"
   },
   "outputs": [
    {
     "data": {
      "text/html": [
       "<div>\n",
       "<style scoped>\n",
       "    .dataframe tbody tr th:only-of-type {\n",
       "        vertical-align: middle;\n",
       "    }\n",
       "\n",
       "    .dataframe tbody tr th {\n",
       "        vertical-align: top;\n",
       "    }\n",
       "\n",
       "    .dataframe thead th {\n",
       "        text-align: right;\n",
       "    }\n",
       "</style>\n",
       "<table border=\"1\" class=\"dataframe\">\n",
       "  <thead>\n",
       "    <tr style=\"text-align: right;\">\n",
       "      <th></th>\n",
       "      <th>code_module</th>\n",
       "      <th>code_presentation</th>\n",
       "      <th>id_student</th>\n",
       "      <th>gender</th>\n",
       "      <th>region</th>\n",
       "      <th>highest_education</th>\n",
       "      <th>imd_band</th>\n",
       "      <th>age_band</th>\n",
       "      <th>num_of_prev_attempts</th>\n",
       "      <th>studied_credits</th>\n",
       "      <th>disability</th>\n",
       "      <th>final_result</th>\n",
       "    </tr>\n",
       "  </thead>\n",
       "  <tbody>\n",
       "    <tr>\n",
       "      <th>0</th>\n",
       "      <td>AAA</td>\n",
       "      <td>2013J</td>\n",
       "      <td>11391</td>\n",
       "      <td>M</td>\n",
       "      <td>East Anglian Region</td>\n",
       "      <td>HE Qualification</td>\n",
       "      <td>90-100%</td>\n",
       "      <td>55&lt;=</td>\n",
       "      <td>0</td>\n",
       "      <td>240</td>\n",
       "      <td>N</td>\n",
       "      <td>Pass</td>\n",
       "    </tr>\n",
       "    <tr>\n",
       "      <th>1</th>\n",
       "      <td>AAA</td>\n",
       "      <td>2013J</td>\n",
       "      <td>28400</td>\n",
       "      <td>F</td>\n",
       "      <td>Scotland</td>\n",
       "      <td>HE Qualification</td>\n",
       "      <td>20-30%</td>\n",
       "      <td>35-55</td>\n",
       "      <td>0</td>\n",
       "      <td>60</td>\n",
       "      <td>N</td>\n",
       "      <td>Pass</td>\n",
       "    </tr>\n",
       "    <tr>\n",
       "      <th>2</th>\n",
       "      <td>AAA</td>\n",
       "      <td>2013J</td>\n",
       "      <td>30268</td>\n",
       "      <td>F</td>\n",
       "      <td>North Western Region</td>\n",
       "      <td>A Level or Equivalent</td>\n",
       "      <td>30-40%</td>\n",
       "      <td>35-55</td>\n",
       "      <td>0</td>\n",
       "      <td>60</td>\n",
       "      <td>Y</td>\n",
       "      <td>Withdrawn</td>\n",
       "    </tr>\n",
       "    <tr>\n",
       "      <th>3</th>\n",
       "      <td>AAA</td>\n",
       "      <td>2013J</td>\n",
       "      <td>31604</td>\n",
       "      <td>F</td>\n",
       "      <td>South East Region</td>\n",
       "      <td>A Level or Equivalent</td>\n",
       "      <td>50-60%</td>\n",
       "      <td>35-55</td>\n",
       "      <td>0</td>\n",
       "      <td>60</td>\n",
       "      <td>N</td>\n",
       "      <td>Pass</td>\n",
       "    </tr>\n",
       "    <tr>\n",
       "      <th>4</th>\n",
       "      <td>AAA</td>\n",
       "      <td>2013J</td>\n",
       "      <td>32885</td>\n",
       "      <td>F</td>\n",
       "      <td>West Midlands Region</td>\n",
       "      <td>Lower Than A Level</td>\n",
       "      <td>50-60%</td>\n",
       "      <td>0-35</td>\n",
       "      <td>0</td>\n",
       "      <td>60</td>\n",
       "      <td>N</td>\n",
       "      <td>Pass</td>\n",
       "    </tr>\n",
       "  </tbody>\n",
       "</table>\n",
       "</div>"
      ],
      "text/plain": [
       "  code_module code_presentation  id_student gender                region  \\\n",
       "0         AAA             2013J       11391      M   East Anglian Region   \n",
       "1         AAA             2013J       28400      F              Scotland   \n",
       "2         AAA             2013J       30268      F  North Western Region   \n",
       "3         AAA             2013J       31604      F     South East Region   \n",
       "4         AAA             2013J       32885      F  West Midlands Region   \n",
       "\n",
       "       highest_education imd_band age_band  num_of_prev_attempts  \\\n",
       "0       HE Qualification  90-100%     55<=                     0   \n",
       "1       HE Qualification   20-30%    35-55                     0   \n",
       "2  A Level or Equivalent   30-40%    35-55                     0   \n",
       "3  A Level or Equivalent   50-60%    35-55                     0   \n",
       "4     Lower Than A Level   50-60%     0-35                     0   \n",
       "\n",
       "   studied_credits disability final_result  \n",
       "0              240          N         Pass  \n",
       "1               60          N         Pass  \n",
       "2               60          Y    Withdrawn  \n",
       "3               60          N         Pass  \n",
       "4               60          N         Pass  "
      ]
     },
     "execution_count": 331,
     "metadata": {},
     "output_type": "execute_result"
    }
   ],
   "source": [
    "students.head()"
   ]
  },
  {
   "cell_type": "markdown",
   "metadata": {
    "id": "jW6zefGlV9Wc"
   },
   "source": [
    "Check that studentInfo and StudentRegistration are 1:1 and merge tables"
   ]
  },
  {
   "cell_type": "code",
   "execution_count": 332,
   "metadata": {},
   "outputs": [
    {
     "data": {
      "text/plain": [
       "True"
      ]
     },
     "execution_count": 332,
     "metadata": {},
     "output_type": "execute_result"
    }
   ],
   "source": [
    "len(registrations) == len(students)"
   ]
  },
  {
   "cell_type": "code",
   "execution_count": 333,
   "metadata": {
    "id": "xA0pkMmoJeND"
   },
   "outputs": [],
   "source": [
    "full_registrations = pd.merge(students, registrations, \\\n",
    "                         on = ['code_module','code_presentation','id_student'], \\\n",
    "                         validate = 'one_to_one')"
   ]
  },
  {
   "cell_type": "code",
   "execution_count": 334,
   "metadata": {},
   "outputs": [
    {
     "data": {
      "text/html": [
       "<div>\n",
       "<style scoped>\n",
       "    .dataframe tbody tr th:only-of-type {\n",
       "        vertical-align: middle;\n",
       "    }\n",
       "\n",
       "    .dataframe tbody tr th {\n",
       "        vertical-align: top;\n",
       "    }\n",
       "\n",
       "    .dataframe thead th {\n",
       "        text-align: right;\n",
       "    }\n",
       "</style>\n",
       "<table border=\"1\" class=\"dataframe\">\n",
       "  <thead>\n",
       "    <tr style=\"text-align: right;\">\n",
       "      <th></th>\n",
       "      <th>code_module</th>\n",
       "      <th>code_presentation</th>\n",
       "      <th>id_student</th>\n",
       "      <th>gender</th>\n",
       "      <th>region</th>\n",
       "      <th>highest_education</th>\n",
       "      <th>imd_band</th>\n",
       "      <th>age_band</th>\n",
       "      <th>num_of_prev_attempts</th>\n",
       "      <th>studied_credits</th>\n",
       "      <th>disability</th>\n",
       "      <th>final_result</th>\n",
       "      <th>date_registration</th>\n",
       "      <th>date_unregistration</th>\n",
       "    </tr>\n",
       "  </thead>\n",
       "  <tbody>\n",
       "    <tr>\n",
       "      <th>0</th>\n",
       "      <td>AAA</td>\n",
       "      <td>2013J</td>\n",
       "      <td>11391</td>\n",
       "      <td>M</td>\n",
       "      <td>East Anglian Region</td>\n",
       "      <td>HE Qualification</td>\n",
       "      <td>90-100%</td>\n",
       "      <td>55&lt;=</td>\n",
       "      <td>0</td>\n",
       "      <td>240</td>\n",
       "      <td>N</td>\n",
       "      <td>Pass</td>\n",
       "      <td>-159.0</td>\n",
       "      <td>NaN</td>\n",
       "    </tr>\n",
       "    <tr>\n",
       "      <th>1</th>\n",
       "      <td>AAA</td>\n",
       "      <td>2013J</td>\n",
       "      <td>28400</td>\n",
       "      <td>F</td>\n",
       "      <td>Scotland</td>\n",
       "      <td>HE Qualification</td>\n",
       "      <td>20-30%</td>\n",
       "      <td>35-55</td>\n",
       "      <td>0</td>\n",
       "      <td>60</td>\n",
       "      <td>N</td>\n",
       "      <td>Pass</td>\n",
       "      <td>-53.0</td>\n",
       "      <td>NaN</td>\n",
       "    </tr>\n",
       "    <tr>\n",
       "      <th>2</th>\n",
       "      <td>AAA</td>\n",
       "      <td>2013J</td>\n",
       "      <td>30268</td>\n",
       "      <td>F</td>\n",
       "      <td>North Western Region</td>\n",
       "      <td>A Level or Equivalent</td>\n",
       "      <td>30-40%</td>\n",
       "      <td>35-55</td>\n",
       "      <td>0</td>\n",
       "      <td>60</td>\n",
       "      <td>Y</td>\n",
       "      <td>Withdrawn</td>\n",
       "      <td>-92.0</td>\n",
       "      <td>12.0</td>\n",
       "    </tr>\n",
       "    <tr>\n",
       "      <th>3</th>\n",
       "      <td>AAA</td>\n",
       "      <td>2013J</td>\n",
       "      <td>31604</td>\n",
       "      <td>F</td>\n",
       "      <td>South East Region</td>\n",
       "      <td>A Level or Equivalent</td>\n",
       "      <td>50-60%</td>\n",
       "      <td>35-55</td>\n",
       "      <td>0</td>\n",
       "      <td>60</td>\n",
       "      <td>N</td>\n",
       "      <td>Pass</td>\n",
       "      <td>-52.0</td>\n",
       "      <td>NaN</td>\n",
       "    </tr>\n",
       "    <tr>\n",
       "      <th>4</th>\n",
       "      <td>AAA</td>\n",
       "      <td>2013J</td>\n",
       "      <td>32885</td>\n",
       "      <td>F</td>\n",
       "      <td>West Midlands Region</td>\n",
       "      <td>Lower Than A Level</td>\n",
       "      <td>50-60%</td>\n",
       "      <td>0-35</td>\n",
       "      <td>0</td>\n",
       "      <td>60</td>\n",
       "      <td>N</td>\n",
       "      <td>Pass</td>\n",
       "      <td>-176.0</td>\n",
       "      <td>NaN</td>\n",
       "    </tr>\n",
       "  </tbody>\n",
       "</table>\n",
       "</div>"
      ],
      "text/plain": [
       "  code_module code_presentation  id_student gender                region  \\\n",
       "0         AAA             2013J       11391      M   East Anglian Region   \n",
       "1         AAA             2013J       28400      F              Scotland   \n",
       "2         AAA             2013J       30268      F  North Western Region   \n",
       "3         AAA             2013J       31604      F     South East Region   \n",
       "4         AAA             2013J       32885      F  West Midlands Region   \n",
       "\n",
       "       highest_education imd_band age_band  num_of_prev_attempts  \\\n",
       "0       HE Qualification  90-100%     55<=                     0   \n",
       "1       HE Qualification   20-30%    35-55                     0   \n",
       "2  A Level or Equivalent   30-40%    35-55                     0   \n",
       "3  A Level or Equivalent   50-60%    35-55                     0   \n",
       "4     Lower Than A Level   50-60%     0-35                     0   \n",
       "\n",
       "   studied_credits disability final_result  date_registration  \\\n",
       "0              240          N         Pass             -159.0   \n",
       "1               60          N         Pass              -53.0   \n",
       "2               60          Y    Withdrawn              -92.0   \n",
       "3               60          N         Pass              -52.0   \n",
       "4               60          N         Pass             -176.0   \n",
       "\n",
       "   date_unregistration  \n",
       "0                  NaN  \n",
       "1                  NaN  \n",
       "2                 12.0  \n",
       "3                  NaN  \n",
       "4                  NaN  "
      ]
     },
     "execution_count": 334,
     "metadata": {},
     "output_type": "execute_result"
    }
   ],
   "source": [
    "full_registrations.head()"
   ]
  },
  {
   "cell_type": "markdown",
   "metadata": {},
   "source": [
    "# Add course length to registration table"
   ]
  },
  {
   "cell_type": "code",
   "execution_count": 335,
   "metadata": {
    "id": "RCdma2_Pn62N"
   },
   "outputs": [
    {
     "data": {
      "text/html": [
       "<div>\n",
       "<style scoped>\n",
       "    .dataframe tbody tr th:only-of-type {\n",
       "        vertical-align: middle;\n",
       "    }\n",
       "\n",
       "    .dataframe tbody tr th {\n",
       "        vertical-align: top;\n",
       "    }\n",
       "\n",
       "    .dataframe thead th {\n",
       "        text-align: right;\n",
       "    }\n",
       "</style>\n",
       "<table border=\"1\" class=\"dataframe\">\n",
       "  <thead>\n",
       "    <tr style=\"text-align: right;\">\n",
       "      <th></th>\n",
       "      <th>code_module</th>\n",
       "      <th>code_presentation</th>\n",
       "      <th>module_presentation_length</th>\n",
       "    </tr>\n",
       "  </thead>\n",
       "  <tbody>\n",
       "    <tr>\n",
       "      <th>0</th>\n",
       "      <td>AAA</td>\n",
       "      <td>2013J</td>\n",
       "      <td>268</td>\n",
       "    </tr>\n",
       "    <tr>\n",
       "      <th>1</th>\n",
       "      <td>AAA</td>\n",
       "      <td>2014J</td>\n",
       "      <td>269</td>\n",
       "    </tr>\n",
       "    <tr>\n",
       "      <th>2</th>\n",
       "      <td>BBB</td>\n",
       "      <td>2013J</td>\n",
       "      <td>268</td>\n",
       "    </tr>\n",
       "    <tr>\n",
       "      <th>3</th>\n",
       "      <td>BBB</td>\n",
       "      <td>2014J</td>\n",
       "      <td>262</td>\n",
       "    </tr>\n",
       "    <tr>\n",
       "      <th>4</th>\n",
       "      <td>BBB</td>\n",
       "      <td>2013B</td>\n",
       "      <td>240</td>\n",
       "    </tr>\n",
       "  </tbody>\n",
       "</table>\n",
       "</div>"
      ],
      "text/plain": [
       "  code_module code_presentation  module_presentation_length\n",
       "0         AAA             2013J                         268\n",
       "1         AAA             2014J                         269\n",
       "2         BBB             2013J                         268\n",
       "3         BBB             2014J                         262\n",
       "4         BBB             2013B                         240"
      ]
     },
     "execution_count": 335,
     "metadata": {},
     "output_type": "execute_result"
    }
   ],
   "source": [
    "courseInfo.head()"
   ]
  },
  {
   "cell_type": "code",
   "execution_count": 336,
   "metadata": {
    "id": "dYHfLjETny17"
   },
   "outputs": [],
   "source": [
    "full_registrations = pd.merge(full_registrations, courseInfo, \\\n",
    "                         on=['code_module','code_presentation'], \\\n",
    "                         validate='many_to_one')"
   ]
  },
  {
   "cell_type": "code",
   "execution_count": 337,
   "metadata": {
    "id": "xUMlYo-uLQQk"
   },
   "outputs": [
    {
     "data": {
      "text/html": [
       "<div>\n",
       "<style scoped>\n",
       "    .dataframe tbody tr th:only-of-type {\n",
       "        vertical-align: middle;\n",
       "    }\n",
       "\n",
       "    .dataframe tbody tr th {\n",
       "        vertical-align: top;\n",
       "    }\n",
       "\n",
       "    .dataframe thead th {\n",
       "        text-align: right;\n",
       "    }\n",
       "</style>\n",
       "<table border=\"1\" class=\"dataframe\">\n",
       "  <thead>\n",
       "    <tr style=\"text-align: right;\">\n",
       "      <th></th>\n",
       "      <th>code_module</th>\n",
       "      <th>code_presentation</th>\n",
       "      <th>id_student</th>\n",
       "      <th>gender</th>\n",
       "      <th>region</th>\n",
       "      <th>highest_education</th>\n",
       "      <th>imd_band</th>\n",
       "      <th>age_band</th>\n",
       "      <th>num_of_prev_attempts</th>\n",
       "      <th>studied_credits</th>\n",
       "      <th>disability</th>\n",
       "      <th>final_result</th>\n",
       "      <th>date_registration</th>\n",
       "      <th>date_unregistration</th>\n",
       "      <th>module_presentation_length</th>\n",
       "    </tr>\n",
       "  </thead>\n",
       "  <tbody>\n",
       "    <tr>\n",
       "      <th>0</th>\n",
       "      <td>AAA</td>\n",
       "      <td>2013J</td>\n",
       "      <td>11391</td>\n",
       "      <td>M</td>\n",
       "      <td>East Anglian Region</td>\n",
       "      <td>HE Qualification</td>\n",
       "      <td>90-100%</td>\n",
       "      <td>55&lt;=</td>\n",
       "      <td>0</td>\n",
       "      <td>240</td>\n",
       "      <td>N</td>\n",
       "      <td>Pass</td>\n",
       "      <td>-159.0</td>\n",
       "      <td>NaN</td>\n",
       "      <td>268</td>\n",
       "    </tr>\n",
       "    <tr>\n",
       "      <th>1</th>\n",
       "      <td>AAA</td>\n",
       "      <td>2013J</td>\n",
       "      <td>28400</td>\n",
       "      <td>F</td>\n",
       "      <td>Scotland</td>\n",
       "      <td>HE Qualification</td>\n",
       "      <td>20-30%</td>\n",
       "      <td>35-55</td>\n",
       "      <td>0</td>\n",
       "      <td>60</td>\n",
       "      <td>N</td>\n",
       "      <td>Pass</td>\n",
       "      <td>-53.0</td>\n",
       "      <td>NaN</td>\n",
       "      <td>268</td>\n",
       "    </tr>\n",
       "    <tr>\n",
       "      <th>2</th>\n",
       "      <td>AAA</td>\n",
       "      <td>2013J</td>\n",
       "      <td>30268</td>\n",
       "      <td>F</td>\n",
       "      <td>North Western Region</td>\n",
       "      <td>A Level or Equivalent</td>\n",
       "      <td>30-40%</td>\n",
       "      <td>35-55</td>\n",
       "      <td>0</td>\n",
       "      <td>60</td>\n",
       "      <td>Y</td>\n",
       "      <td>Withdrawn</td>\n",
       "      <td>-92.0</td>\n",
       "      <td>12.0</td>\n",
       "      <td>268</td>\n",
       "    </tr>\n",
       "    <tr>\n",
       "      <th>3</th>\n",
       "      <td>AAA</td>\n",
       "      <td>2013J</td>\n",
       "      <td>31604</td>\n",
       "      <td>F</td>\n",
       "      <td>South East Region</td>\n",
       "      <td>A Level or Equivalent</td>\n",
       "      <td>50-60%</td>\n",
       "      <td>35-55</td>\n",
       "      <td>0</td>\n",
       "      <td>60</td>\n",
       "      <td>N</td>\n",
       "      <td>Pass</td>\n",
       "      <td>-52.0</td>\n",
       "      <td>NaN</td>\n",
       "      <td>268</td>\n",
       "    </tr>\n",
       "    <tr>\n",
       "      <th>4</th>\n",
       "      <td>AAA</td>\n",
       "      <td>2013J</td>\n",
       "      <td>32885</td>\n",
       "      <td>F</td>\n",
       "      <td>West Midlands Region</td>\n",
       "      <td>Lower Than A Level</td>\n",
       "      <td>50-60%</td>\n",
       "      <td>0-35</td>\n",
       "      <td>0</td>\n",
       "      <td>60</td>\n",
       "      <td>N</td>\n",
       "      <td>Pass</td>\n",
       "      <td>-176.0</td>\n",
       "      <td>NaN</td>\n",
       "      <td>268</td>\n",
       "    </tr>\n",
       "  </tbody>\n",
       "</table>\n",
       "</div>"
      ],
      "text/plain": [
       "  code_module code_presentation  id_student gender                region  \\\n",
       "0         AAA             2013J       11391      M   East Anglian Region   \n",
       "1         AAA             2013J       28400      F              Scotland   \n",
       "2         AAA             2013J       30268      F  North Western Region   \n",
       "3         AAA             2013J       31604      F     South East Region   \n",
       "4         AAA             2013J       32885      F  West Midlands Region   \n",
       "\n",
       "       highest_education imd_band age_band  num_of_prev_attempts  \\\n",
       "0       HE Qualification  90-100%     55<=                     0   \n",
       "1       HE Qualification   20-30%    35-55                     0   \n",
       "2  A Level or Equivalent   30-40%    35-55                     0   \n",
       "3  A Level or Equivalent   50-60%    35-55                     0   \n",
       "4     Lower Than A Level   50-60%     0-35                     0   \n",
       "\n",
       "   studied_credits disability final_result  date_registration  \\\n",
       "0              240          N         Pass             -159.0   \n",
       "1               60          N         Pass              -53.0   \n",
       "2               60          Y    Withdrawn              -92.0   \n",
       "3               60          N         Pass              -52.0   \n",
       "4               60          N         Pass             -176.0   \n",
       "\n",
       "   date_unregistration  module_presentation_length  \n",
       "0                  NaN                         268  \n",
       "1                  NaN                         268  \n",
       "2                 12.0                         268  \n",
       "3                  NaN                         268  \n",
       "4                  NaN                         268  "
      ]
     },
     "execution_count": 337,
     "metadata": {},
     "output_type": "execute_result"
    }
   ],
   "source": [
    "full_registrations.head()"
   ]
  },
  {
   "cell_type": "markdown",
   "metadata": {
    "id": "YyAZHGFGWKVa"
   },
   "source": [
    "# Dealing with missing data"
   ]
  },
  {
   "cell_type": "code",
   "execution_count": 338,
   "metadata": {
    "id": "PrL2s8XGPeGX"
   },
   "outputs": [
    {
     "name": "stdout",
     "output_type": "stream",
     "text": [
      "<class 'pandas.core.frame.DataFrame'>\n",
      "Int64Index: 32593 entries, 0 to 32592\n",
      "Data columns (total 15 columns):\n",
      " #   Column                      Non-Null Count  Dtype  \n",
      "---  ------                      --------------  -----  \n",
      " 0   code_module                 32593 non-null  object \n",
      " 1   code_presentation           32593 non-null  object \n",
      " 2   id_student                  32593 non-null  int64  \n",
      " 3   gender                      32593 non-null  object \n",
      " 4   region                      32593 non-null  object \n",
      " 5   highest_education           32593 non-null  object \n",
      " 6   imd_band                    31482 non-null  object \n",
      " 7   age_band                    32593 non-null  object \n",
      " 8   num_of_prev_attempts        32593 non-null  int64  \n",
      " 9   studied_credits             32593 non-null  int64  \n",
      " 10  disability                  32593 non-null  object \n",
      " 11  final_result                32593 non-null  object \n",
      " 12  date_registration           32548 non-null  float64\n",
      " 13  date_unregistration         10072 non-null  float64\n",
      " 14  module_presentation_length  32593 non-null  int64  \n",
      "dtypes: float64(2), int64(4), object(9)\n",
      "memory usage: 4.0+ MB\n"
     ]
    }
   ],
   "source": [
    "full_registrations.info()"
   ]
  },
  {
   "cell_type": "markdown",
   "metadata": {
    "id": "56DPaSnKWROt"
   },
   "source": [
    "Drop entries missing registration date information.  We need registration information later to get statistics on activities."
   ]
  },
  {
   "cell_type": "code",
   "execution_count": 339,
   "metadata": {
    "id": "PAnHVNtxWQp7"
   },
   "outputs": [],
   "source": [
    "full_registrations.dropna(subset=['date_registration'], inplace=True)"
   ]
  },
  {
   "cell_type": "markdown",
   "metadata": {},
   "source": [
    "We want this model to be generalizable to countries outside of the UK, so we have to drop information that is not translatable to other countries.  This includes IMD band and regions, since those are very nation specific."
   ]
  },
  {
   "cell_type": "code",
   "execution_count": 340,
   "metadata": {
    "id": "5Ehb2oo_sHXR"
   },
   "outputs": [],
   "source": [
    "full_registrations.drop(columns=['imd_band','region', 'studied_credits'], inplace=True)"
   ]
  },
  {
   "cell_type": "markdown",
   "metadata": {},
   "source": [
    "Our next big source of missing data is `date_unregistration`.  This is actually meaningful because those NaNs represent students who completed the course.  However, those are going to cause us problems in the future and we need to get some kind of data there.  It makes sense to me to say that the date of unregistration for students completing the course is the date of the end of the course.  We aren't losing any information because our assumption is that all of the students with a value in the `date_unregistration` also have 'withdrawn' in the `final_result` column.  Let's check these assumptions and fill in the NaNs."
   ]
  },
  {
   "cell_type": "code",
   "execution_count": 341,
   "metadata": {},
   "outputs": [
    {
     "data": {
      "text/plain": [
       "Withdrawn    10024\n",
       "Fail             9\n",
       "Name: final_result, dtype: int64"
      ]
     },
     "execution_count": 341,
     "metadata": {},
     "output_type": "execute_result"
    }
   ],
   "source": [
    "full_registrations[full_registrations['date_unregistration'].isna() != True]['final_result'].value_counts()"
   ]
  },
  {
   "cell_type": "markdown",
   "metadata": {},
   "source": [
    "That's unexpected, we have 9 results that are not withdrawn, but are 'Fail' instead.  Let's inspect those."
   ]
  },
  {
   "cell_type": "code",
   "execution_count": 342,
   "metadata": {},
   "outputs": [
    {
     "data": {
      "text/html": [
       "<div>\n",
       "<style scoped>\n",
       "    .dataframe tbody tr th:only-of-type {\n",
       "        vertical-align: middle;\n",
       "    }\n",
       "\n",
       "    .dataframe tbody tr th {\n",
       "        vertical-align: top;\n",
       "    }\n",
       "\n",
       "    .dataframe thead th {\n",
       "        text-align: right;\n",
       "    }\n",
       "</style>\n",
       "<table border=\"1\" class=\"dataframe\">\n",
       "  <thead>\n",
       "    <tr style=\"text-align: right;\">\n",
       "      <th></th>\n",
       "      <th>code_module</th>\n",
       "      <th>code_presentation</th>\n",
       "      <th>id_student</th>\n",
       "      <th>gender</th>\n",
       "      <th>highest_education</th>\n",
       "      <th>age_band</th>\n",
       "      <th>num_of_prev_attempts</th>\n",
       "      <th>disability</th>\n",
       "      <th>final_result</th>\n",
       "      <th>date_registration</th>\n",
       "      <th>date_unregistration</th>\n",
       "      <th>module_presentation_length</th>\n",
       "    </tr>\n",
       "  </thead>\n",
       "  <tbody>\n",
       "    <tr>\n",
       "      <th>2777</th>\n",
       "      <td>BBB</td>\n",
       "      <td>2013J</td>\n",
       "      <td>362907</td>\n",
       "      <td>F</td>\n",
       "      <td>Lower Than A Level</td>\n",
       "      <td>35-55</td>\n",
       "      <td>2</td>\n",
       "      <td>N</td>\n",
       "      <td>Fail</td>\n",
       "      <td>-37.0</td>\n",
       "      <td>0.0</td>\n",
       "      <td>268</td>\n",
       "    </tr>\n",
       "    <tr>\n",
       "      <th>2786</th>\n",
       "      <td>BBB</td>\n",
       "      <td>2013J</td>\n",
       "      <td>365288</td>\n",
       "      <td>F</td>\n",
       "      <td>A Level or Equivalent</td>\n",
       "      <td>0-35</td>\n",
       "      <td>0</td>\n",
       "      <td>N</td>\n",
       "      <td>Fail</td>\n",
       "      <td>-75.0</td>\n",
       "      <td>0.0</td>\n",
       "      <td>268</td>\n",
       "    </tr>\n",
       "    <tr>\n",
       "      <th>3340</th>\n",
       "      <td>BBB</td>\n",
       "      <td>2013J</td>\n",
       "      <td>554243</td>\n",
       "      <td>F</td>\n",
       "      <td>Lower Than A Level</td>\n",
       "      <td>0-35</td>\n",
       "      <td>0</td>\n",
       "      <td>N</td>\n",
       "      <td>Fail</td>\n",
       "      <td>-35.0</td>\n",
       "      <td>166.0</td>\n",
       "      <td>268</td>\n",
       "    </tr>\n",
       "    <tr>\n",
       "      <th>14625</th>\n",
       "      <td>DDD</td>\n",
       "      <td>2013J</td>\n",
       "      <td>315082</td>\n",
       "      <td>M</td>\n",
       "      <td>A Level or Equivalent</td>\n",
       "      <td>0-35</td>\n",
       "      <td>0</td>\n",
       "      <td>N</td>\n",
       "      <td>Fail</td>\n",
       "      <td>-73.0</td>\n",
       "      <td>0.0</td>\n",
       "      <td>261</td>\n",
       "    </tr>\n",
       "    <tr>\n",
       "      <th>14768</th>\n",
       "      <td>DDD</td>\n",
       "      <td>2013J</td>\n",
       "      <td>403052</td>\n",
       "      <td>F</td>\n",
       "      <td>HE Qualification</td>\n",
       "      <td>0-35</td>\n",
       "      <td>0</td>\n",
       "      <td>N</td>\n",
       "      <td>Fail</td>\n",
       "      <td>-22.0</td>\n",
       "      <td>0.0</td>\n",
       "      <td>261</td>\n",
       "    </tr>\n",
       "    <tr>\n",
       "      <th>15577</th>\n",
       "      <td>DDD</td>\n",
       "      <td>2013J</td>\n",
       "      <td>582954</td>\n",
       "      <td>M</td>\n",
       "      <td>Lower Than A Level</td>\n",
       "      <td>0-35</td>\n",
       "      <td>0</td>\n",
       "      <td>N</td>\n",
       "      <td>Fail</td>\n",
       "      <td>-81.0</td>\n",
       "      <td>-7.0</td>\n",
       "      <td>261</td>\n",
       "    </tr>\n",
       "    <tr>\n",
       "      <th>24057</th>\n",
       "      <td>FFF</td>\n",
       "      <td>2013J</td>\n",
       "      <td>234004</td>\n",
       "      <td>M</td>\n",
       "      <td>A Level or Equivalent</td>\n",
       "      <td>0-35</td>\n",
       "      <td>0</td>\n",
       "      <td>N</td>\n",
       "      <td>Fail</td>\n",
       "      <td>-33.0</td>\n",
       "      <td>0.0</td>\n",
       "      <td>268</td>\n",
       "    </tr>\n",
       "    <tr>\n",
       "      <th>24537</th>\n",
       "      <td>FFF</td>\n",
       "      <td>2013J</td>\n",
       "      <td>523777</td>\n",
       "      <td>M</td>\n",
       "      <td>A Level or Equivalent</td>\n",
       "      <td>35-55</td>\n",
       "      <td>1</td>\n",
       "      <td>N</td>\n",
       "      <td>Fail</td>\n",
       "      <td>-60.0</td>\n",
       "      <td>0.0</td>\n",
       "      <td>268</td>\n",
       "    </tr>\n",
       "    <tr>\n",
       "      <th>25685</th>\n",
       "      <td>FFF</td>\n",
       "      <td>2013J</td>\n",
       "      <td>601640</td>\n",
       "      <td>M</td>\n",
       "      <td>HE Qualification</td>\n",
       "      <td>0-35</td>\n",
       "      <td>0</td>\n",
       "      <td>N</td>\n",
       "      <td>Fail</td>\n",
       "      <td>-58.0</td>\n",
       "      <td>-4.0</td>\n",
       "      <td>268</td>\n",
       "    </tr>\n",
       "  </tbody>\n",
       "</table>\n",
       "</div>"
      ],
      "text/plain": [
       "      code_module code_presentation  id_student gender      highest_education  \\\n",
       "2777          BBB             2013J      362907      F     Lower Than A Level   \n",
       "2786          BBB             2013J      365288      F  A Level or Equivalent   \n",
       "3340          BBB             2013J      554243      F     Lower Than A Level   \n",
       "14625         DDD             2013J      315082      M  A Level or Equivalent   \n",
       "14768         DDD             2013J      403052      F       HE Qualification   \n",
       "15577         DDD             2013J      582954      M     Lower Than A Level   \n",
       "24057         FFF             2013J      234004      M  A Level or Equivalent   \n",
       "24537         FFF             2013J      523777      M  A Level or Equivalent   \n",
       "25685         FFF             2013J      601640      M       HE Qualification   \n",
       "\n",
       "      age_band  num_of_prev_attempts disability final_result  \\\n",
       "2777     35-55                     2          N         Fail   \n",
       "2786      0-35                     0          N         Fail   \n",
       "3340      0-35                     0          N         Fail   \n",
       "14625     0-35                     0          N         Fail   \n",
       "14768     0-35                     0          N         Fail   \n",
       "15577     0-35                     0          N         Fail   \n",
       "24057     0-35                     0          N         Fail   \n",
       "24537    35-55                     1          N         Fail   \n",
       "25685     0-35                     0          N         Fail   \n",
       "\n",
       "       date_registration  date_unregistration  module_presentation_length  \n",
       "2777               -37.0                  0.0                         268  \n",
       "2786               -75.0                  0.0                         268  \n",
       "3340               -35.0                166.0                         268  \n",
       "14625              -73.0                  0.0                         261  \n",
       "14768              -22.0                  0.0                         261  \n",
       "15577              -81.0                 -7.0                         261  \n",
       "24057              -33.0                  0.0                         268  \n",
       "24537              -60.0                  0.0                         268  \n",
       "25685              -58.0                 -4.0                         268  "
      ]
     },
     "execution_count": 342,
     "metadata": {},
     "output_type": "execute_result"
    }
   ],
   "source": [
    "full_registrations[(full_registrations['date_unregistration'].isna() != True) \\\n",
    "                   & (full_registrations['final_result'] == 'Fail')]"
   ]
  },
  {
   "cell_type": "code",
   "execution_count": 343,
   "metadata": {},
   "outputs": [
    {
     "name": "stdout",
     "output_type": "stream",
     "text": [
      "<class 'pandas.core.frame.DataFrame'>\n",
      "Int64Index: 32548 entries, 0 to 32592\n",
      "Data columns (total 12 columns):\n",
      " #   Column                      Non-Null Count  Dtype  \n",
      "---  ------                      --------------  -----  \n",
      " 0   code_module                 32548 non-null  object \n",
      " 1   code_presentation           32548 non-null  object \n",
      " 2   id_student                  32548 non-null  int64  \n",
      " 3   gender                      32548 non-null  object \n",
      " 4   highest_education           32548 non-null  object \n",
      " 5   age_band                    32548 non-null  object \n",
      " 6   num_of_prev_attempts        32548 non-null  int64  \n",
      " 7   disability                  32548 non-null  object \n",
      " 8   final_result                32548 non-null  object \n",
      " 9   date_registration           32548 non-null  float64\n",
      " 10  date_unregistration         10033 non-null  float64\n",
      " 11  module_presentation_length  32548 non-null  int64  \n",
      "dtypes: float64(2), int64(3), object(7)\n",
      "memory usage: 3.2+ MB\n"
     ]
    }
   ],
   "source": [
    "full_registrations.info()"
   ]
  },
  {
   "cell_type": "markdown",
   "metadata": {},
   "source": [
    "These look strange, and there are only 9 of them.  I'll drop them.  It's possible that the 0.0s are supposed to be NaNs, but I'm not sure.  We don't lose much data this way."
   ]
  },
  {
   "cell_type": "code",
   "execution_count": 344,
   "metadata": {},
   "outputs": [],
   "source": [
    "full_registrations = full_registrations[(full_registrations['date_unregistration'].isna()) \\\n",
    "                                        | (full_registrations['final_result'] == 'Withdrawn')]"
   ]
  },
  {
   "cell_type": "code",
   "execution_count": 345,
   "metadata": {},
   "outputs": [
    {
     "name": "stdout",
     "output_type": "stream",
     "text": [
      "<class 'pandas.core.frame.DataFrame'>\n",
      "Int64Index: 32539 entries, 0 to 32592\n",
      "Data columns (total 12 columns):\n",
      " #   Column                      Non-Null Count  Dtype  \n",
      "---  ------                      --------------  -----  \n",
      " 0   code_module                 32539 non-null  object \n",
      " 1   code_presentation           32539 non-null  object \n",
      " 2   id_student                  32539 non-null  int64  \n",
      " 3   gender                      32539 non-null  object \n",
      " 4   highest_education           32539 non-null  object \n",
      " 5   age_band                    32539 non-null  object \n",
      " 6   num_of_prev_attempts        32539 non-null  int64  \n",
      " 7   disability                  32539 non-null  object \n",
      " 8   final_result                32539 non-null  object \n",
      " 9   date_registration           32539 non-null  float64\n",
      " 10  date_unregistration         10024 non-null  float64\n",
      " 11  module_presentation_length  32539 non-null  int64  \n",
      "dtypes: float64(2), int64(3), object(7)\n",
      "memory usage: 3.2+ MB\n"
     ]
    }
   ],
   "source": [
    "full_registrations.info()"
   ]
  },
  {
   "cell_type": "markdown",
   "metadata": {},
   "source": [
    "Okay, now we have one-to-one correspondence with unregistration dates and 'Withdrawn' status.  We can fill in the rest of NaNs in the unregistration column with the course ending date."
   ]
  },
  {
   "cell_type": "code",
   "execution_count": 346,
   "metadata": {},
   "outputs": [],
   "source": [
    "full_registrations['date_unregistration'].fillna(full_registrations['module_presentation_length'], \\\n",
    "                                                inplace = True)"
   ]
  },
  {
   "cell_type": "code",
   "execution_count": 347,
   "metadata": {},
   "outputs": [
    {
     "data": {
      "text/plain": [
       "code_module                   0\n",
       "code_presentation             0\n",
       "id_student                    0\n",
       "gender                        0\n",
       "highest_education             0\n",
       "age_band                      0\n",
       "num_of_prev_attempts          0\n",
       "disability                    0\n",
       "final_result                  0\n",
       "date_registration             0\n",
       "date_unregistration           0\n",
       "module_presentation_length    0\n",
       "dtype: int64"
      ]
     },
     "execution_count": 347,
     "metadata": {},
     "output_type": "execute_result"
    }
   ],
   "source": [
    "full_registrations.isna().sum()"
   ]
  },
  {
   "cell_type": "markdown",
   "metadata": {},
   "source": [
    "# Data Validation"
   ]
  },
  {
   "cell_type": "code",
   "execution_count": 348,
   "metadata": {},
   "outputs": [
    {
     "data": {
      "text/html": [
       "<div>\n",
       "<style scoped>\n",
       "    .dataframe tbody tr th:only-of-type {\n",
       "        vertical-align: middle;\n",
       "    }\n",
       "\n",
       "    .dataframe tbody tr th {\n",
       "        vertical-align: top;\n",
       "    }\n",
       "\n",
       "    .dataframe thead th {\n",
       "        text-align: right;\n",
       "    }\n",
       "</style>\n",
       "<table border=\"1\" class=\"dataframe\">\n",
       "  <thead>\n",
       "    <tr style=\"text-align: right;\">\n",
       "      <th></th>\n",
       "      <th>id_student</th>\n",
       "      <th>num_of_prev_attempts</th>\n",
       "      <th>date_registration</th>\n",
       "      <th>date_unregistration</th>\n",
       "      <th>module_presentation_length</th>\n",
       "    </tr>\n",
       "  </thead>\n",
       "  <tbody>\n",
       "    <tr>\n",
       "      <th>count</th>\n",
       "      <td>3.253900e+04</td>\n",
       "      <td>32539.000000</td>\n",
       "      <td>32539.000000</td>\n",
       "      <td>32539.000000</td>\n",
       "      <td>32539.000000</td>\n",
       "    </tr>\n",
       "    <tr>\n",
       "      <th>mean</th>\n",
       "      <td>7.062476e+05</td>\n",
       "      <td>0.163097</td>\n",
       "      <td>-69.415932</td>\n",
       "      <td>192.701681</td>\n",
       "      <td>256.015428</td>\n",
       "    </tr>\n",
       "    <tr>\n",
       "      <th>std</th>\n",
       "      <td>5.484403e+05</td>\n",
       "      <td>0.479381</td>\n",
       "      <td>49.265399</td>\n",
       "      <td>105.929137</td>\n",
       "      <td>13.178156</td>\n",
       "    </tr>\n",
       "    <tr>\n",
       "      <th>min</th>\n",
       "      <td>3.733000e+03</td>\n",
       "      <td>0.000000</td>\n",
       "      <td>-322.000000</td>\n",
       "      <td>-317.000000</td>\n",
       "      <td>234.000000</td>\n",
       "    </tr>\n",
       "    <tr>\n",
       "      <th>25%</th>\n",
       "      <td>5.085835e+05</td>\n",
       "      <td>0.000000</td>\n",
       "      <td>-101.000000</td>\n",
       "      <td>136.000000</td>\n",
       "      <td>241.000000</td>\n",
       "    </tr>\n",
       "    <tr>\n",
       "      <th>50%</th>\n",
       "      <td>5.902510e+05</td>\n",
       "      <td>0.000000</td>\n",
       "      <td>-57.000000</td>\n",
       "      <td>241.000000</td>\n",
       "      <td>262.000000</td>\n",
       "    </tr>\n",
       "    <tr>\n",
       "      <th>75%</th>\n",
       "      <td>6.444230e+05</td>\n",
       "      <td>0.000000</td>\n",
       "      <td>-29.000000</td>\n",
       "      <td>268.000000</td>\n",
       "      <td>268.000000</td>\n",
       "    </tr>\n",
       "    <tr>\n",
       "      <th>max</th>\n",
       "      <td>2.698591e+06</td>\n",
       "      <td>6.000000</td>\n",
       "      <td>167.000000</td>\n",
       "      <td>444.000000</td>\n",
       "      <td>269.000000</td>\n",
       "    </tr>\n",
       "  </tbody>\n",
       "</table>\n",
       "</div>"
      ],
      "text/plain": [
       "         id_student  num_of_prev_attempts  date_registration  \\\n",
       "count  3.253900e+04          32539.000000       32539.000000   \n",
       "mean   7.062476e+05              0.163097         -69.415932   \n",
       "std    5.484403e+05              0.479381          49.265399   \n",
       "min    3.733000e+03              0.000000        -322.000000   \n",
       "25%    5.085835e+05              0.000000        -101.000000   \n",
       "50%    5.902510e+05              0.000000         -57.000000   \n",
       "75%    6.444230e+05              0.000000         -29.000000   \n",
       "max    2.698591e+06              6.000000         167.000000   \n",
       "\n",
       "       date_unregistration  module_presentation_length  \n",
       "count         32539.000000                32539.000000  \n",
       "mean            192.701681                  256.015428  \n",
       "std             105.929137                   13.178156  \n",
       "min            -317.000000                  234.000000  \n",
       "25%             136.000000                  241.000000  \n",
       "50%             241.000000                  262.000000  \n",
       "75%             268.000000                  268.000000  \n",
       "max             444.000000                  269.000000  "
      ]
     },
     "execution_count": 348,
     "metadata": {},
     "output_type": "execute_result"
    }
   ],
   "source": [
    "full_registrations.describe()"
   ]
  },
  {
   "cell_type": "markdown",
   "metadata": {
    "id": "8wZrHFNXWhI9"
   },
   "source": [
    "Registrations seem to begin up to 322 days before the start of presentations.  However, when I contacted Online University, they suggested that registrations for a presentation began about 6 months before the presentation began.  Let's see how many registrations we have before that mark.  We will give a little."
   ]
  },
  {
   "cell_type": "code",
   "execution_count": 349,
   "metadata": {
    "id": "TaB2NuSflW_j"
   },
   "outputs": [],
   "source": [
    "early_reg = full_registrations[full_registrations['date_registration'] < -180]"
   ]
  },
  {
   "cell_type": "code",
   "execution_count": 350,
   "metadata": {},
   "outputs": [
    {
     "name": "stdout",
     "output_type": "stream",
     "text": [
      "<class 'pandas.core.frame.DataFrame'>\n",
      "Int64Index: 795 entries, 41 to 31210\n",
      "Data columns (total 12 columns):\n",
      " #   Column                      Non-Null Count  Dtype  \n",
      "---  ------                      --------------  -----  \n",
      " 0   code_module                 795 non-null    object \n",
      " 1   code_presentation           795 non-null    object \n",
      " 2   id_student                  795 non-null    int64  \n",
      " 3   gender                      795 non-null    object \n",
      " 4   highest_education           795 non-null    object \n",
      " 5   age_band                    795 non-null    object \n",
      " 6   num_of_prev_attempts        795 non-null    int64  \n",
      " 7   disability                  795 non-null    object \n",
      " 8   final_result                795 non-null    object \n",
      " 9   date_registration           795 non-null    float64\n",
      " 10  date_unregistration         795 non-null    float64\n",
      " 11  module_presentation_length  795 non-null    int64  \n",
      "dtypes: float64(2), int64(3), object(7)\n",
      "memory usage: 80.7+ KB\n"
     ]
    }
   ],
   "source": [
    "early_reg.info()"
   ]
  },
  {
   "cell_type": "code",
   "execution_count": 351,
   "metadata": {},
   "outputs": [
    {
     "data": {
      "text/html": [
       "<div>\n",
       "<style scoped>\n",
       "    .dataframe tbody tr th:only-of-type {\n",
       "        vertical-align: middle;\n",
       "    }\n",
       "\n",
       "    .dataframe tbody tr th {\n",
       "        vertical-align: top;\n",
       "    }\n",
       "\n",
       "    .dataframe thead th {\n",
       "        text-align: right;\n",
       "    }\n",
       "</style>\n",
       "<table border=\"1\" class=\"dataframe\">\n",
       "  <thead>\n",
       "    <tr style=\"text-align: right;\">\n",
       "      <th></th>\n",
       "      <th>id_student</th>\n",
       "      <th>num_of_prev_attempts</th>\n",
       "      <th>date_registration</th>\n",
       "      <th>date_unregistration</th>\n",
       "      <th>module_presentation_length</th>\n",
       "    </tr>\n",
       "  </thead>\n",
       "  <tbody>\n",
       "    <tr>\n",
       "      <th>count</th>\n",
       "      <td>7.950000e+02</td>\n",
       "      <td>795.000000</td>\n",
       "      <td>795.000000</td>\n",
       "      <td>795.000000</td>\n",
       "      <td>795.000000</td>\n",
       "    </tr>\n",
       "    <tr>\n",
       "      <th>mean</th>\n",
       "      <td>7.193101e+05</td>\n",
       "      <td>0.210063</td>\n",
       "      <td>-215.651572</td>\n",
       "      <td>131.596226</td>\n",
       "      <td>249.979874</td>\n",
       "    </tr>\n",
       "    <tr>\n",
       "      <th>std</th>\n",
       "      <td>6.314819e+05</td>\n",
       "      <td>0.572149</td>\n",
       "      <td>33.805200</td>\n",
       "      <td>149.327912</td>\n",
       "      <td>12.520697</td>\n",
       "    </tr>\n",
       "    <tr>\n",
       "      <th>min</th>\n",
       "      <td>2.363200e+04</td>\n",
       "      <td>0.000000</td>\n",
       "      <td>-322.000000</td>\n",
       "      <td>-317.000000</td>\n",
       "      <td>234.000000</td>\n",
       "    </tr>\n",
       "    <tr>\n",
       "      <th>25%</th>\n",
       "      <td>4.356525e+05</td>\n",
       "      <td>0.000000</td>\n",
       "      <td>-233.500000</td>\n",
       "      <td>0.000000</td>\n",
       "      <td>241.000000</td>\n",
       "    </tr>\n",
       "    <tr>\n",
       "      <th>50%</th>\n",
       "      <td>5.632300e+05</td>\n",
       "      <td>0.000000</td>\n",
       "      <td>-200.000000</td>\n",
       "      <td>234.000000</td>\n",
       "      <td>241.000000</td>\n",
       "    </tr>\n",
       "    <tr>\n",
       "      <th>75%</th>\n",
       "      <td>5.870625e+05</td>\n",
       "      <td>0.000000</td>\n",
       "      <td>-191.000000</td>\n",
       "      <td>241.000000</td>\n",
       "      <td>261.000000</td>\n",
       "    </tr>\n",
       "    <tr>\n",
       "      <th>max</th>\n",
       "      <td>2.697181e+06</td>\n",
       "      <td>4.000000</td>\n",
       "      <td>-181.000000</td>\n",
       "      <td>268.000000</td>\n",
       "      <td>268.000000</td>\n",
       "    </tr>\n",
       "  </tbody>\n",
       "</table>\n",
       "</div>"
      ],
      "text/plain": [
       "         id_student  num_of_prev_attempts  date_registration  \\\n",
       "count  7.950000e+02            795.000000         795.000000   \n",
       "mean   7.193101e+05              0.210063        -215.651572   \n",
       "std    6.314819e+05              0.572149          33.805200   \n",
       "min    2.363200e+04              0.000000        -322.000000   \n",
       "25%    4.356525e+05              0.000000        -233.500000   \n",
       "50%    5.632300e+05              0.000000        -200.000000   \n",
       "75%    5.870625e+05              0.000000        -191.000000   \n",
       "max    2.697181e+06              4.000000        -181.000000   \n",
       "\n",
       "       date_unregistration  module_presentation_length  \n",
       "count           795.000000                  795.000000  \n",
       "mean            131.596226                  249.979874  \n",
       "std             149.327912                   12.520697  \n",
       "min            -317.000000                  234.000000  \n",
       "25%               0.000000                  241.000000  \n",
       "50%             234.000000                  241.000000  \n",
       "75%             241.000000                  261.000000  \n",
       "max             268.000000                  268.000000  "
      ]
     },
     "execution_count": 351,
     "metadata": {},
     "output_type": "execute_result"
    }
   ],
   "source": [
    "early_reg.describe()"
   ]
  },
  {
   "cell_type": "markdown",
   "metadata": {},
   "source": [
    "There are only about 800 who registered more than 6 months before the presentation start, and most of those registered less than 7 months before the start.  We will drop those registered more than 7 months before the course start, since those earlier registrations seem fishy."
   ]
  },
  {
   "cell_type": "code",
   "execution_count": 352,
   "metadata": {},
   "outputs": [
    {
     "data": {
      "text/html": [
       "<div>\n",
       "<style scoped>\n",
       "    .dataframe tbody tr th:only-of-type {\n",
       "        vertical-align: middle;\n",
       "    }\n",
       "\n",
       "    .dataframe tbody tr th {\n",
       "        vertical-align: top;\n",
       "    }\n",
       "\n",
       "    .dataframe thead th {\n",
       "        text-align: right;\n",
       "    }\n",
       "</style>\n",
       "<table border=\"1\" class=\"dataframe\">\n",
       "  <thead>\n",
       "    <tr style=\"text-align: right;\">\n",
       "      <th></th>\n",
       "      <th>id_student</th>\n",
       "      <th>num_of_prev_attempts</th>\n",
       "      <th>date_registration</th>\n",
       "      <th>date_unregistration</th>\n",
       "      <th>module_presentation_length</th>\n",
       "    </tr>\n",
       "  </thead>\n",
       "  <tbody>\n",
       "    <tr>\n",
       "      <th>count</th>\n",
       "      <td>3.222600e+04</td>\n",
       "      <td>32226.000000</td>\n",
       "      <td>32226.000000</td>\n",
       "      <td>32226.000000</td>\n",
       "      <td>32226.000000</td>\n",
       "    </tr>\n",
       "    <tr>\n",
       "      <th>mean</th>\n",
       "      <td>7.060095e+05</td>\n",
       "      <td>0.162819</td>\n",
       "      <td>-67.658723</td>\n",
       "      <td>193.562031</td>\n",
       "      <td>256.170825</td>\n",
       "    </tr>\n",
       "    <tr>\n",
       "      <th>std</th>\n",
       "      <td>5.473994e+05</td>\n",
       "      <td>0.478512</td>\n",
       "      <td>46.060061</td>\n",
       "      <td>104.965323</td>\n",
       "      <td>13.145075</td>\n",
       "    </tr>\n",
       "    <tr>\n",
       "      <th>min</th>\n",
       "      <td>3.733000e+03</td>\n",
       "      <td>0.000000</td>\n",
       "      <td>-209.000000</td>\n",
       "      <td>-206.000000</td>\n",
       "      <td>234.000000</td>\n",
       "    </tr>\n",
       "    <tr>\n",
       "      <th>25%</th>\n",
       "      <td>5.091090e+05</td>\n",
       "      <td>0.000000</td>\n",
       "      <td>-99.000000</td>\n",
       "      <td>138.000000</td>\n",
       "      <td>241.000000</td>\n",
       "    </tr>\n",
       "    <tr>\n",
       "      <th>50%</th>\n",
       "      <td>5.908260e+05</td>\n",
       "      <td>0.000000</td>\n",
       "      <td>-56.000000</td>\n",
       "      <td>241.000000</td>\n",
       "      <td>262.000000</td>\n",
       "    </tr>\n",
       "    <tr>\n",
       "      <th>75%</th>\n",
       "      <td>6.448438e+05</td>\n",
       "      <td>0.000000</td>\n",
       "      <td>-29.000000</td>\n",
       "      <td>268.000000</td>\n",
       "      <td>268.000000</td>\n",
       "    </tr>\n",
       "    <tr>\n",
       "      <th>max</th>\n",
       "      <td>2.698591e+06</td>\n",
       "      <td>6.000000</td>\n",
       "      <td>167.000000</td>\n",
       "      <td>444.000000</td>\n",
       "      <td>269.000000</td>\n",
       "    </tr>\n",
       "  </tbody>\n",
       "</table>\n",
       "</div>"
      ],
      "text/plain": [
       "         id_student  num_of_prev_attempts  date_registration  \\\n",
       "count  3.222600e+04          32226.000000       32226.000000   \n",
       "mean   7.060095e+05              0.162819         -67.658723   \n",
       "std    5.473994e+05              0.478512          46.060061   \n",
       "min    3.733000e+03              0.000000        -209.000000   \n",
       "25%    5.091090e+05              0.000000         -99.000000   \n",
       "50%    5.908260e+05              0.000000         -56.000000   \n",
       "75%    6.448438e+05              0.000000         -29.000000   \n",
       "max    2.698591e+06              6.000000         167.000000   \n",
       "\n",
       "       date_unregistration  module_presentation_length  \n",
       "count         32226.000000                32226.000000  \n",
       "mean            193.562031                  256.170825  \n",
       "std             104.965323                   13.145075  \n",
       "min            -206.000000                  234.000000  \n",
       "25%             138.000000                  241.000000  \n",
       "50%             241.000000                  262.000000  \n",
       "75%             268.000000                  268.000000  \n",
       "max             444.000000                  269.000000  "
      ]
     },
     "execution_count": 352,
     "metadata": {},
     "output_type": "execute_result"
    }
   ],
   "source": [
    "full_registrations = full_registrations[full_registrations['date_registration'] > -210]\n",
    "full_registrations.describe()"
   ]
  },
  {
   "cell_type": "markdown",
   "metadata": {
    "id": "GG-iWQe3LR5q"
   },
   "source": [
    "We have not lost too much data.  We also have course withdrawals AFTER the end of the course.  That does not seem to make sense.  We will drop those."
   ]
  },
  {
   "cell_type": "code",
   "execution_count": 353,
   "metadata": {},
   "outputs": [],
   "source": [
    "full_registrations = full_registrations[full_registrations['date_unregistration'] \n",
    "                                        < full_registrations['module_presentation_length']+1]"
   ]
  },
  {
   "cell_type": "code",
   "execution_count": 354,
   "metadata": {},
   "outputs": [
    {
     "data": {
      "text/html": [
       "<div>\n",
       "<style scoped>\n",
       "    .dataframe tbody tr th:only-of-type {\n",
       "        vertical-align: middle;\n",
       "    }\n",
       "\n",
       "    .dataframe tbody tr th {\n",
       "        vertical-align: top;\n",
       "    }\n",
       "\n",
       "    .dataframe thead th {\n",
       "        text-align: right;\n",
       "    }\n",
       "</style>\n",
       "<table border=\"1\" class=\"dataframe\">\n",
       "  <thead>\n",
       "    <tr style=\"text-align: right;\">\n",
       "      <th></th>\n",
       "      <th>id_student</th>\n",
       "      <th>num_of_prev_attempts</th>\n",
       "      <th>date_registration</th>\n",
       "      <th>date_unregistration</th>\n",
       "      <th>module_presentation_length</th>\n",
       "    </tr>\n",
       "  </thead>\n",
       "  <tbody>\n",
       "    <tr>\n",
       "      <th>count</th>\n",
       "      <td>3.222500e+04</td>\n",
       "      <td>32225.000000</td>\n",
       "      <td>32225.000000</td>\n",
       "      <td>32225.000000</td>\n",
       "      <td>32225.000000</td>\n",
       "    </tr>\n",
       "    <tr>\n",
       "      <th>mean</th>\n",
       "      <td>7.060132e+05</td>\n",
       "      <td>0.162824</td>\n",
       "      <td>-67.660140</td>\n",
       "      <td>193.554259</td>\n",
       "      <td>256.170458</td>\n",
       "    </tr>\n",
       "    <tr>\n",
       "      <th>std</th>\n",
       "      <td>5.474075e+05</td>\n",
       "      <td>0.478519</td>\n",
       "      <td>46.060073</td>\n",
       "      <td>104.957680</td>\n",
       "      <td>13.145114</td>\n",
       "    </tr>\n",
       "    <tr>\n",
       "      <th>min</th>\n",
       "      <td>3.733000e+03</td>\n",
       "      <td>0.000000</td>\n",
       "      <td>-209.000000</td>\n",
       "      <td>-206.000000</td>\n",
       "      <td>234.000000</td>\n",
       "    </tr>\n",
       "    <tr>\n",
       "      <th>25%</th>\n",
       "      <td>5.091020e+05</td>\n",
       "      <td>0.000000</td>\n",
       "      <td>-99.000000</td>\n",
       "      <td>138.000000</td>\n",
       "      <td>241.000000</td>\n",
       "    </tr>\n",
       "    <tr>\n",
       "      <th>50%</th>\n",
       "      <td>5.908280e+05</td>\n",
       "      <td>0.000000</td>\n",
       "      <td>-56.000000</td>\n",
       "      <td>241.000000</td>\n",
       "      <td>262.000000</td>\n",
       "    </tr>\n",
       "    <tr>\n",
       "      <th>75%</th>\n",
       "      <td>6.448470e+05</td>\n",
       "      <td>0.000000</td>\n",
       "      <td>-29.000000</td>\n",
       "      <td>268.000000</td>\n",
       "      <td>268.000000</td>\n",
       "    </tr>\n",
       "    <tr>\n",
       "      <th>max</th>\n",
       "      <td>2.698591e+06</td>\n",
       "      <td>6.000000</td>\n",
       "      <td>167.000000</td>\n",
       "      <td>269.000000</td>\n",
       "      <td>269.000000</td>\n",
       "    </tr>\n",
       "  </tbody>\n",
       "</table>\n",
       "</div>"
      ],
      "text/plain": [
       "         id_student  num_of_prev_attempts  date_registration  \\\n",
       "count  3.222500e+04          32225.000000       32225.000000   \n",
       "mean   7.060132e+05              0.162824         -67.660140   \n",
       "std    5.474075e+05              0.478519          46.060073   \n",
       "min    3.733000e+03              0.000000        -209.000000   \n",
       "25%    5.091020e+05              0.000000         -99.000000   \n",
       "50%    5.908280e+05              0.000000         -56.000000   \n",
       "75%    6.448470e+05              0.000000         -29.000000   \n",
       "max    2.698591e+06              6.000000         167.000000   \n",
       "\n",
       "       date_unregistration  module_presentation_length  \n",
       "count         32225.000000                32225.000000  \n",
       "mean            193.554259                  256.170458  \n",
       "std             104.957680                   13.145114  \n",
       "min            -206.000000                  234.000000  \n",
       "25%             138.000000                  241.000000  \n",
       "50%             241.000000                  262.000000  \n",
       "75%             268.000000                  268.000000  \n",
       "max             269.000000                  269.000000  "
      ]
     },
     "execution_count": 354,
     "metadata": {},
     "output_type": "execute_result"
    }
   ],
   "source": [
    "full_registrations.describe()"
   ]
  },
  {
   "cell_type": "code",
   "execution_count": 355,
   "metadata": {},
   "outputs": [
    {
     "name": "stdout",
     "output_type": "stream",
     "text": [
      "<class 'pandas.core.frame.DataFrame'>\n",
      "Int64Index: 32225 entries, 0 to 32592\n",
      "Data columns (total 12 columns):\n",
      " #   Column                      Non-Null Count  Dtype  \n",
      "---  ------                      --------------  -----  \n",
      " 0   code_module                 32225 non-null  object \n",
      " 1   code_presentation           32225 non-null  object \n",
      " 2   id_student                  32225 non-null  int64  \n",
      " 3   gender                      32225 non-null  object \n",
      " 4   highest_education           32225 non-null  object \n",
      " 5   age_band                    32225 non-null  object \n",
      " 6   num_of_prev_attempts        32225 non-null  int64  \n",
      " 7   disability                  32225 non-null  object \n",
      " 8   final_result                32225 non-null  object \n",
      " 9   date_registration           32225 non-null  float64\n",
      " 10  date_unregistration         32225 non-null  float64\n",
      " 11  module_presentation_length  32225 non-null  int64  \n",
      "dtypes: float64(2), int64(3), object(7)\n",
      "memory usage: 3.2+ MB\n"
     ]
    }
   ],
   "source": [
    "full_registrations.info()"
   ]
  },
  {
   "cell_type": "markdown",
   "metadata": {},
   "source": [
    "We are trying to look at student interaction activity as a predictor of course outcome, so students that unregister before the class begins won't help us.  We will drop them, too."
   ]
  },
  {
   "cell_type": "code",
   "execution_count": 356,
   "metadata": {},
   "outputs": [
    {
     "name": "stdout",
     "output_type": "stream",
     "text": [
      "<class 'pandas.core.frame.DataFrame'>\n",
      "Int64Index: 29265 entries, 0 to 32592\n",
      "Data columns (total 12 columns):\n",
      " #   Column                      Non-Null Count  Dtype  \n",
      "---  ------                      --------------  -----  \n",
      " 0   code_module                 29265 non-null  object \n",
      " 1   code_presentation           29265 non-null  object \n",
      " 2   id_student                  29265 non-null  int64  \n",
      " 3   gender                      29265 non-null  object \n",
      " 4   highest_education           29265 non-null  object \n",
      " 5   age_band                    29265 non-null  object \n",
      " 6   num_of_prev_attempts        29265 non-null  int64  \n",
      " 7   disability                  29265 non-null  object \n",
      " 8   final_result                29265 non-null  object \n",
      " 9   date_registration           29265 non-null  float64\n",
      " 10  date_unregistration         29265 non-null  float64\n",
      " 11  module_presentation_length  29265 non-null  int64  \n",
      "dtypes: float64(2), int64(3), object(7)\n",
      "memory usage: 2.9+ MB\n"
     ]
    }
   ],
   "source": [
    "full_registrations = full_registrations[full_registrations['date_unregistration'] > 0]\n",
    "full_registrations.info()"
   ]
  },
  {
   "cell_type": "markdown",
   "metadata": {},
   "source": [
    "We lost a lot there, about 10% of our database.  That hurts, but it was necessary.\n",
    "Now we need to figure out how soon we want to try to predict student outcomes.  A big part of this is preventing withdrawals, so lets let's look at the data for when people withdraw."
   ]
  },
  {
   "cell_type": "markdown",
   "metadata": {},
   "source": [
    "# When do we start our predictions?\n",
    "We won't be able to intervene for students that withdraw during our data gathering phase.  We might as well drop them from the dataset as well.  But what period do we draw data from?"
   ]
  },
  {
   "cell_type": "code",
   "execution_count": 357,
   "metadata": {},
   "outputs": [
    {
     "name": "stdout",
     "output_type": "stream",
     "text": [
      "Student withdrawals\n"
     ]
    },
    {
     "data": {
      "text/plain": [
       "count    6986.000000\n",
       "mean       89.120813\n",
       "std        69.913514\n",
       "min         1.000000\n",
       "25%        26.000000\n",
       "50%        73.000000\n",
       "75%       144.000000\n",
       "max       269.000000\n",
       "Name: date_unregistration, dtype: float64"
      ]
     },
     "execution_count": 357,
     "metadata": {},
     "output_type": "execute_result"
    }
   ],
   "source": [
    "print('Student withdrawals')\n",
    "full_registrations[full_registrations['final_result'] == 'Withdrawn']['date_unregistration'].describe()"
   ]
  },
  {
   "cell_type": "markdown",
   "metadata": {},
   "source": [
    "For students who withdraw after the start of the course and before the end, the average withdraws about three months in, half withdraw before in the 11th week, and a quarter withdraw before the end of the first month.  How many do we already lose if take data for the first 2 months in order to predict student outcomes"
   ]
  },
  {
   "cell_type": "code",
   "execution_count": 358,
   "metadata": {},
   "outputs": [
    {
     "data": {
      "text/plain": [
       "(6986, 12)"
      ]
     },
     "metadata": {},
     "output_type": "display_data"
    },
    {
     "data": {
      "text/plain": [
       "(4877, 12)"
      ]
     },
     "metadata": {},
     "output_type": "display_data"
    },
    {
     "data": {
      "text/plain": [
       "(10655280, 6)"
      ]
     },
     "metadata": {},
     "output_type": "display_data"
    },
    {
     "data": {
      "text/plain": [
       "(2907355, 6)"
      ]
     },
     "execution_count": 358,
     "metadata": {},
     "output_type": "execute_result"
    }
   ],
   "source": [
    "display(full_registrations[full_registrations['final_result'] == 'Withdrawn'].shape)\n",
    "display(full_registrations[(full_registrations['date_unregistration'] > 30) \n",
    "                 & (full_registrations['date_unregistration'] < full_registrations['module_presentation_length'])].shape)\n",
    "display(vle.shape)\n",
    "vle[vle.date < 30].shape"
   ]
  },
  {
   "cell_type": "markdown",
   "metadata": {},
   "source": [
    "If we use the data from the first 30 days to predict outcomes, we can potentially keep 5/7ths of the withdrawing students but only use 3/10s of our interaction data."
   ]
  },
  {
   "cell_type": "code",
   "execution_count": 359,
   "metadata": {},
   "outputs": [
    {
     "data": {
      "text/plain": [
       "(6986, 12)"
      ]
     },
     "metadata": {},
     "output_type": "display_data"
    },
    {
     "data": {
      "text/plain": [
       "(3785, 12)"
      ]
     },
     "metadata": {},
     "output_type": "display_data"
    },
    {
     "data": {
      "text/plain": [
       "(10655280, 6)"
      ]
     },
     "metadata": {},
     "output_type": "display_data"
    },
    {
     "data": {
      "text/plain": [
       "(4455870, 6)"
      ]
     },
     "execution_count": 359,
     "metadata": {},
     "output_type": "execute_result"
    }
   ],
   "source": [
    "display(full_registrations[full_registrations['final_result'] == 'Withdrawn'].shape)\n",
    "display(full_registrations[(full_registrations['date_unregistration'] > 60)\n",
    "                  & (full_registrations['date_unregistration'] < full_registrations['module_presentation_length'])].shape)\n",
    "display(vle.shape)\n",
    "vle[vle.date < 60].shape"
   ]
  },
  {
   "cell_type": "markdown",
   "metadata": {},
   "source": [
    "If we use data from the first 60 days of instruction, we can keep a little more than 1/2 of the withdrawing students and use a little less than 1/2 of our data. "
   ]
  },
  {
   "cell_type": "code",
   "execution_count": 360,
   "metadata": {},
   "outputs": [
    {
     "data": {
      "text/plain": [
       "(6986, 12)"
      ]
     },
     "metadata": {},
     "output_type": "display_data"
    },
    {
     "data": {
      "text/plain": [
       "(2999, 12)"
      ]
     },
     "metadata": {},
     "output_type": "display_data"
    },
    {
     "data": {
      "text/plain": [
       "(10655280, 6)"
      ]
     },
     "metadata": {},
     "output_type": "display_data"
    },
    {
     "data": {
      "text/plain": [
       "(5454846, 6)"
      ]
     },
     "execution_count": 360,
     "metadata": {},
     "output_type": "execute_result"
    }
   ],
   "source": [
    "display(full_registrations[full_registrations['final_result'] == 'Withdrawn'].shape)\n",
    "display(full_registrations[(full_registrations['date_unregistration'] > 90)\n",
    "                 & (full_registrations['date_unregistration'] < full_registrations['module_presentation_length'])].shape)\n",
    "display(vle.shape)\n",
    "vle[vle.date < 90].shape"
   ]
  },
  {
   "cell_type": "markdown",
   "metadata": {},
   "source": [
    "If we wait until 90 days, we can intervene for less than half of the students and use a little more than half of the vle data.  We want the greatest chance of success for our first model, so let's use the first 90 days of data to predict, even though it means we lose more than half of the withdrawing students."
   ]
  },
  {
   "cell_type": "code",
   "execution_count": 361,
   "metadata": {},
   "outputs": [],
   "source": [
    "full_registrations = full_registrations[full_registrations['date_unregistration'] > 90]\n",
    "full_registrations = full_registrations.drop(columns = ['date_unregistration'])"
   ]
  },
  {
   "cell_type": "code",
   "execution_count": 362,
   "metadata": {},
   "outputs": [
    {
     "name": "stdout",
     "output_type": "stream",
     "text": [
      "<class 'pandas.core.frame.DataFrame'>\n",
      "Int64Index: 25371 entries, 0 to 32592\n",
      "Data columns (total 11 columns):\n",
      " #   Column                      Non-Null Count  Dtype  \n",
      "---  ------                      --------------  -----  \n",
      " 0   code_module                 25371 non-null  object \n",
      " 1   code_presentation           25371 non-null  object \n",
      " 2   id_student                  25371 non-null  int64  \n",
      " 3   gender                      25371 non-null  object \n",
      " 4   highest_education           25371 non-null  object \n",
      " 5   age_band                    25371 non-null  object \n",
      " 6   num_of_prev_attempts        25371 non-null  int64  \n",
      " 7   disability                  25371 non-null  object \n",
      " 8   final_result                25371 non-null  object \n",
      " 9   date_registration           25371 non-null  float64\n",
      " 10  module_presentation_length  25371 non-null  int64  \n",
      "dtypes: float64(1), int64(3), object(7)\n",
      "memory usage: 2.3+ MB\n"
     ]
    }
   ],
   "source": [
    "full_registrations.info()"
   ]
  },
  {
   "cell_type": "code",
   "execution_count": null,
   "metadata": {},
   "outputs": [],
   "source": []
  },
  {
   "cell_type": "markdown",
   "metadata": {
    "id": "KflkC_dJmDK9"
   },
   "source": [
    "# Looks clean, let's save it"
   ]
  },
  {
   "cell_type": "code",
   "execution_count": 363,
   "metadata": {
    "id": "hQC0X048tvmk"
   },
   "outputs": [],
   "source": [
    "full_registrations.to_csv('content/cleaned_registrations.csv', index = False)"
   ]
  },
  {
   "cell_type": "code",
   "execution_count": 364,
   "metadata": {},
   "outputs": [
    {
     "data": {
      "text/html": [
       "<div>\n",
       "<style scoped>\n",
       "    .dataframe tbody tr th:only-of-type {\n",
       "        vertical-align: middle;\n",
       "    }\n",
       "\n",
       "    .dataframe tbody tr th {\n",
       "        vertical-align: top;\n",
       "    }\n",
       "\n",
       "    .dataframe thead th {\n",
       "        text-align: right;\n",
       "    }\n",
       "</style>\n",
       "<table border=\"1\" class=\"dataframe\">\n",
       "  <thead>\n",
       "    <tr style=\"text-align: right;\">\n",
       "      <th></th>\n",
       "      <th>id_student</th>\n",
       "      <th>num_of_prev_attempts</th>\n",
       "      <th>date_registration</th>\n",
       "      <th>module_presentation_length</th>\n",
       "    </tr>\n",
       "  </thead>\n",
       "  <tbody>\n",
       "    <tr>\n",
       "      <th>count</th>\n",
       "      <td>2.537100e+04</td>\n",
       "      <td>25371.000000</td>\n",
       "      <td>25371.000000</td>\n",
       "      <td>25371.000000</td>\n",
       "    </tr>\n",
       "    <tr>\n",
       "      <th>mean</th>\n",
       "      <td>7.066750e+05</td>\n",
       "      <td>0.158606</td>\n",
       "      <td>-64.434867</td>\n",
       "      <td>256.149856</td>\n",
       "    </tr>\n",
       "    <tr>\n",
       "      <th>std</th>\n",
       "      <td>5.518190e+05</td>\n",
       "      <td>0.469981</td>\n",
       "      <td>44.875864</td>\n",
       "      <td>13.120316</td>\n",
       "    </tr>\n",
       "    <tr>\n",
       "      <th>min</th>\n",
       "      <td>6.516000e+03</td>\n",
       "      <td>0.000000</td>\n",
       "      <td>-209.000000</td>\n",
       "      <td>234.000000</td>\n",
       "    </tr>\n",
       "    <tr>\n",
       "      <th>25%</th>\n",
       "      <td>5.062125e+05</td>\n",
       "      <td>0.000000</td>\n",
       "      <td>-93.000000</td>\n",
       "      <td>241.000000</td>\n",
       "    </tr>\n",
       "    <tr>\n",
       "      <th>50%</th>\n",
       "      <td>5.894410e+05</td>\n",
       "      <td>0.000000</td>\n",
       "      <td>-52.000000</td>\n",
       "      <td>262.000000</td>\n",
       "    </tr>\n",
       "    <tr>\n",
       "      <th>75%</th>\n",
       "      <td>6.413220e+05</td>\n",
       "      <td>0.000000</td>\n",
       "      <td>-29.000000</td>\n",
       "      <td>268.000000</td>\n",
       "    </tr>\n",
       "    <tr>\n",
       "      <th>max</th>\n",
       "      <td>2.698588e+06</td>\n",
       "      <td>6.000000</td>\n",
       "      <td>167.000000</td>\n",
       "      <td>269.000000</td>\n",
       "    </tr>\n",
       "  </tbody>\n",
       "</table>\n",
       "</div>"
      ],
      "text/plain": [
       "         id_student  num_of_prev_attempts  date_registration  \\\n",
       "count  2.537100e+04          25371.000000       25371.000000   \n",
       "mean   7.066750e+05              0.158606         -64.434867   \n",
       "std    5.518190e+05              0.469981          44.875864   \n",
       "min    6.516000e+03              0.000000        -209.000000   \n",
       "25%    5.062125e+05              0.000000         -93.000000   \n",
       "50%    5.894410e+05              0.000000         -52.000000   \n",
       "75%    6.413220e+05              0.000000         -29.000000   \n",
       "max    2.698588e+06              6.000000         167.000000   \n",
       "\n",
       "       module_presentation_length  \n",
       "count                25371.000000  \n",
       "mean                   256.149856  \n",
       "std                     13.120316  \n",
       "min                    234.000000  \n",
       "25%                    241.000000  \n",
       "50%                    262.000000  \n",
       "75%                    268.000000  \n",
       "max                    269.000000  "
      ]
     },
     "execution_count": 364,
     "metadata": {},
     "output_type": "execute_result"
    }
   ],
   "source": [
    "full_registrations.describe()"
   ]
  },
  {
   "cell_type": "code",
   "execution_count": null,
   "metadata": {},
   "outputs": [],
   "source": []
  }
 ],
 "metadata": {
  "colab": {
   "collapsed_sections": [],
   "name": "OU_clean_registrations.ipynb",
   "private_outputs": true,
   "provenance": []
  },
  "kernelspec": {
   "display_name": "Python 3",
   "language": "python",
   "name": "python3"
  },
  "language_info": {
   "codemirror_mode": {
    "name": "ipython",
    "version": 3
   },
   "file_extension": ".py",
   "mimetype": "text/x-python",
   "name": "python",
   "nbconvert_exporter": "python",
   "pygments_lexer": "ipython3",
   "version": "3.8.3"
  }
 },
 "nbformat": 4,
 "nbformat_minor": 1
}
